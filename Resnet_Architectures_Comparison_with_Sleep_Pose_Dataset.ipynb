{
  "cells": [
    {
      "cell_type": "markdown",
      "metadata": {
        "id": "view-in-github",
        "colab_type": "text"
      },
      "source": [
        "<a href=\"https://colab.research.google.com/github/ssrakuen/skripsi-notebook/blob/main/Resnet_Architectures_Comparison_with_Sleep_Pose_Dataset.ipynb\" target=\"_parent\"><img src=\"https://colab.research.google.com/assets/colab-badge.svg\" alt=\"Open In Colab\"/></a>"
      ]
    },
    {
      "cell_type": "markdown",
      "metadata": {
        "id": "351LF5aRjaDF"
      },
      "source": [
        "# Libraries"
      ]
    },
    {
      "cell_type": "code",
      "execution_count": null,
      "metadata": {
        "colab": {
          "base_uri": "https://localhost:8080/"
        },
        "id": "jAxVSeI6vl3I",
        "outputId": "8011c158-cab4-4060-d4b1-3f27a13a498e"
      },
      "outputs": [
        {
          "output_type": "stream",
          "name": "stdout",
          "text": [
            "Mounted at /content/drive\n"
          ]
        }
      ],
      "source": [
        "from google.colab import drive\n",
        "drive.mount('/content/drive')"
      ]
    },
    {
      "cell_type": "code",
      "execution_count": null,
      "metadata": {
        "colab": {
          "base_uri": "https://localhost:8080/"
        },
        "id": "fgWKr6q2jiy1",
        "outputId": "d6ba0eee-d713-47fc-fc78-89ffca750153",
        "collapsed": true
      },
      "outputs": [
        {
          "output_type": "stream",
          "name": "stdout",
          "text": [
            "Requirement already satisfied: torch in /usr/local/lib/python3.10/dist-packages (2.3.0+cu121)\n",
            "Requirement already satisfied: torchvision in /usr/local/lib/python3.10/dist-packages (0.18.0+cu121)\n",
            "Requirement already satisfied: tensorboard in /usr/local/lib/python3.10/dist-packages (2.15.2)\n",
            "Requirement already satisfied: scikit-learn in /usr/local/lib/python3.10/dist-packages (1.2.2)\n",
            "Requirement already satisfied: tqdm in /usr/local/lib/python3.10/dist-packages (4.66.4)\n",
            "Requirement already satisfied: filelock in /usr/local/lib/python3.10/dist-packages (from torch) (3.14.0)\n",
            "Requirement already satisfied: typing-extensions>=4.8.0 in /usr/local/lib/python3.10/dist-packages (from torch) (4.12.1)\n",
            "Requirement already satisfied: sympy in /usr/local/lib/python3.10/dist-packages (from torch) (1.12.1)\n",
            "Requirement already satisfied: networkx in /usr/local/lib/python3.10/dist-packages (from torch) (3.3)\n",
            "Requirement already satisfied: jinja2 in /usr/local/lib/python3.10/dist-packages (from torch) (3.1.4)\n",
            "Requirement already satisfied: fsspec in /usr/local/lib/python3.10/dist-packages (from torch) (2023.6.0)\n",
            "Collecting nvidia-cuda-nvrtc-cu12==12.1.105 (from torch)\n",
            "  Using cached nvidia_cuda_nvrtc_cu12-12.1.105-py3-none-manylinux1_x86_64.whl (23.7 MB)\n",
            "Collecting nvidia-cuda-runtime-cu12==12.1.105 (from torch)\n",
            "  Using cached nvidia_cuda_runtime_cu12-12.1.105-py3-none-manylinux1_x86_64.whl (823 kB)\n",
            "Collecting nvidia-cuda-cupti-cu12==12.1.105 (from torch)\n",
            "  Using cached nvidia_cuda_cupti_cu12-12.1.105-py3-none-manylinux1_x86_64.whl (14.1 MB)\n",
            "Collecting nvidia-cudnn-cu12==8.9.2.26 (from torch)\n",
            "  Using cached nvidia_cudnn_cu12-8.9.2.26-py3-none-manylinux1_x86_64.whl (731.7 MB)\n",
            "Collecting nvidia-cublas-cu12==12.1.3.1 (from torch)\n",
            "  Using cached nvidia_cublas_cu12-12.1.3.1-py3-none-manylinux1_x86_64.whl (410.6 MB)\n",
            "Collecting nvidia-cufft-cu12==11.0.2.54 (from torch)\n",
            "  Using cached nvidia_cufft_cu12-11.0.2.54-py3-none-manylinux1_x86_64.whl (121.6 MB)\n",
            "Collecting nvidia-curand-cu12==10.3.2.106 (from torch)\n",
            "  Using cached nvidia_curand_cu12-10.3.2.106-py3-none-manylinux1_x86_64.whl (56.5 MB)\n",
            "Collecting nvidia-cusolver-cu12==11.4.5.107 (from torch)\n",
            "  Using cached nvidia_cusolver_cu12-11.4.5.107-py3-none-manylinux1_x86_64.whl (124.2 MB)\n",
            "Collecting nvidia-cusparse-cu12==12.1.0.106 (from torch)\n",
            "  Using cached nvidia_cusparse_cu12-12.1.0.106-py3-none-manylinux1_x86_64.whl (196.0 MB)\n",
            "Collecting nvidia-nccl-cu12==2.20.5 (from torch)\n",
            "  Using cached nvidia_nccl_cu12-2.20.5-py3-none-manylinux2014_x86_64.whl (176.2 MB)\n",
            "Collecting nvidia-nvtx-cu12==12.1.105 (from torch)\n",
            "  Using cached nvidia_nvtx_cu12-12.1.105-py3-none-manylinux1_x86_64.whl (99 kB)\n",
            "Requirement already satisfied: triton==2.3.0 in /usr/local/lib/python3.10/dist-packages (from torch) (2.3.0)\n",
            "Collecting nvidia-nvjitlink-cu12 (from nvidia-cusolver-cu12==11.4.5.107->torch)\n",
            "  Downloading nvidia_nvjitlink_cu12-12.5.40-py3-none-manylinux2014_x86_64.whl (21.3 MB)\n",
            "\u001b[2K     \u001b[90m━━━━━━━━━━━━━━━━━━━━━━━━━━━━━━━━━━━━━━━━\u001b[0m \u001b[32m21.3/21.3 MB\u001b[0m \u001b[31m22.8 MB/s\u001b[0m eta \u001b[36m0:00:00\u001b[0m\n",
            "\u001b[?25hRequirement already satisfied: numpy in /usr/local/lib/python3.10/dist-packages (from torchvision) (1.25.2)\n",
            "Requirement already satisfied: pillow!=8.3.*,>=5.3.0 in /usr/local/lib/python3.10/dist-packages (from torchvision) (9.4.0)\n",
            "Requirement already satisfied: absl-py>=0.4 in /usr/local/lib/python3.10/dist-packages (from tensorboard) (1.4.0)\n",
            "Requirement already satisfied: grpcio>=1.48.2 in /usr/local/lib/python3.10/dist-packages (from tensorboard) (1.64.1)\n",
            "Requirement already satisfied: google-auth<3,>=1.6.3 in /usr/local/lib/python3.10/dist-packages (from tensorboard) (2.27.0)\n",
            "Requirement already satisfied: google-auth-oauthlib<2,>=0.5 in /usr/local/lib/python3.10/dist-packages (from tensorboard) (1.2.0)\n",
            "Requirement already satisfied: markdown>=2.6.8 in /usr/local/lib/python3.10/dist-packages (from tensorboard) (3.6)\n",
            "Requirement already satisfied: protobuf!=4.24.0,>=3.19.6 in /usr/local/lib/python3.10/dist-packages (from tensorboard) (3.20.3)\n",
            "Requirement already satisfied: requests<3,>=2.21.0 in /usr/local/lib/python3.10/dist-packages (from tensorboard) (2.31.0)\n",
            "Requirement already satisfied: setuptools>=41.0.0 in /usr/local/lib/python3.10/dist-packages (from tensorboard) (67.7.2)\n",
            "Requirement already satisfied: six>1.9 in /usr/local/lib/python3.10/dist-packages (from tensorboard) (1.16.0)\n",
            "Requirement already satisfied: tensorboard-data-server<0.8.0,>=0.7.0 in /usr/local/lib/python3.10/dist-packages (from tensorboard) (0.7.2)\n",
            "Requirement already satisfied: werkzeug>=1.0.1 in /usr/local/lib/python3.10/dist-packages (from tensorboard) (3.0.3)\n",
            "Requirement already satisfied: scipy>=1.3.2 in /usr/local/lib/python3.10/dist-packages (from scikit-learn) (1.11.4)\n",
            "Requirement already satisfied: joblib>=1.1.1 in /usr/local/lib/python3.10/dist-packages (from scikit-learn) (1.4.2)\n",
            "Requirement already satisfied: threadpoolctl>=2.0.0 in /usr/local/lib/python3.10/dist-packages (from scikit-learn) (3.5.0)\n",
            "Requirement already satisfied: cachetools<6.0,>=2.0.0 in /usr/local/lib/python3.10/dist-packages (from google-auth<3,>=1.6.3->tensorboard) (5.3.3)\n",
            "Requirement already satisfied: pyasn1-modules>=0.2.1 in /usr/local/lib/python3.10/dist-packages (from google-auth<3,>=1.6.3->tensorboard) (0.4.0)\n",
            "Requirement already satisfied: rsa<5,>=3.1.4 in /usr/local/lib/python3.10/dist-packages (from google-auth<3,>=1.6.3->tensorboard) (4.9)\n",
            "Requirement already satisfied: requests-oauthlib>=0.7.0 in /usr/local/lib/python3.10/dist-packages (from google-auth-oauthlib<2,>=0.5->tensorboard) (1.3.1)\n",
            "Requirement already satisfied: charset-normalizer<4,>=2 in /usr/local/lib/python3.10/dist-packages (from requests<3,>=2.21.0->tensorboard) (3.3.2)\n",
            "Requirement already satisfied: idna<4,>=2.5 in /usr/local/lib/python3.10/dist-packages (from requests<3,>=2.21.0->tensorboard) (3.7)\n",
            "Requirement already satisfied: urllib3<3,>=1.21.1 in /usr/local/lib/python3.10/dist-packages (from requests<3,>=2.21.0->tensorboard) (2.0.7)\n",
            "Requirement already satisfied: certifi>=2017.4.17 in /usr/local/lib/python3.10/dist-packages (from requests<3,>=2.21.0->tensorboard) (2024.6.2)\n",
            "Requirement already satisfied: MarkupSafe>=2.1.1 in /usr/local/lib/python3.10/dist-packages (from werkzeug>=1.0.1->tensorboard) (2.1.5)\n",
            "Requirement already satisfied: mpmath<1.4.0,>=1.1.0 in /usr/local/lib/python3.10/dist-packages (from sympy->torch) (1.3.0)\n",
            "Requirement already satisfied: pyasn1<0.7.0,>=0.4.6 in /usr/local/lib/python3.10/dist-packages (from pyasn1-modules>=0.2.1->google-auth<3,>=1.6.3->tensorboard) (0.6.0)\n",
            "Requirement already satisfied: oauthlib>=3.0.0 in /usr/local/lib/python3.10/dist-packages (from requests-oauthlib>=0.7.0->google-auth-oauthlib<2,>=0.5->tensorboard) (3.2.2)\n",
            "Installing collected packages: nvidia-nvtx-cu12, nvidia-nvjitlink-cu12, nvidia-nccl-cu12, nvidia-curand-cu12, nvidia-cufft-cu12, nvidia-cuda-runtime-cu12, nvidia-cuda-nvrtc-cu12, nvidia-cuda-cupti-cu12, nvidia-cublas-cu12, nvidia-cusparse-cu12, nvidia-cudnn-cu12, nvidia-cusolver-cu12\n",
            "Successfully installed nvidia-cublas-cu12-12.1.3.1 nvidia-cuda-cupti-cu12-12.1.105 nvidia-cuda-nvrtc-cu12-12.1.105 nvidia-cuda-runtime-cu12-12.1.105 nvidia-cudnn-cu12-8.9.2.26 nvidia-cufft-cu12-11.0.2.54 nvidia-curand-cu12-10.3.2.106 nvidia-cusolver-cu12-11.4.5.107 nvidia-cusparse-cu12-12.1.0.106 nvidia-nccl-cu12-2.20.5 nvidia-nvjitlink-cu12-12.5.40 nvidia-nvtx-cu12-12.1.105\n"
          ]
        }
      ],
      "source": [
        "# Install necessary libraries\n",
        "!pip install torch torchvision tensorboard scikit-learn tqdm\n",
        "\n",
        "# Import necessary libraries\n",
        "import torch\n",
        "import torch.nn as nn\n",
        "import torch.optim as optim\n",
        "from torch.utils.data import DataLoader, random_split\n",
        "from torchvision import datasets, transforms, models\n",
        "from sklearn.metrics import accuracy_score, precision_score, recall_score, f1_score\n",
        "from sklearn.model_selection import GridSearchCV\n",
        "from torch.utils.tensorboard import SummaryWriter\n",
        "import time\n",
        "import os\n",
        "import numpy as np\n",
        "from tqdm import tqdm"
      ]
    },
    {
      "cell_type": "markdown",
      "metadata": {
        "id": "NgHDzrtwjt40"
      },
      "source": [
        "# Set Device, Dataset, and Train Settings"
      ]
    },
    {
      "cell_type": "code",
      "execution_count": null,
      "metadata": {
        "id": "_2581QNsjxXv"
      },
      "outputs": [],
      "source": [
        "# Set device\n",
        "device = torch.device('cuda' if torch.cuda.is_available() else 'cpu')"
      ]
    },
    {
      "cell_type": "code",
      "execution_count": null,
      "metadata": {
        "id": "r0GcUj9Uj2mJ",
        "colab": {
          "base_uri": "https://localhost:8080/"
        },
        "outputId": "53528dca-b19b-4ed5-8bb4-898c3d0d3f8e",
        "collapsed": true
      },
      "outputs": [
        {
          "output_type": "stream",
          "name": "stderr",
          "text": [
            "Downloading: \"https://download.pytorch.org/models/resnet101-cd907fc2.pth\" to /root/.cache/torch/hub/checkpoints/resnet101-cd907fc2.pth\n",
            "100%|██████████| 171M/171M [00:02<00:00, 87.1MB/s]\n",
            "Downloading: \"https://download.pytorch.org/models/resnet152-f82ba261.pth\" to /root/.cache/torch/hub/checkpoints/resnet152-f82ba261.pth\n",
            "100%|██████████| 230M/230M [00:02<00:00, 84.2MB/s]\n"
          ]
        }
      ],
      "source": [
        "# Define data transformations\n",
        "transform = transforms.Compose([\n",
        "    transforms.Resize((224, 224)),\n",
        "    transforms.ToTensor(),\n",
        "    transforms.Normalize([0.485, 0.456, 0.406], [0.229, 0.224, 0.225])\n",
        "])\n",
        "\n",
        "# Load dataset\n",
        "data_dir = '/content/drive/MyDrive/Machine_Learning/Datasets/sleep_pose_dataset/A1A2'\n",
        "\n",
        "train_dataset = datasets.ImageFolder(root=os.path.join(data_dir, 'train'), transform=transform)\n",
        "val_dataset = datasets.ImageFolder(root=os.path.join(data_dir, 'val'), transform=transform)\n",
        "test_dataset = datasets.ImageFolder(root=os.path.join(data_dir, 'test'), transform=transform)\n",
        "\n",
        "train_loader = DataLoader(train_dataset, batch_size=32, shuffle=True)\n",
        "val_loader = DataLoader(val_dataset, batch_size=32, shuffle=False)\n",
        "test_loader = DataLoader(test_dataset, batch_size=32, shuffle=False)\n",
        "\n",
        "# Define ResNet architectures to test\n",
        "resnet_versions = {\n",
        "    # 'resnet18': models.resnet18(weights=models.ResNet18_Weights.DEFAULT),\n",
        "    # 'resnet34': models.resnet34(weights=models.ResNet34_Weights.DEFAULT),\n",
        "    # 'resnet50': models.resnet50(weights=models.ResNet50_Weights.DEFAULT),\n",
        "    'resnet101': models.resnet101(weights=models.ResNet101_Weights.DEFAULT),\n",
        "    'resnet152': models.resnet152(weights=models.ResNet152_Weights.DEFAULT)\n",
        "}\n",
        "\n",
        "# Modify the last fully connected layer to match the number of classes (3 in this case)\n",
        "for version, model in resnet_versions.items():\n",
        "    model.fc = nn.Linear(model.fc.in_features, 3)\n",
        "    resnet_versions[version] = model.to(device)\n",
        "\n",
        "# Define hyperparameters and parameter grid for GridSearch\n",
        "param_grid = {\n",
        "    'lr': [0.001, 0.0001],\n",
        "    'batch_size': [16, 32, 64]\n",
        "}\n",
        "\n",
        "# Initialize TensorBoard writer\n",
        "writer = SummaryWriter()"
      ]
    },
    {
      "cell_type": "markdown",
      "metadata": {
        "id": "4xTg-ZR-wyAp"
      },
      "source": [
        "# Train and Eval"
      ]
    },
    {
      "cell_type": "code",
      "execution_count": null,
      "metadata": {
        "colab": {
          "base_uri": "https://localhost:8080/"
        },
        "id": "ihtSFaBEw14Q",
        "outputId": "3daa4cbe-0494-4f66-b975-c6328744f76a"
      },
      "outputs": [
        {
          "output_type": "stream",
          "name": "stdout",
          "text": [
            "Training resnet101 with lr=0.001 and batch_size=16\n"
          ]
        },
        {
          "output_type": "stream",
          "name": "stderr",
          "text": [
            "Training Epoch 1/25: 100%|██████████| 113/113 [00:42<00:00,  2.63it/s]\n",
            "Validation Epoch 1/25: 100%|██████████| 29/29 [00:04<00:00,  6.38it/s]\n"
          ]
        },
        {
          "output_type": "stream",
          "name": "stdout",
          "text": [
            "Epoch 0/24, Loss: 0.0309, Acc: 0.9933, Val Loss: 0.0026, Val Acc: 1.0000\n"
          ]
        },
        {
          "output_type": "stream",
          "name": "stderr",
          "text": [
            "Training Epoch 2/25: 100%|██████████| 113/113 [00:38<00:00,  2.92it/s]\n",
            "Validation Epoch 2/25: 100%|██████████| 29/29 [00:04<00:00,  6.30it/s]\n"
          ]
        },
        {
          "output_type": "stream",
          "name": "stdout",
          "text": [
            "Epoch 1/24, Loss: 0.0068, Acc: 0.9983, Val Loss: 0.0071, Val Acc: 0.9978\n"
          ]
        },
        {
          "output_type": "stream",
          "name": "stderr",
          "text": [
            "Training Epoch 3/25: 100%|██████████| 113/113 [00:39<00:00,  2.85it/s]\n",
            "Validation Epoch 3/25: 100%|██████████| 29/29 [00:05<00:00,  5.22it/s]\n"
          ]
        },
        {
          "output_type": "stream",
          "name": "stdout",
          "text": [
            "Epoch 2/24, Loss: 0.0479, Acc: 0.9861, Val Loss: 0.7667, Val Acc: 0.8835\n"
          ]
        },
        {
          "output_type": "stream",
          "name": "stderr",
          "text": [
            "Training Epoch 4/25: 100%|██████████| 113/113 [00:38<00:00,  2.92it/s]\n",
            "Validation Epoch 4/25: 100%|██████████| 29/29 [00:04<00:00,  6.23it/s]\n"
          ]
        },
        {
          "output_type": "stream",
          "name": "stdout",
          "text": [
            "Epoch 3/24, Loss: 0.0277, Acc: 0.9889, Val Loss: 0.0102, Val Acc: 0.9978\n"
          ]
        },
        {
          "output_type": "stream",
          "name": "stderr",
          "text": [
            "Training Epoch 5/25: 100%|██████████| 113/113 [00:38<00:00,  2.93it/s]\n",
            "Validation Epoch 5/25: 100%|██████████| 29/29 [00:04<00:00,  6.39it/s]\n"
          ]
        },
        {
          "output_type": "stream",
          "name": "stdout",
          "text": [
            "Epoch 4/24, Loss: 0.0048, Acc: 0.9994, Val Loss: 0.0024, Val Acc: 1.0000\n"
          ]
        },
        {
          "output_type": "stream",
          "name": "stderr",
          "text": [
            "Training Epoch 6/25: 100%|██████████| 113/113 [00:38<00:00,  2.93it/s]\n",
            "Validation Epoch 6/25: 100%|██████████| 29/29 [00:04<00:00,  6.60it/s]\n"
          ]
        },
        {
          "output_type": "stream",
          "name": "stdout",
          "text": [
            "Epoch 5/24, Loss: 0.0072, Acc: 0.9983, Val Loss: 0.0010, Val Acc: 1.0000\n"
          ]
        },
        {
          "output_type": "stream",
          "name": "stderr",
          "text": [
            "Training Epoch 7/25: 100%|██████████| 113/113 [00:38<00:00,  2.91it/s]\n",
            "Validation Epoch 7/25: 100%|██████████| 29/29 [00:04<00:00,  6.96it/s]\n"
          ]
        },
        {
          "output_type": "stream",
          "name": "stdout",
          "text": [
            "Epoch 6/24, Loss: 0.0023, Acc: 0.9989, Val Loss: 0.0006, Val Acc: 1.0000\n"
          ]
        },
        {
          "output_type": "stream",
          "name": "stderr",
          "text": [
            "Training Epoch 8/25: 100%|██████████| 113/113 [00:38<00:00,  2.90it/s]\n",
            "Validation Epoch 8/25: 100%|██████████| 29/29 [00:04<00:00,  6.85it/s]\n"
          ]
        },
        {
          "output_type": "stream",
          "name": "stdout",
          "text": [
            "Epoch 7/24, Loss: 0.0027, Acc: 0.9994, Val Loss: 0.0516, Val Acc: 0.9868\n"
          ]
        },
        {
          "output_type": "stream",
          "name": "stderr",
          "text": [
            "Training Epoch 9/25: 100%|██████████| 113/113 [00:38<00:00,  2.92it/s]\n",
            "Validation Epoch 9/25: 100%|██████████| 29/29 [00:04<00:00,  6.88it/s]\n"
          ]
        },
        {
          "output_type": "stream",
          "name": "stdout",
          "text": [
            "Epoch 8/24, Loss: 0.0124, Acc: 0.9961, Val Loss: 0.0628, Val Acc: 0.9890\n"
          ]
        },
        {
          "output_type": "stream",
          "name": "stderr",
          "text": [
            "Training Epoch 10/25: 100%|██████████| 113/113 [00:38<00:00,  2.91it/s]\n",
            "Validation Epoch 10/25: 100%|██████████| 29/29 [00:04<00:00,  6.77it/s]\n"
          ]
        },
        {
          "output_type": "stream",
          "name": "stdout",
          "text": [
            "Epoch 9/24, Loss: 0.0546, Acc: 0.9856, Val Loss: 0.0238, Val Acc: 0.9912\n"
          ]
        },
        {
          "output_type": "stream",
          "name": "stderr",
          "text": [
            "Training Epoch 11/25: 100%|██████████| 113/113 [00:38<00:00,  2.93it/s]\n",
            "Validation Epoch 11/25: 100%|██████████| 29/29 [00:04<00:00,  6.82it/s]\n"
          ]
        },
        {
          "output_type": "stream",
          "name": "stdout",
          "text": [
            "Epoch 10/24, Loss: 0.0042, Acc: 0.9989, Val Loss: 0.0035, Val Acc: 0.9978\n"
          ]
        },
        {
          "output_type": "stream",
          "name": "stderr",
          "text": [
            "Training Epoch 12/25: 100%|██████████| 113/113 [00:38<00:00,  2.92it/s]\n",
            "Validation Epoch 12/25: 100%|██████████| 29/29 [00:04<00:00,  6.51it/s]\n"
          ]
        },
        {
          "output_type": "stream",
          "name": "stdout",
          "text": [
            "Epoch 11/24, Loss: 0.0003, Acc: 1.0000, Val Loss: 0.0002, Val Acc: 1.0000\n"
          ]
        },
        {
          "output_type": "stream",
          "name": "stderr",
          "text": [
            "Training Epoch 13/25: 100%|██████████| 113/113 [00:38<00:00,  2.92it/s]\n",
            "Validation Epoch 13/25: 100%|██████████| 29/29 [00:04<00:00,  6.07it/s]\n"
          ]
        },
        {
          "output_type": "stream",
          "name": "stdout",
          "text": [
            "Epoch 12/24, Loss: 0.0002, Acc: 1.0000, Val Loss: 0.0013, Val Acc: 1.0000\n"
          ]
        },
        {
          "output_type": "stream",
          "name": "stderr",
          "text": [
            "Training Epoch 14/25: 100%|██████████| 113/113 [00:38<00:00,  2.92it/s]\n",
            "Validation Epoch 14/25: 100%|██████████| 29/29 [00:04<00:00,  6.41it/s]\n"
          ]
        },
        {
          "output_type": "stream",
          "name": "stdout",
          "text": [
            "Epoch 13/24, Loss: 0.0001, Acc: 1.0000, Val Loss: 0.0008, Val Acc: 1.0000\n"
          ]
        },
        {
          "output_type": "stream",
          "name": "stderr",
          "text": [
            "Training Epoch 15/25: 100%|██████████| 113/113 [00:38<00:00,  2.91it/s]\n",
            "Validation Epoch 15/25: 100%|██████████| 29/29 [00:04<00:00,  6.47it/s]\n"
          ]
        },
        {
          "output_type": "stream",
          "name": "stdout",
          "text": [
            "Epoch 14/24, Loss: 0.0001, Acc: 1.0000, Val Loss: 0.0017, Val Acc: 1.0000\n"
          ]
        },
        {
          "output_type": "stream",
          "name": "stderr",
          "text": [
            "Training Epoch 16/25: 100%|██████████| 113/113 [00:38<00:00,  2.92it/s]\n",
            "Validation Epoch 16/25: 100%|██████████| 29/29 [00:04<00:00,  6.83it/s]\n"
          ]
        },
        {
          "output_type": "stream",
          "name": "stdout",
          "text": [
            "Epoch 15/24, Loss: 0.0001, Acc: 1.0000, Val Loss: 0.0010, Val Acc: 1.0000\n"
          ]
        },
        {
          "output_type": "stream",
          "name": "stderr",
          "text": [
            "Training Epoch 17/25: 100%|██████████| 113/113 [00:38<00:00,  2.92it/s]\n",
            "Validation Epoch 17/25: 100%|██████████| 29/29 [00:04<00:00,  6.54it/s]\n"
          ]
        },
        {
          "output_type": "stream",
          "name": "stdout",
          "text": [
            "Epoch 16/24, Loss: 0.0000, Acc: 1.0000, Val Loss: 0.0004, Val Acc: 1.0000\n"
          ]
        },
        {
          "output_type": "stream",
          "name": "stderr",
          "text": [
            "Training Epoch 18/25: 100%|██████████| 113/113 [00:38<00:00,  2.91it/s]\n",
            "Validation Epoch 18/25: 100%|██████████| 29/29 [00:04<00:00,  6.80it/s]\n"
          ]
        },
        {
          "output_type": "stream",
          "name": "stdout",
          "text": [
            "Epoch 17/24, Loss: 0.0000, Acc: 1.0000, Val Loss: 0.0003, Val Acc: 1.0000\n"
          ]
        },
        {
          "output_type": "stream",
          "name": "stderr",
          "text": [
            "Training Epoch 19/25: 100%|██████████| 113/113 [00:38<00:00,  2.92it/s]\n",
            "Validation Epoch 19/25: 100%|██████████| 29/29 [00:04<00:00,  6.75it/s]\n"
          ]
        },
        {
          "output_type": "stream",
          "name": "stdout",
          "text": [
            "Epoch 18/24, Loss: 0.0000, Acc: 1.0000, Val Loss: 0.0008, Val Acc: 1.0000\n"
          ]
        },
        {
          "output_type": "stream",
          "name": "stderr",
          "text": [
            "Training Epoch 20/25: 100%|██████████| 113/113 [00:38<00:00,  2.92it/s]\n",
            "Validation Epoch 20/25: 100%|██████████| 29/29 [00:04<00:00,  6.80it/s]\n"
          ]
        },
        {
          "output_type": "stream",
          "name": "stdout",
          "text": [
            "Epoch 19/24, Loss: 0.0000, Acc: 1.0000, Val Loss: 0.0006, Val Acc: 1.0000\n"
          ]
        },
        {
          "output_type": "stream",
          "name": "stderr",
          "text": [
            "Training Epoch 21/25: 100%|██████████| 113/113 [00:38<00:00,  2.92it/s]\n",
            "Validation Epoch 21/25: 100%|██████████| 29/29 [00:04<00:00,  6.78it/s]\n"
          ]
        },
        {
          "output_type": "stream",
          "name": "stdout",
          "text": [
            "Epoch 20/24, Loss: 0.0000, Acc: 1.0000, Val Loss: 0.0006, Val Acc: 1.0000\n"
          ]
        },
        {
          "output_type": "stream",
          "name": "stderr",
          "text": [
            "Training Epoch 22/25: 100%|██████████| 113/113 [00:38<00:00,  2.92it/s]\n",
            "Validation Epoch 22/25: 100%|██████████| 29/29 [00:04<00:00,  6.03it/s]\n"
          ]
        },
        {
          "output_type": "stream",
          "name": "stdout",
          "text": [
            "Epoch 21/24, Loss: 0.0000, Acc: 1.0000, Val Loss: 0.0016, Val Acc: 1.0000\n"
          ]
        },
        {
          "output_type": "stream",
          "name": "stderr",
          "text": [
            "Training Epoch 23/25: 100%|██████████| 113/113 [00:38<00:00,  2.91it/s]\n",
            "Validation Epoch 23/25: 100%|██████████| 29/29 [00:04<00:00,  6.22it/s]\n"
          ]
        },
        {
          "output_type": "stream",
          "name": "stdout",
          "text": [
            "Epoch 22/24, Loss: 0.0000, Acc: 1.0000, Val Loss: 0.0008, Val Acc: 1.0000\n"
          ]
        },
        {
          "output_type": "stream",
          "name": "stderr",
          "text": [
            "Training Epoch 24/25: 100%|██████████| 113/113 [00:38<00:00,  2.92it/s]\n",
            "Validation Epoch 24/25: 100%|██████████| 29/29 [00:04<00:00,  6.31it/s]\n"
          ]
        },
        {
          "output_type": "stream",
          "name": "stdout",
          "text": [
            "Epoch 23/24, Loss: 0.0001, Acc: 1.0000, Val Loss: 0.0019, Val Acc: 1.0000\n"
          ]
        },
        {
          "output_type": "stream",
          "name": "stderr",
          "text": [
            "Training Epoch 25/25: 100%|██████████| 113/113 [00:38<00:00,  2.93it/s]\n",
            "Validation Epoch 25/25: 100%|██████████| 29/29 [00:04<00:00,  6.45it/s]\n"
          ]
        },
        {
          "output_type": "stream",
          "name": "stdout",
          "text": [
            "Epoch 24/24, Loss: 0.0000, Acc: 1.0000, Val Loss: 0.0010, Val Acc: 1.0000\n"
          ]
        },
        {
          "output_type": "stream",
          "name": "stderr",
          "text": [
            "Evaluating: 100%|██████████| 18/18 [03:39<00:00, 12.22s/it]\n"
          ]
        },
        {
          "output_type": "stream",
          "name": "stdout",
          "text": [
            "Accuracy: 1.0000, Precision: 1.0000, Recall: 1.0000, F1 Score: 1.0000\n",
            "Training resnet101 with lr=0.001 and batch_size=32\n"
          ]
        },
        {
          "output_type": "stream",
          "name": "stderr",
          "text": [
            "Training Epoch 1/25: 100%|██████████| 57/57 [00:37<00:00,  1.51it/s]\n",
            "Validation Epoch 1/25: 100%|██████████| 15/15 [00:04<00:00,  3.33it/s]\n"
          ]
        },
        {
          "output_type": "stream",
          "name": "stdout",
          "text": [
            "Epoch 0/24, Loss: 0.0051, Acc: 0.9978, Val Loss: 0.0011, Val Acc: 1.0000\n"
          ]
        },
        {
          "output_type": "stream",
          "name": "stderr",
          "text": [
            "Training Epoch 2/25: 100%|██████████| 57/57 [00:37<00:00,  1.52it/s]\n",
            "Validation Epoch 2/25: 100%|██████████| 15/15 [00:04<00:00,  3.46it/s]\n"
          ]
        },
        {
          "output_type": "stream",
          "name": "stdout",
          "text": [
            "Epoch 1/24, Loss: 0.0076, Acc: 0.9978, Val Loss: 0.1422, Val Acc: 0.9824\n"
          ]
        },
        {
          "output_type": "stream",
          "name": "stderr",
          "text": [
            "Training Epoch 3/25: 100%|██████████| 57/57 [00:37<00:00,  1.53it/s]\n",
            "Validation Epoch 3/25: 100%|██████████| 15/15 [00:04<00:00,  3.49it/s]\n"
          ]
        },
        {
          "output_type": "stream",
          "name": "stdout",
          "text": [
            "Epoch 2/24, Loss: 0.0268, Acc: 0.9911, Val Loss: 0.0289, Val Acc: 0.9956\n"
          ]
        },
        {
          "output_type": "stream",
          "name": "stderr",
          "text": [
            "Training Epoch 4/25: 100%|██████████| 57/57 [00:37<00:00,  1.54it/s]\n",
            "Validation Epoch 4/25: 100%|██████████| 15/15 [00:04<00:00,  3.42it/s]\n"
          ]
        },
        {
          "output_type": "stream",
          "name": "stdout",
          "text": [
            "Epoch 3/24, Loss: 0.0005, Acc: 1.0000, Val Loss: 0.0103, Val Acc: 0.9956\n"
          ]
        },
        {
          "output_type": "stream",
          "name": "stderr",
          "text": [
            "Training Epoch 5/25: 100%|██████████| 57/57 [00:40<00:00,  1.41it/s]\n",
            "Validation Epoch 5/25: 100%|██████████| 15/15 [00:04<00:00,  3.56it/s]\n"
          ]
        },
        {
          "output_type": "stream",
          "name": "stdout",
          "text": [
            "Epoch 4/24, Loss: 0.0002, Acc: 1.0000, Val Loss: 0.0049, Val Acc: 0.9978\n"
          ]
        },
        {
          "output_type": "stream",
          "name": "stderr",
          "text": [
            "Training Epoch 6/25: 100%|██████████| 57/57 [00:37<00:00,  1.52it/s]\n",
            "Validation Epoch 6/25: 100%|██████████| 15/15 [00:04<00:00,  3.44it/s]\n"
          ]
        },
        {
          "output_type": "stream",
          "name": "stdout",
          "text": [
            "Epoch 5/24, Loss: 0.0002, Acc: 1.0000, Val Loss: 0.0097, Val Acc: 0.9978\n"
          ]
        },
        {
          "output_type": "stream",
          "name": "stderr",
          "text": [
            "Training Epoch 7/25: 100%|██████████| 57/57 [00:37<00:00,  1.51it/s]\n",
            "Validation Epoch 7/25: 100%|██████████| 15/15 [00:04<00:00,  3.13it/s]\n"
          ]
        },
        {
          "output_type": "stream",
          "name": "stdout",
          "text": [
            "Epoch 6/24, Loss: 0.0091, Acc: 0.9967, Val Loss: 0.0225, Val Acc: 0.9956\n"
          ]
        },
        {
          "output_type": "stream",
          "name": "stderr",
          "text": [
            "Training Epoch 8/25: 100%|██████████| 57/57 [00:37<00:00,  1.53it/s]\n",
            "Validation Epoch 8/25: 100%|██████████| 15/15 [00:04<00:00,  3.36it/s]\n"
          ]
        },
        {
          "output_type": "stream",
          "name": "stdout",
          "text": [
            "Epoch 7/24, Loss: 0.0489, Acc: 0.9900, Val Loss: 0.2231, Val Acc: 0.9560\n"
          ]
        },
        {
          "output_type": "stream",
          "name": "stderr",
          "text": [
            "Training Epoch 9/25: 100%|██████████| 57/57 [00:37<00:00,  1.54it/s]\n",
            "Validation Epoch 9/25: 100%|██████████| 15/15 [00:04<00:00,  3.30it/s]\n"
          ]
        },
        {
          "output_type": "stream",
          "name": "stdout",
          "text": [
            "Epoch 8/24, Loss: 0.0378, Acc: 0.9906, Val Loss: 0.0165, Val Acc: 0.9956\n"
          ]
        },
        {
          "output_type": "stream",
          "name": "stderr",
          "text": [
            "Training Epoch 10/25: 100%|██████████| 57/57 [00:37<00:00,  1.53it/s]\n",
            "Validation Epoch 10/25: 100%|██████████| 15/15 [00:04<00:00,  3.29it/s]\n"
          ]
        },
        {
          "output_type": "stream",
          "name": "stdout",
          "text": [
            "Epoch 9/24, Loss: 0.0102, Acc: 0.9967, Val Loss: 0.0169, Val Acc: 0.9912\n"
          ]
        },
        {
          "output_type": "stream",
          "name": "stderr",
          "text": [
            "Training Epoch 11/25: 100%|██████████| 57/57 [00:37<00:00,  1.53it/s]\n",
            "Validation Epoch 11/25: 100%|██████████| 15/15 [00:04<00:00,  3.26it/s]\n"
          ]
        },
        {
          "output_type": "stream",
          "name": "stdout",
          "text": [
            "Epoch 10/24, Loss: 0.0037, Acc: 0.9989, Val Loss: 0.0043, Val Acc: 0.9978\n"
          ]
        },
        {
          "output_type": "stream",
          "name": "stderr",
          "text": [
            "Training Epoch 12/25: 100%|██████████| 57/57 [00:37<00:00,  1.54it/s]\n",
            "Validation Epoch 12/25: 100%|██████████| 15/15 [00:04<00:00,  3.27it/s]\n"
          ]
        },
        {
          "output_type": "stream",
          "name": "stdout",
          "text": [
            "Epoch 11/24, Loss: 0.0004, Acc: 1.0000, Val Loss: 0.0046, Val Acc: 0.9978\n"
          ]
        },
        {
          "output_type": "stream",
          "name": "stderr",
          "text": [
            "Training Epoch 13/25: 100%|██████████| 57/57 [00:37<00:00,  1.53it/s]\n",
            "Validation Epoch 13/25: 100%|██████████| 15/15 [00:04<00:00,  3.26it/s]\n"
          ]
        },
        {
          "output_type": "stream",
          "name": "stdout",
          "text": [
            "Epoch 12/24, Loss: 0.0005, Acc: 1.0000, Val Loss: 0.0009, Val Acc: 1.0000\n"
          ]
        },
        {
          "output_type": "stream",
          "name": "stderr",
          "text": [
            "Training Epoch 14/25: 100%|██████████| 57/57 [00:37<00:00,  1.54it/s]\n",
            "Validation Epoch 14/25: 100%|██████████| 15/15 [00:04<00:00,  3.26it/s]\n"
          ]
        },
        {
          "output_type": "stream",
          "name": "stdout",
          "text": [
            "Epoch 13/24, Loss: 0.0000, Acc: 1.0000, Val Loss: 0.0007, Val Acc: 1.0000\n"
          ]
        },
        {
          "output_type": "stream",
          "name": "stderr",
          "text": [
            "Training Epoch 15/25: 100%|██████████| 57/57 [00:36<00:00,  1.54it/s]\n",
            "Validation Epoch 15/25: 100%|██████████| 15/15 [00:04<00:00,  3.20it/s]\n"
          ]
        },
        {
          "output_type": "stream",
          "name": "stdout",
          "text": [
            "Epoch 14/24, Loss: 0.0004, Acc: 1.0000, Val Loss: 0.0156, Val Acc: 0.9890\n"
          ]
        },
        {
          "output_type": "stream",
          "name": "stderr",
          "text": [
            "Training Epoch 16/25: 100%|██████████| 57/57 [00:37<00:00,  1.53it/s]\n",
            "Validation Epoch 16/25: 100%|██████████| 15/15 [00:04<00:00,  3.21it/s]\n"
          ]
        },
        {
          "output_type": "stream",
          "name": "stdout",
          "text": [
            "Epoch 15/24, Loss: 0.0116, Acc: 0.9961, Val Loss: 0.0049, Val Acc: 0.9978\n"
          ]
        },
        {
          "output_type": "stream",
          "name": "stderr",
          "text": [
            "Training Epoch 17/25: 100%|██████████| 57/57 [00:36<00:00,  1.54it/s]\n",
            "Validation Epoch 17/25: 100%|██████████| 15/15 [00:04<00:00,  3.17it/s]\n"
          ]
        },
        {
          "output_type": "stream",
          "name": "stdout",
          "text": [
            "Epoch 16/24, Loss: 0.0013, Acc: 0.9994, Val Loss: 0.0012, Val Acc: 1.0000\n"
          ]
        },
        {
          "output_type": "stream",
          "name": "stderr",
          "text": [
            "Training Epoch 18/25: 100%|██████████| 57/57 [00:37<00:00,  1.53it/s]\n",
            "Validation Epoch 18/25: 100%|██████████| 15/15 [00:04<00:00,  3.21it/s]\n"
          ]
        },
        {
          "output_type": "stream",
          "name": "stdout",
          "text": [
            "Epoch 17/24, Loss: 0.0004, Acc: 1.0000, Val Loss: 0.0056, Val Acc: 0.9978\n"
          ]
        },
        {
          "output_type": "stream",
          "name": "stderr",
          "text": [
            "Training Epoch 19/25: 100%|██████████| 57/57 [00:37<00:00,  1.54it/s]\n",
            "Validation Epoch 19/25: 100%|██████████| 15/15 [00:04<00:00,  3.28it/s]\n"
          ]
        },
        {
          "output_type": "stream",
          "name": "stdout",
          "text": [
            "Epoch 18/24, Loss: 0.0000, Acc: 1.0000, Val Loss: 0.0036, Val Acc: 0.9978\n"
          ]
        },
        {
          "output_type": "stream",
          "name": "stderr",
          "text": [
            "Training Epoch 20/25: 100%|██████████| 57/57 [00:36<00:00,  1.54it/s]\n",
            "Validation Epoch 20/25: 100%|██████████| 15/15 [00:04<00:00,  3.22it/s]\n"
          ]
        },
        {
          "output_type": "stream",
          "name": "stdout",
          "text": [
            "Epoch 19/24, Loss: 0.0000, Acc: 1.0000, Val Loss: 0.0017, Val Acc: 0.9978\n"
          ]
        },
        {
          "output_type": "stream",
          "name": "stderr",
          "text": [
            "Training Epoch 21/25: 100%|██████████| 57/57 [00:37<00:00,  1.54it/s]\n",
            "Validation Epoch 21/25: 100%|██████████| 15/15 [00:04<00:00,  3.17it/s]\n"
          ]
        },
        {
          "output_type": "stream",
          "name": "stdout",
          "text": [
            "Epoch 20/24, Loss: 0.0000, Acc: 1.0000, Val Loss: 0.0025, Val Acc: 0.9978\n"
          ]
        },
        {
          "output_type": "stream",
          "name": "stderr",
          "text": [
            "Training Epoch 22/25: 100%|██████████| 57/57 [00:37<00:00,  1.53it/s]\n",
            "Validation Epoch 22/25: 100%|██████████| 15/15 [00:04<00:00,  3.24it/s]\n"
          ]
        },
        {
          "output_type": "stream",
          "name": "stdout",
          "text": [
            "Epoch 21/24, Loss: 0.0000, Acc: 1.0000, Val Loss: 0.0013, Val Acc: 1.0000\n"
          ]
        },
        {
          "output_type": "stream",
          "name": "stderr",
          "text": [
            "Training Epoch 23/25: 100%|██████████| 57/57 [00:37<00:00,  1.53it/s]\n",
            "Validation Epoch 23/25: 100%|██████████| 15/15 [00:04<00:00,  3.21it/s]\n"
          ]
        },
        {
          "output_type": "stream",
          "name": "stdout",
          "text": [
            "Epoch 22/24, Loss: 0.0001, Acc: 1.0000, Val Loss: 0.0011, Val Acc: 1.0000\n"
          ]
        },
        {
          "output_type": "stream",
          "name": "stderr",
          "text": [
            "Training Epoch 24/25: 100%|██████████| 57/57 [00:37<00:00,  1.53it/s]\n",
            "Validation Epoch 24/25: 100%|██████████| 15/15 [00:04<00:00,  3.24it/s]\n"
          ]
        },
        {
          "output_type": "stream",
          "name": "stdout",
          "text": [
            "Epoch 23/24, Loss: 0.0000, Acc: 1.0000, Val Loss: 0.0005, Val Acc: 1.0000\n"
          ]
        },
        {
          "output_type": "stream",
          "name": "stderr",
          "text": [
            "Training Epoch 25/25: 100%|██████████| 57/57 [00:37<00:00,  1.53it/s]\n",
            "Validation Epoch 25/25: 100%|██████████| 15/15 [00:04<00:00,  3.29it/s]\n"
          ]
        },
        {
          "output_type": "stream",
          "name": "stdout",
          "text": [
            "Epoch 24/24, Loss: 0.0000, Acc: 1.0000, Val Loss: 0.0011, Val Acc: 1.0000\n"
          ]
        },
        {
          "output_type": "stream",
          "name": "stderr",
          "text": [
            "Evaluating: 100%|██████████| 18/18 [00:05<00:00,  3.31it/s]\n"
          ]
        },
        {
          "output_type": "stream",
          "name": "stdout",
          "text": [
            "Accuracy: 1.0000, Precision: 1.0000, Recall: 1.0000, F1 Score: 1.0000\n",
            "Training resnet101 with lr=0.001 and batch_size=64\n"
          ]
        },
        {
          "output_type": "stream",
          "name": "stderr",
          "text": [
            "Training Epoch 1/25: 100%|██████████| 29/29 [00:38<00:00,  1.32s/it]\n",
            "Validation Epoch 1/25: 100%|██████████| 8/8 [00:04<00:00,  1.87it/s]\n"
          ]
        },
        {
          "output_type": "stream",
          "name": "stdout",
          "text": [
            "Epoch 0/24, Loss: 0.0037, Acc: 0.9994, Val Loss: 0.0006, Val Acc: 1.0000\n"
          ]
        },
        {
          "output_type": "stream",
          "name": "stderr",
          "text": [
            "Training Epoch 2/25: 100%|██████████| 29/29 [00:37<00:00,  1.31s/it]\n",
            "Validation Epoch 2/25: 100%|██████████| 8/8 [00:04<00:00,  1.87it/s]\n"
          ]
        },
        {
          "output_type": "stream",
          "name": "stdout",
          "text": [
            "Epoch 1/24, Loss: 0.0006, Acc: 1.0000, Val Loss: 0.0447, Val Acc: 0.9890\n"
          ]
        },
        {
          "output_type": "stream",
          "name": "stderr",
          "text": [
            "Training Epoch 3/25: 100%|██████████| 29/29 [00:37<00:00,  1.31s/it]\n",
            "Validation Epoch 3/25: 100%|██████████| 8/8 [00:04<00:00,  1.74it/s]\n"
          ]
        },
        {
          "output_type": "stream",
          "name": "stdout",
          "text": [
            "Epoch 2/24, Loss: 0.0109, Acc: 0.9983, Val Loss: 0.0103, Val Acc: 0.9934\n"
          ]
        },
        {
          "output_type": "stream",
          "name": "stderr",
          "text": [
            "Training Epoch 4/25: 100%|██████████| 29/29 [00:37<00:00,  1.30s/it]\n",
            "Validation Epoch 4/25: 100%|██████████| 8/8 [00:04<00:00,  1.84it/s]\n"
          ]
        },
        {
          "output_type": "stream",
          "name": "stdout",
          "text": [
            "Epoch 3/24, Loss: 0.0004, Acc: 1.0000, Val Loss: 0.0029, Val Acc: 0.9978\n"
          ]
        },
        {
          "output_type": "stream",
          "name": "stderr",
          "text": [
            "Training Epoch 5/25: 100%|██████████| 29/29 [00:37<00:00,  1.30s/it]\n",
            "Validation Epoch 5/25: 100%|██████████| 8/8 [00:04<00:00,  1.84it/s]\n"
          ]
        },
        {
          "output_type": "stream",
          "name": "stdout",
          "text": [
            "Epoch 4/24, Loss: 0.0001, Acc: 1.0000, Val Loss: 0.0028, Val Acc: 0.9978\n"
          ]
        },
        {
          "output_type": "stream",
          "name": "stderr",
          "text": [
            "Training Epoch 6/25: 100%|██████████| 29/29 [00:37<00:00,  1.30s/it]\n",
            "Validation Epoch 6/25: 100%|██████████| 8/8 [00:04<00:00,  1.83it/s]\n"
          ]
        },
        {
          "output_type": "stream",
          "name": "stdout",
          "text": [
            "Epoch 5/24, Loss: 0.0000, Acc: 1.0000, Val Loss: 0.0032, Val Acc: 0.9978\n"
          ]
        },
        {
          "output_type": "stream",
          "name": "stderr",
          "text": [
            "Training Epoch 7/25: 100%|██████████| 29/29 [00:37<00:00,  1.30s/it]\n",
            "Validation Epoch 7/25: 100%|██████████| 8/8 [00:04<00:00,  1.86it/s]\n"
          ]
        },
        {
          "output_type": "stream",
          "name": "stdout",
          "text": [
            "Epoch 6/24, Loss: 0.0000, Acc: 1.0000, Val Loss: 0.0023, Val Acc: 0.9978\n"
          ]
        },
        {
          "output_type": "stream",
          "name": "stderr",
          "text": [
            "Training Epoch 8/25: 100%|██████████| 29/29 [00:37<00:00,  1.30s/it]\n",
            "Validation Epoch 8/25: 100%|██████████| 8/8 [00:04<00:00,  1.80it/s]\n"
          ]
        },
        {
          "output_type": "stream",
          "name": "stdout",
          "text": [
            "Epoch 7/24, Loss: 0.0000, Acc: 1.0000, Val Loss: 0.0035, Val Acc: 0.9978\n"
          ]
        },
        {
          "output_type": "stream",
          "name": "stderr",
          "text": [
            "Training Epoch 9/25: 100%|██████████| 29/29 [00:38<00:00,  1.31s/it]\n",
            "Validation Epoch 9/25: 100%|██████████| 8/8 [00:04<00:00,  1.73it/s]\n"
          ]
        },
        {
          "output_type": "stream",
          "name": "stdout",
          "text": [
            "Epoch 8/24, Loss: 0.0000, Acc: 1.0000, Val Loss: 0.0034, Val Acc: 0.9978\n"
          ]
        },
        {
          "output_type": "stream",
          "name": "stderr",
          "text": [
            "Training Epoch 10/25: 100%|██████████| 29/29 [00:37<00:00,  1.29s/it]\n",
            "Validation Epoch 10/25: 100%|██████████| 8/8 [00:04<00:00,  1.74it/s]\n"
          ]
        },
        {
          "output_type": "stream",
          "name": "stdout",
          "text": [
            "Epoch 9/24, Loss: 0.0000, Acc: 1.0000, Val Loss: 0.0025, Val Acc: 0.9978\n"
          ]
        },
        {
          "output_type": "stream",
          "name": "stderr",
          "text": [
            "Training Epoch 11/25: 100%|██████████| 29/29 [00:37<00:00,  1.30s/it]\n",
            "Validation Epoch 11/25: 100%|██████████| 8/8 [00:04<00:00,  1.74it/s]\n"
          ]
        },
        {
          "output_type": "stream",
          "name": "stdout",
          "text": [
            "Epoch 10/24, Loss: 0.0000, Acc: 1.0000, Val Loss: 0.0025, Val Acc: 0.9978\n"
          ]
        },
        {
          "output_type": "stream",
          "name": "stderr",
          "text": [
            "Training Epoch 12/25: 100%|██████████| 29/29 [00:37<00:00,  1.29s/it]\n",
            "Validation Epoch 12/25: 100%|██████████| 8/8 [00:04<00:00,  1.74it/s]\n"
          ]
        },
        {
          "output_type": "stream",
          "name": "stdout",
          "text": [
            "Epoch 11/24, Loss: 0.0000, Acc: 1.0000, Val Loss: 0.0037, Val Acc: 0.9978\n"
          ]
        },
        {
          "output_type": "stream",
          "name": "stderr",
          "text": [
            "Training Epoch 13/25: 100%|██████████| 29/29 [00:37<00:00,  1.30s/it]\n",
            "Validation Epoch 13/25: 100%|██████████| 8/8 [00:04<00:00,  1.72it/s]\n"
          ]
        },
        {
          "output_type": "stream",
          "name": "stdout",
          "text": [
            "Epoch 12/24, Loss: 0.0000, Acc: 1.0000, Val Loss: 0.0024, Val Acc: 0.9978\n"
          ]
        },
        {
          "output_type": "stream",
          "name": "stderr",
          "text": [
            "Training Epoch 14/25: 100%|██████████| 29/29 [00:37<00:00,  1.31s/it]\n",
            "Validation Epoch 14/25: 100%|██████████| 8/8 [00:04<00:00,  1.70it/s]\n"
          ]
        },
        {
          "output_type": "stream",
          "name": "stdout",
          "text": [
            "Epoch 13/24, Loss: 0.0000, Acc: 1.0000, Val Loss: 0.0014, Val Acc: 1.0000\n"
          ]
        },
        {
          "output_type": "stream",
          "name": "stderr",
          "text": [
            "Training Epoch 15/25: 100%|██████████| 29/29 [00:37<00:00,  1.29s/it]\n",
            "Validation Epoch 15/25: 100%|██████████| 8/8 [00:04<00:00,  1.71it/s]\n"
          ]
        },
        {
          "output_type": "stream",
          "name": "stdout",
          "text": [
            "Epoch 14/24, Loss: 0.0000, Acc: 1.0000, Val Loss: 0.0021, Val Acc: 0.9978\n"
          ]
        },
        {
          "output_type": "stream",
          "name": "stderr",
          "text": [
            "Training Epoch 16/25: 100%|██████████| 29/29 [00:37<00:00,  1.29s/it]\n",
            "Validation Epoch 16/25: 100%|██████████| 8/8 [00:04<00:00,  1.71it/s]\n"
          ]
        },
        {
          "output_type": "stream",
          "name": "stdout",
          "text": [
            "Epoch 15/24, Loss: 0.0000, Acc: 1.0000, Val Loss: 0.0067, Val Acc: 0.9978\n"
          ]
        },
        {
          "output_type": "stream",
          "name": "stderr",
          "text": [
            "Training Epoch 17/25: 100%|██████████| 29/29 [00:37<00:00,  1.29s/it]\n",
            "Validation Epoch 17/25: 100%|██████████| 8/8 [00:04<00:00,  1.74it/s]\n"
          ]
        },
        {
          "output_type": "stream",
          "name": "stdout",
          "text": [
            "Epoch 16/24, Loss: 0.0000, Acc: 1.0000, Val Loss: 0.0045, Val Acc: 0.9978\n"
          ]
        },
        {
          "output_type": "stream",
          "name": "stderr",
          "text": [
            "Training Epoch 18/25: 100%|██████████| 29/29 [00:37<00:00,  1.30s/it]\n",
            "Validation Epoch 18/25: 100%|██████████| 8/8 [00:04<00:00,  1.73it/s]\n"
          ]
        },
        {
          "output_type": "stream",
          "name": "stdout",
          "text": [
            "Epoch 17/24, Loss: 0.0000, Acc: 1.0000, Val Loss: 0.0057, Val Acc: 0.9978\n"
          ]
        },
        {
          "output_type": "stream",
          "name": "stderr",
          "text": [
            "Training Epoch 19/25: 100%|██████████| 29/29 [00:37<00:00,  1.30s/it]\n",
            "Validation Epoch 19/25: 100%|██████████| 8/8 [00:05<00:00,  1.53it/s]\n"
          ]
        },
        {
          "output_type": "stream",
          "name": "stdout",
          "text": [
            "Epoch 18/24, Loss: 0.0000, Acc: 1.0000, Val Loss: 0.0054, Val Acc: 0.9978\n"
          ]
        },
        {
          "output_type": "stream",
          "name": "stderr",
          "text": [
            "Training Epoch 20/25: 100%|██████████| 29/29 [00:37<00:00,  1.29s/it]\n",
            "Validation Epoch 20/25: 100%|██████████| 8/8 [00:04<00:00,  1.67it/s]\n"
          ]
        },
        {
          "output_type": "stream",
          "name": "stdout",
          "text": [
            "Epoch 19/24, Loss: 0.0000, Acc: 1.0000, Val Loss: 0.0055, Val Acc: 0.9978\n"
          ]
        },
        {
          "output_type": "stream",
          "name": "stderr",
          "text": [
            "Training Epoch 21/25: 100%|██████████| 29/29 [00:37<00:00,  1.29s/it]\n",
            "Validation Epoch 21/25: 100%|██████████| 8/8 [00:04<00:00,  1.67it/s]\n"
          ]
        },
        {
          "output_type": "stream",
          "name": "stdout",
          "text": [
            "Epoch 20/24, Loss: 0.0000, Acc: 1.0000, Val Loss: 0.0076, Val Acc: 0.9978\n"
          ]
        },
        {
          "output_type": "stream",
          "name": "stderr",
          "text": [
            "Training Epoch 22/25: 100%|██████████| 29/29 [00:37<00:00,  1.30s/it]\n",
            "Validation Epoch 22/25: 100%|██████████| 8/8 [00:04<00:00,  1.69it/s]\n"
          ]
        },
        {
          "output_type": "stream",
          "name": "stdout",
          "text": [
            "Epoch 21/24, Loss: 0.0000, Acc: 1.0000, Val Loss: 0.0054, Val Acc: 0.9978\n"
          ]
        },
        {
          "output_type": "stream",
          "name": "stderr",
          "text": [
            "Training Epoch 23/25: 100%|██████████| 29/29 [00:37<00:00,  1.29s/it]\n",
            "Validation Epoch 23/25: 100%|██████████| 8/8 [00:04<00:00,  1.67it/s]\n"
          ]
        },
        {
          "output_type": "stream",
          "name": "stdout",
          "text": [
            "Epoch 22/24, Loss: 0.0000, Acc: 1.0000, Val Loss: 0.0030, Val Acc: 0.9978\n"
          ]
        },
        {
          "output_type": "stream",
          "name": "stderr",
          "text": [
            "Training Epoch 24/25: 100%|██████████| 29/29 [00:37<00:00,  1.30s/it]\n",
            "Validation Epoch 24/25: 100%|██████████| 8/8 [00:04<00:00,  1.70it/s]\n"
          ]
        },
        {
          "output_type": "stream",
          "name": "stdout",
          "text": [
            "Epoch 23/24, Loss: 0.0000, Acc: 1.0000, Val Loss: 0.0029, Val Acc: 0.9978\n"
          ]
        },
        {
          "output_type": "stream",
          "name": "stderr",
          "text": [
            "Training Epoch 25/25: 100%|██████████| 29/29 [00:37<00:00,  1.31s/it]\n",
            "Validation Epoch 25/25: 100%|██████████| 8/8 [00:04<00:00,  1.77it/s]\n"
          ]
        },
        {
          "output_type": "stream",
          "name": "stdout",
          "text": [
            "Epoch 24/24, Loss: 0.0000, Acc: 1.0000, Val Loss: 0.0032, Val Acc: 0.9978\n"
          ]
        },
        {
          "output_type": "stream",
          "name": "stderr",
          "text": [
            "Evaluating: 100%|██████████| 18/18 [00:05<00:00,  3.26it/s]\n"
          ]
        },
        {
          "output_type": "stream",
          "name": "stdout",
          "text": [
            "Accuracy: 0.9982, Precision: 0.9982, Recall: 0.9982, F1 Score: 0.9982\n",
            "Training resnet101 with lr=0.0001 and batch_size=16\n"
          ]
        },
        {
          "output_type": "stream",
          "name": "stderr",
          "text": [
            "Training Epoch 1/25: 100%|██████████| 113/113 [00:39<00:00,  2.87it/s]\n",
            "Validation Epoch 1/25: 100%|██████████| 29/29 [00:04<00:00,  6.76it/s]\n"
          ]
        },
        {
          "output_type": "stream",
          "name": "stdout",
          "text": [
            "Epoch 0/24, Loss: 0.0000, Acc: 1.0000, Val Loss: 0.0003, Val Acc: 1.0000\n"
          ]
        },
        {
          "output_type": "stream",
          "name": "stderr",
          "text": [
            "Training Epoch 2/25: 100%|██████████| 113/113 [00:38<00:00,  2.90it/s]\n",
            "Validation Epoch 2/25: 100%|██████████| 29/29 [00:04<00:00,  6.55it/s]\n"
          ]
        },
        {
          "output_type": "stream",
          "name": "stdout",
          "text": [
            "Epoch 1/24, Loss: 0.0000, Acc: 1.0000, Val Loss: 0.0029, Val Acc: 0.9978\n"
          ]
        },
        {
          "output_type": "stream",
          "name": "stderr",
          "text": [
            "Training Epoch 3/25: 100%|██████████| 113/113 [00:39<00:00,  2.90it/s]\n",
            "Validation Epoch 3/25: 100%|██████████| 29/29 [00:04<00:00,  6.63it/s]\n"
          ]
        },
        {
          "output_type": "stream",
          "name": "stdout",
          "text": [
            "Epoch 2/24, Loss: 0.0003, Acc: 1.0000, Val Loss: 0.0000, Val Acc: 1.0000\n"
          ]
        },
        {
          "output_type": "stream",
          "name": "stderr",
          "text": [
            "Training Epoch 4/25: 100%|██████████| 113/113 [00:38<00:00,  2.90it/s]\n",
            "Validation Epoch 4/25: 100%|██████████| 29/29 [00:04<00:00,  6.46it/s]\n"
          ]
        },
        {
          "output_type": "stream",
          "name": "stdout",
          "text": [
            "Epoch 3/24, Loss: 0.0000, Acc: 1.0000, Val Loss: 0.0000, Val Acc: 1.0000\n"
          ]
        },
        {
          "output_type": "stream",
          "name": "stderr",
          "text": [
            "Training Epoch 5/25: 100%|██████████| 113/113 [00:39<00:00,  2.88it/s]\n",
            "Validation Epoch 5/25: 100%|██████████| 29/29 [00:04<00:00,  6.47it/s]\n"
          ]
        },
        {
          "output_type": "stream",
          "name": "stdout",
          "text": [
            "Epoch 4/24, Loss: 0.0001, Acc: 1.0000, Val Loss: 0.0000, Val Acc: 1.0000\n"
          ]
        },
        {
          "output_type": "stream",
          "name": "stderr",
          "text": [
            "Training Epoch 6/25: 100%|██████████| 113/113 [00:38<00:00,  2.90it/s]\n",
            "Validation Epoch 6/25: 100%|██████████| 29/29 [00:04<00:00,  6.21it/s]\n"
          ]
        },
        {
          "output_type": "stream",
          "name": "stdout",
          "text": [
            "Epoch 5/24, Loss: 0.0000, Acc: 1.0000, Val Loss: 0.0000, Val Acc: 1.0000\n"
          ]
        },
        {
          "output_type": "stream",
          "name": "stderr",
          "text": [
            "Training Epoch 7/25: 100%|██████████| 113/113 [00:38<00:00,  2.92it/s]\n",
            "Validation Epoch 7/25: 100%|██████████| 29/29 [00:04<00:00,  6.15it/s]\n"
          ]
        },
        {
          "output_type": "stream",
          "name": "stdout",
          "text": [
            "Epoch 6/24, Loss: 0.0000, Acc: 1.0000, Val Loss: 0.0000, Val Acc: 1.0000\n"
          ]
        },
        {
          "output_type": "stream",
          "name": "stderr",
          "text": [
            "Training Epoch 8/25: 100%|██████████| 113/113 [00:38<00:00,  2.92it/s]\n",
            "Validation Epoch 8/25: 100%|██████████| 29/29 [00:04<00:00,  6.40it/s]\n"
          ]
        },
        {
          "output_type": "stream",
          "name": "stdout",
          "text": [
            "Epoch 7/24, Loss: 0.0001, Acc: 1.0000, Val Loss: 0.0000, Val Acc: 1.0000\n"
          ]
        },
        {
          "output_type": "stream",
          "name": "stderr",
          "text": [
            "Training Epoch 9/25: 100%|██████████| 113/113 [00:39<00:00,  2.90it/s]\n",
            "Validation Epoch 9/25: 100%|██████████| 29/29 [00:04<00:00,  6.68it/s]\n"
          ]
        },
        {
          "output_type": "stream",
          "name": "stdout",
          "text": [
            "Epoch 8/24, Loss: 0.0000, Acc: 1.0000, Val Loss: 0.0000, Val Acc: 1.0000\n"
          ]
        },
        {
          "output_type": "stream",
          "name": "stderr",
          "text": [
            "Training Epoch 10/25: 100%|██████████| 113/113 [00:39<00:00,  2.89it/s]\n",
            "Validation Epoch 10/25: 100%|██████████| 29/29 [00:04<00:00,  6.68it/s]\n"
          ]
        },
        {
          "output_type": "stream",
          "name": "stdout",
          "text": [
            "Epoch 9/24, Loss: 0.0000, Acc: 1.0000, Val Loss: 0.0000, Val Acc: 1.0000\n"
          ]
        },
        {
          "output_type": "stream",
          "name": "stderr",
          "text": [
            "Training Epoch 11/25: 100%|██████████| 113/113 [00:39<00:00,  2.89it/s]\n",
            "Validation Epoch 11/25: 100%|██████████| 29/29 [00:04<00:00,  6.71it/s]\n"
          ]
        },
        {
          "output_type": "stream",
          "name": "stdout",
          "text": [
            "Epoch 10/24, Loss: 0.0000, Acc: 1.0000, Val Loss: 0.0000, Val Acc: 1.0000\n"
          ]
        },
        {
          "output_type": "stream",
          "name": "stderr",
          "text": [
            "Training Epoch 12/25: 100%|██████████| 113/113 [00:38<00:00,  2.90it/s]\n",
            "Validation Epoch 12/25: 100%|██████████| 29/29 [00:04<00:00,  6.91it/s]\n"
          ]
        },
        {
          "output_type": "stream",
          "name": "stdout",
          "text": [
            "Epoch 11/24, Loss: 0.0000, Acc: 1.0000, Val Loss: 0.0000, Val Acc: 1.0000\n"
          ]
        },
        {
          "output_type": "stream",
          "name": "stderr",
          "text": [
            "Training Epoch 13/25: 100%|██████████| 113/113 [00:38<00:00,  2.91it/s]\n",
            "Validation Epoch 13/25: 100%|██████████| 29/29 [00:04<00:00,  6.59it/s]\n"
          ]
        },
        {
          "output_type": "stream",
          "name": "stdout",
          "text": [
            "Epoch 12/24, Loss: 0.0000, Acc: 1.0000, Val Loss: 0.0000, Val Acc: 1.0000\n"
          ]
        },
        {
          "output_type": "stream",
          "name": "stderr",
          "text": [
            "Training Epoch 14/25: 100%|██████████| 113/113 [00:38<00:00,  2.90it/s]\n",
            "Validation Epoch 14/25: 100%|██████████| 29/29 [00:04<00:00,  6.48it/s]\n"
          ]
        },
        {
          "output_type": "stream",
          "name": "stdout",
          "text": [
            "Epoch 13/24, Loss: 0.0000, Acc: 1.0000, Val Loss: 0.0000, Val Acc: 1.0000\n"
          ]
        },
        {
          "output_type": "stream",
          "name": "stderr",
          "text": [
            "Training Epoch 15/25: 100%|██████████| 113/113 [00:38<00:00,  2.90it/s]\n",
            "Validation Epoch 15/25: 100%|██████████| 29/29 [00:04<00:00,  6.18it/s]\n"
          ]
        },
        {
          "output_type": "stream",
          "name": "stdout",
          "text": [
            "Epoch 14/24, Loss: 0.0000, Acc: 1.0000, Val Loss: 0.0000, Val Acc: 1.0000\n"
          ]
        },
        {
          "output_type": "stream",
          "name": "stderr",
          "text": [
            "Training Epoch 16/25: 100%|██████████| 113/113 [00:39<00:00,  2.90it/s]\n",
            "Validation Epoch 16/25: 100%|██████████| 29/29 [00:04<00:00,  6.08it/s]\n"
          ]
        },
        {
          "output_type": "stream",
          "name": "stdout",
          "text": [
            "Epoch 15/24, Loss: 0.0000, Acc: 1.0000, Val Loss: 0.0000, Val Acc: 1.0000\n"
          ]
        },
        {
          "output_type": "stream",
          "name": "stderr",
          "text": [
            "Training Epoch 17/25: 100%|██████████| 113/113 [00:38<00:00,  2.91it/s]\n",
            "Validation Epoch 17/25: 100%|██████████| 29/29 [00:04<00:00,  6.18it/s]\n"
          ]
        },
        {
          "output_type": "stream",
          "name": "stdout",
          "text": [
            "Epoch 16/24, Loss: 0.0000, Acc: 1.0000, Val Loss: 0.0000, Val Acc: 1.0000\n"
          ]
        },
        {
          "output_type": "stream",
          "name": "stderr",
          "text": [
            "Training Epoch 18/25: 100%|██████████| 113/113 [00:38<00:00,  2.91it/s]\n",
            "Validation Epoch 18/25: 100%|██████████| 29/29 [00:04<00:00,  6.35it/s]\n"
          ]
        },
        {
          "output_type": "stream",
          "name": "stdout",
          "text": [
            "Epoch 17/24, Loss: 0.0000, Acc: 1.0000, Val Loss: 0.0000, Val Acc: 1.0000\n"
          ]
        },
        {
          "output_type": "stream",
          "name": "stderr",
          "text": [
            "Training Epoch 19/25: 100%|██████████| 113/113 [00:38<00:00,  2.90it/s]\n",
            "Validation Epoch 19/25: 100%|██████████| 29/29 [00:04<00:00,  6.62it/s]\n"
          ]
        },
        {
          "output_type": "stream",
          "name": "stdout",
          "text": [
            "Epoch 18/24, Loss: 0.0000, Acc: 1.0000, Val Loss: 0.0000, Val Acc: 1.0000\n"
          ]
        },
        {
          "output_type": "stream",
          "name": "stderr",
          "text": [
            "Training Epoch 20/25: 100%|██████████| 113/113 [00:38<00:00,  2.90it/s]\n",
            "Validation Epoch 20/25: 100%|██████████| 29/29 [00:04<00:00,  6.63it/s]\n"
          ]
        },
        {
          "output_type": "stream",
          "name": "stdout",
          "text": [
            "Epoch 19/24, Loss: 0.0000, Acc: 1.0000, Val Loss: 0.0000, Val Acc: 1.0000\n"
          ]
        },
        {
          "output_type": "stream",
          "name": "stderr",
          "text": [
            "Training Epoch 21/25: 100%|██████████| 113/113 [00:39<00:00,  2.88it/s]\n",
            "Validation Epoch 21/25: 100%|██████████| 29/29 [00:04<00:00,  6.66it/s]\n"
          ]
        },
        {
          "output_type": "stream",
          "name": "stdout",
          "text": [
            "Epoch 20/24, Loss: 0.0000, Acc: 1.0000, Val Loss: 0.0000, Val Acc: 1.0000\n"
          ]
        },
        {
          "output_type": "stream",
          "name": "stderr",
          "text": [
            "Training Epoch 22/25: 100%|██████████| 113/113 [00:39<00:00,  2.90it/s]\n",
            "Validation Epoch 22/25: 100%|██████████| 29/29 [00:04<00:00,  6.62it/s]\n"
          ]
        },
        {
          "output_type": "stream",
          "name": "stdout",
          "text": [
            "Epoch 21/24, Loss: 0.0000, Acc: 1.0000, Val Loss: 0.0000, Val Acc: 1.0000\n"
          ]
        },
        {
          "output_type": "stream",
          "name": "stderr",
          "text": [
            "Training Epoch 23/25: 100%|██████████| 113/113 [00:38<00:00,  2.91it/s]\n",
            "Validation Epoch 23/25: 100%|██████████| 29/29 [00:04<00:00,  6.69it/s]\n"
          ]
        },
        {
          "output_type": "stream",
          "name": "stdout",
          "text": [
            "Epoch 22/24, Loss: 0.0000, Acc: 1.0000, Val Loss: 0.0000, Val Acc: 1.0000\n"
          ]
        },
        {
          "output_type": "stream",
          "name": "stderr",
          "text": [
            "Training Epoch 24/25: 100%|██████████| 113/113 [00:38<00:00,  2.90it/s]\n",
            "Validation Epoch 24/25: 100%|██████████| 29/29 [00:04<00:00,  6.48it/s]\n"
          ]
        },
        {
          "output_type": "stream",
          "name": "stdout",
          "text": [
            "Epoch 23/24, Loss: 0.0018, Acc: 0.9994, Val Loss: 0.0000, Val Acc: 1.0000\n"
          ]
        },
        {
          "output_type": "stream",
          "name": "stderr",
          "text": [
            "Training Epoch 25/25: 100%|██████████| 113/113 [00:38<00:00,  2.91it/s]\n",
            "Validation Epoch 25/25: 100%|██████████| 29/29 [00:04<00:00,  6.19it/s]\n"
          ]
        },
        {
          "output_type": "stream",
          "name": "stdout",
          "text": [
            "Epoch 24/24, Loss: 0.0016, Acc: 0.9994, Val Loss: 0.0454, Val Acc: 0.9956\n"
          ]
        },
        {
          "output_type": "stream",
          "name": "stderr",
          "text": [
            "Evaluating: 100%|██████████| 18/18 [00:05<00:00,  3.34it/s]\n"
          ]
        },
        {
          "output_type": "stream",
          "name": "stdout",
          "text": [
            "Accuracy: 0.9982, Precision: 0.9982, Recall: 0.9982, F1 Score: 0.9982\n",
            "Training resnet101 with lr=0.0001 and batch_size=32\n"
          ]
        },
        {
          "output_type": "stream",
          "name": "stderr",
          "text": [
            "Training Epoch 1/25: 100%|██████████| 57/57 [00:37<00:00,  1.50it/s]\n",
            "Validation Epoch 1/25: 100%|██████████| 15/15 [00:04<00:00,  3.42it/s]\n"
          ]
        },
        {
          "output_type": "stream",
          "name": "stdout",
          "text": [
            "Epoch 0/24, Loss: 0.0000, Acc: 1.0000, Val Loss: 0.0194, Val Acc: 0.9956\n"
          ]
        },
        {
          "output_type": "stream",
          "name": "stderr",
          "text": [
            "Training Epoch 2/25: 100%|██████████| 57/57 [00:37<00:00,  1.53it/s]\n",
            "Validation Epoch 2/25: 100%|██████████| 15/15 [00:04<00:00,  3.53it/s]\n"
          ]
        },
        {
          "output_type": "stream",
          "name": "stdout",
          "text": [
            "Epoch 1/24, Loss: 0.0000, Acc: 1.0000, Val Loss: 0.0158, Val Acc: 0.9956\n"
          ]
        },
        {
          "output_type": "stream",
          "name": "stderr",
          "text": [
            "Training Epoch 3/25: 100%|██████████| 57/57 [00:37<00:00,  1.52it/s]\n",
            "Validation Epoch 3/25: 100%|██████████| 15/15 [00:04<00:00,  3.50it/s]\n"
          ]
        },
        {
          "output_type": "stream",
          "name": "stdout",
          "text": [
            "Epoch 2/24, Loss: 0.0000, Acc: 1.0000, Val Loss: 0.0105, Val Acc: 0.9956\n"
          ]
        },
        {
          "output_type": "stream",
          "name": "stderr",
          "text": [
            "Training Epoch 4/25: 100%|██████████| 57/57 [00:37<00:00,  1.52it/s]\n",
            "Validation Epoch 4/25: 100%|██████████| 15/15 [00:04<00:00,  3.46it/s]\n"
          ]
        },
        {
          "output_type": "stream",
          "name": "stdout",
          "text": [
            "Epoch 3/24, Loss: 0.0000, Acc: 1.0000, Val Loss: 0.0060, Val Acc: 0.9978\n"
          ]
        },
        {
          "output_type": "stream",
          "name": "stderr",
          "text": [
            "Training Epoch 5/25: 100%|██████████| 57/57 [00:37<00:00,  1.52it/s]\n",
            "Validation Epoch 5/25: 100%|██████████| 15/15 [00:04<00:00,  3.50it/s]\n"
          ]
        },
        {
          "output_type": "stream",
          "name": "stdout",
          "text": [
            "Epoch 4/24, Loss: 0.0000, Acc: 1.0000, Val Loss: 0.0037, Val Acc: 0.9956\n"
          ]
        },
        {
          "output_type": "stream",
          "name": "stderr",
          "text": [
            "Training Epoch 6/25: 100%|██████████| 57/57 [00:37<00:00,  1.52it/s]\n",
            "Validation Epoch 6/25: 100%|██████████| 15/15 [00:04<00:00,  3.49it/s]\n"
          ]
        },
        {
          "output_type": "stream",
          "name": "stdout",
          "text": [
            "Epoch 5/24, Loss: 0.0000, Acc: 1.0000, Val Loss: 0.0024, Val Acc: 0.9978\n"
          ]
        },
        {
          "output_type": "stream",
          "name": "stderr",
          "text": [
            "Training Epoch 7/25: 100%|██████████| 57/57 [00:37<00:00,  1.52it/s]\n",
            "Validation Epoch 7/25: 100%|██████████| 15/15 [00:04<00:00,  3.51it/s]\n"
          ]
        },
        {
          "output_type": "stream",
          "name": "stdout",
          "text": [
            "Epoch 6/24, Loss: 0.0000, Acc: 1.0000, Val Loss: 0.0054, Val Acc: 0.9956\n"
          ]
        },
        {
          "output_type": "stream",
          "name": "stderr",
          "text": [
            "Training Epoch 8/25: 100%|██████████| 57/57 [00:37<00:00,  1.52it/s]\n",
            "Validation Epoch 8/25: 100%|██████████| 15/15 [00:04<00:00,  3.45it/s]\n"
          ]
        },
        {
          "output_type": "stream",
          "name": "stdout",
          "text": [
            "Epoch 7/24, Loss: 0.0000, Acc: 1.0000, Val Loss: 0.0018, Val Acc: 0.9978\n"
          ]
        },
        {
          "output_type": "stream",
          "name": "stderr",
          "text": [
            "Training Epoch 9/25: 100%|██████████| 57/57 [00:37<00:00,  1.53it/s]\n",
            "Validation Epoch 9/25: 100%|██████████| 15/15 [00:04<00:00,  3.47it/s]\n"
          ]
        },
        {
          "output_type": "stream",
          "name": "stdout",
          "text": [
            "Epoch 8/24, Loss: 0.0000, Acc: 1.0000, Val Loss: 0.0019, Val Acc: 1.0000\n"
          ]
        },
        {
          "output_type": "stream",
          "name": "stderr",
          "text": [
            "Training Epoch 10/25: 100%|██████████| 57/57 [00:37<00:00,  1.52it/s]\n",
            "Validation Epoch 10/25: 100%|██████████| 15/15 [00:04<00:00,  3.43it/s]\n"
          ]
        },
        {
          "output_type": "stream",
          "name": "stdout",
          "text": [
            "Epoch 9/24, Loss: 0.0000, Acc: 1.0000, Val Loss: 0.0007, Val Acc: 1.0000\n"
          ]
        },
        {
          "output_type": "stream",
          "name": "stderr",
          "text": [
            "Training Epoch 11/25: 100%|██████████| 57/57 [00:37<00:00,  1.52it/s]\n",
            "Validation Epoch 11/25: 100%|██████████| 15/15 [00:04<00:00,  3.44it/s]\n"
          ]
        },
        {
          "output_type": "stream",
          "name": "stdout",
          "text": [
            "Epoch 10/24, Loss: 0.0000, Acc: 1.0000, Val Loss: 0.0014, Val Acc: 1.0000\n"
          ]
        },
        {
          "output_type": "stream",
          "name": "stderr",
          "text": [
            "Training Epoch 12/25: 100%|██████████| 57/57 [00:37<00:00,  1.53it/s]\n",
            "Validation Epoch 12/25: 100%|██████████| 15/15 [00:04<00:00,  3.40it/s]\n"
          ]
        },
        {
          "output_type": "stream",
          "name": "stdout",
          "text": [
            "Epoch 11/24, Loss: 0.0000, Acc: 1.0000, Val Loss: 0.0014, Val Acc: 1.0000\n"
          ]
        },
        {
          "output_type": "stream",
          "name": "stderr",
          "text": [
            "Training Epoch 13/25: 100%|██████████| 57/57 [00:37<00:00,  1.52it/s]\n",
            "Validation Epoch 13/25: 100%|██████████| 15/15 [00:04<00:00,  3.35it/s]\n"
          ]
        },
        {
          "output_type": "stream",
          "name": "stdout",
          "text": [
            "Epoch 12/24, Loss: 0.0000, Acc: 1.0000, Val Loss: 0.0014, Val Acc: 1.0000\n"
          ]
        },
        {
          "output_type": "stream",
          "name": "stderr",
          "text": [
            "Training Epoch 14/25: 100%|██████████| 57/57 [00:37<00:00,  1.52it/s]\n",
            "Validation Epoch 14/25: 100%|██████████| 15/15 [00:04<00:00,  3.35it/s]\n"
          ]
        },
        {
          "output_type": "stream",
          "name": "stdout",
          "text": [
            "Epoch 13/24, Loss: 0.0000, Acc: 1.0000, Val Loss: 0.0006, Val Acc: 1.0000\n"
          ]
        },
        {
          "output_type": "stream",
          "name": "stderr",
          "text": [
            "Training Epoch 15/25: 100%|██████████| 57/57 [00:37<00:00,  1.52it/s]\n",
            "Validation Epoch 15/25: 100%|██████████| 15/15 [00:04<00:00,  3.34it/s]\n"
          ]
        },
        {
          "output_type": "stream",
          "name": "stdout",
          "text": [
            "Epoch 14/24, Loss: 0.0000, Acc: 1.0000, Val Loss: 0.0001, Val Acc: 1.0000\n"
          ]
        },
        {
          "output_type": "stream",
          "name": "stderr",
          "text": [
            "Training Epoch 16/25: 100%|██████████| 57/57 [00:37<00:00,  1.53it/s]\n",
            "Validation Epoch 16/25: 100%|██████████| 15/15 [00:04<00:00,  3.34it/s]\n"
          ]
        },
        {
          "output_type": "stream",
          "name": "stdout",
          "text": [
            "Epoch 15/24, Loss: 0.0000, Acc: 1.0000, Val Loss: 0.0003, Val Acc: 1.0000\n"
          ]
        },
        {
          "output_type": "stream",
          "name": "stderr",
          "text": [
            "Training Epoch 17/25: 100%|██████████| 57/57 [00:37<00:00,  1.52it/s]\n",
            "Validation Epoch 17/25: 100%|██████████| 15/15 [00:04<00:00,  3.43it/s]\n"
          ]
        },
        {
          "output_type": "stream",
          "name": "stdout",
          "text": [
            "Epoch 16/24, Loss: 0.0000, Acc: 1.0000, Val Loss: 0.0001, Val Acc: 1.0000\n"
          ]
        },
        {
          "output_type": "stream",
          "name": "stderr",
          "text": [
            "Training Epoch 18/25: 100%|██████████| 57/57 [00:37<00:00,  1.51it/s]\n",
            "Validation Epoch 18/25: 100%|██████████| 15/15 [00:04<00:00,  3.31it/s]\n"
          ]
        },
        {
          "output_type": "stream",
          "name": "stdout",
          "text": [
            "Epoch 17/24, Loss: 0.0000, Acc: 1.0000, Val Loss: 0.0001, Val Acc: 1.0000\n"
          ]
        },
        {
          "output_type": "stream",
          "name": "stderr",
          "text": [
            "Training Epoch 19/25: 100%|██████████| 57/57 [00:37<00:00,  1.53it/s]\n",
            "Validation Epoch 19/25: 100%|██████████| 15/15 [00:04<00:00,  3.31it/s]\n"
          ]
        },
        {
          "output_type": "stream",
          "name": "stdout",
          "text": [
            "Epoch 18/24, Loss: 0.0000, Acc: 1.0000, Val Loss: 0.0001, Val Acc: 1.0000\n"
          ]
        },
        {
          "output_type": "stream",
          "name": "stderr",
          "text": [
            "Training Epoch 20/25: 100%|██████████| 57/57 [00:37<00:00,  1.53it/s]\n",
            "Validation Epoch 20/25: 100%|██████████| 15/15 [00:04<00:00,  3.24it/s]\n"
          ]
        },
        {
          "output_type": "stream",
          "name": "stdout",
          "text": [
            "Epoch 19/24, Loss: 0.0000, Acc: 1.0000, Val Loss: 0.0001, Val Acc: 1.0000\n"
          ]
        },
        {
          "output_type": "stream",
          "name": "stderr",
          "text": [
            "Training Epoch 21/25: 100%|██████████| 57/57 [00:37<00:00,  1.52it/s]\n",
            "Validation Epoch 21/25: 100%|██████████| 15/15 [00:04<00:00,  3.36it/s]\n"
          ]
        },
        {
          "output_type": "stream",
          "name": "stdout",
          "text": [
            "Epoch 20/24, Loss: 0.0000, Acc: 1.0000, Val Loss: 0.0001, Val Acc: 1.0000\n"
          ]
        },
        {
          "output_type": "stream",
          "name": "stderr",
          "text": [
            "Training Epoch 22/25: 100%|██████████| 57/57 [00:37<00:00,  1.52it/s]\n",
            "Validation Epoch 22/25: 100%|██████████| 15/15 [00:04<00:00,  3.34it/s]\n"
          ]
        },
        {
          "output_type": "stream",
          "name": "stdout",
          "text": [
            "Epoch 21/24, Loss: 0.0000, Acc: 1.0000, Val Loss: 0.0001, Val Acc: 1.0000\n"
          ]
        },
        {
          "output_type": "stream",
          "name": "stderr",
          "text": [
            "Training Epoch 23/25: 100%|██████████| 57/57 [00:37<00:00,  1.53it/s]\n",
            "Validation Epoch 23/25: 100%|██████████| 15/15 [00:04<00:00,  3.37it/s]\n"
          ]
        },
        {
          "output_type": "stream",
          "name": "stdout",
          "text": [
            "Epoch 22/24, Loss: 0.0000, Acc: 1.0000, Val Loss: 0.0001, Val Acc: 1.0000\n"
          ]
        },
        {
          "output_type": "stream",
          "name": "stderr",
          "text": [
            "Training Epoch 24/25: 100%|██████████| 57/57 [00:37<00:00,  1.52it/s]\n",
            "Validation Epoch 24/25: 100%|██████████| 15/15 [00:04<00:00,  3.37it/s]\n"
          ]
        },
        {
          "output_type": "stream",
          "name": "stdout",
          "text": [
            "Epoch 23/24, Loss: 0.0000, Acc: 1.0000, Val Loss: 0.0001, Val Acc: 1.0000\n"
          ]
        },
        {
          "output_type": "stream",
          "name": "stderr",
          "text": [
            "Training Epoch 25/25: 100%|██████████| 57/57 [00:37<00:00,  1.53it/s]\n",
            "Validation Epoch 25/25: 100%|██████████| 15/15 [00:04<00:00,  3.30it/s]\n"
          ]
        },
        {
          "output_type": "stream",
          "name": "stdout",
          "text": [
            "Epoch 24/24, Loss: 0.0000, Acc: 1.0000, Val Loss: 0.0001, Val Acc: 1.0000\n"
          ]
        },
        {
          "output_type": "stream",
          "name": "stderr",
          "text": [
            "Evaluating: 100%|██████████| 18/18 [00:05<00:00,  3.39it/s]\n"
          ]
        },
        {
          "output_type": "stream",
          "name": "stdout",
          "text": [
            "Accuracy: 1.0000, Precision: 1.0000, Recall: 1.0000, F1 Score: 1.0000\n",
            "Training resnet101 with lr=0.0001 and batch_size=64\n"
          ]
        },
        {
          "output_type": "stream",
          "name": "stderr",
          "text": [
            "Training Epoch 1/25: 100%|██████████| 29/29 [00:38<00:00,  1.32s/it]\n",
            "Validation Epoch 1/25: 100%|██████████| 8/8 [00:04<00:00,  1.84it/s]\n"
          ]
        },
        {
          "output_type": "stream",
          "name": "stdout",
          "text": [
            "Epoch 0/24, Loss: 0.0000, Acc: 1.0000, Val Loss: 0.0000, Val Acc: 1.0000\n"
          ]
        },
        {
          "output_type": "stream",
          "name": "stderr",
          "text": [
            "Training Epoch 2/25: 100%|██████████| 29/29 [00:37<00:00,  1.31s/it]\n",
            "Validation Epoch 2/25: 100%|██████████| 8/8 [00:04<00:00,  1.85it/s]\n"
          ]
        },
        {
          "output_type": "stream",
          "name": "stdout",
          "text": [
            "Epoch 1/24, Loss: 0.0000, Acc: 1.0000, Val Loss: 0.0000, Val Acc: 1.0000\n"
          ]
        },
        {
          "output_type": "stream",
          "name": "stderr",
          "text": [
            "Training Epoch 3/25: 100%|██████████| 29/29 [00:37<00:00,  1.31s/it]\n",
            "Validation Epoch 3/25: 100%|██████████| 8/8 [00:04<00:00,  1.84it/s]\n"
          ]
        },
        {
          "output_type": "stream",
          "name": "stdout",
          "text": [
            "Epoch 2/24, Loss: 0.0000, Acc: 1.0000, Val Loss: 0.0000, Val Acc: 1.0000\n"
          ]
        },
        {
          "output_type": "stream",
          "name": "stderr",
          "text": [
            "Training Epoch 4/25: 100%|██████████| 29/29 [00:37<00:00,  1.30s/it]\n",
            "Validation Epoch 4/25: 100%|██████████| 8/8 [00:04<00:00,  1.86it/s]\n"
          ]
        },
        {
          "output_type": "stream",
          "name": "stdout",
          "text": [
            "Epoch 3/24, Loss: 0.0000, Acc: 1.0000, Val Loss: 0.0000, Val Acc: 1.0000\n"
          ]
        },
        {
          "output_type": "stream",
          "name": "stderr",
          "text": [
            "Training Epoch 5/25: 100%|██████████| 29/29 [00:38<00:00,  1.31s/it]\n",
            "Validation Epoch 5/25: 100%|██████████| 8/8 [00:04<00:00,  1.88it/s]\n"
          ]
        },
        {
          "output_type": "stream",
          "name": "stdout",
          "text": [
            "Epoch 4/24, Loss: 0.0000, Acc: 1.0000, Val Loss: 0.0000, Val Acc: 1.0000\n"
          ]
        },
        {
          "output_type": "stream",
          "name": "stderr",
          "text": [
            "Training Epoch 6/25: 100%|██████████| 29/29 [00:37<00:00,  1.30s/it]\n",
            "Validation Epoch 6/25: 100%|██████████| 8/8 [00:04<00:00,  1.87it/s]\n"
          ]
        },
        {
          "output_type": "stream",
          "name": "stdout",
          "text": [
            "Epoch 5/24, Loss: 0.0000, Acc: 1.0000, Val Loss: 0.0000, Val Acc: 1.0000\n"
          ]
        },
        {
          "output_type": "stream",
          "name": "stderr",
          "text": [
            "Training Epoch 7/25: 100%|██████████| 29/29 [00:37<00:00,  1.30s/it]\n",
            "Validation Epoch 7/25: 100%|██████████| 8/8 [00:04<00:00,  1.87it/s]\n"
          ]
        },
        {
          "output_type": "stream",
          "name": "stdout",
          "text": [
            "Epoch 6/24, Loss: 0.0000, Acc: 1.0000, Val Loss: 0.0000, Val Acc: 1.0000\n"
          ]
        },
        {
          "output_type": "stream",
          "name": "stderr",
          "text": [
            "Training Epoch 8/25: 100%|██████████| 29/29 [00:37<00:00,  1.30s/it]\n",
            "Validation Epoch 8/25: 100%|██████████| 8/8 [00:04<00:00,  1.85it/s]\n"
          ]
        },
        {
          "output_type": "stream",
          "name": "stdout",
          "text": [
            "Epoch 7/24, Loss: 0.0000, Acc: 1.0000, Val Loss: 0.0000, Val Acc: 1.0000\n"
          ]
        },
        {
          "output_type": "stream",
          "name": "stderr",
          "text": [
            "Training Epoch 9/25: 100%|██████████| 29/29 [00:37<00:00,  1.31s/it]\n",
            "Validation Epoch 9/25: 100%|██████████| 8/8 [00:04<00:00,  1.86it/s]\n"
          ]
        },
        {
          "output_type": "stream",
          "name": "stdout",
          "text": [
            "Epoch 8/24, Loss: 0.0000, Acc: 1.0000, Val Loss: 0.0000, Val Acc: 1.0000\n"
          ]
        },
        {
          "output_type": "stream",
          "name": "stderr",
          "text": [
            "Training Epoch 10/25: 100%|██████████| 29/29 [00:37<00:00,  1.31s/it]\n",
            "Validation Epoch 10/25: 100%|██████████| 8/8 [00:04<00:00,  1.85it/s]\n"
          ]
        },
        {
          "output_type": "stream",
          "name": "stdout",
          "text": [
            "Epoch 9/24, Loss: 0.0000, Acc: 1.0000, Val Loss: 0.0000, Val Acc: 1.0000\n"
          ]
        },
        {
          "output_type": "stream",
          "name": "stderr",
          "text": [
            "Training Epoch 11/25: 100%|██████████| 29/29 [00:38<00:00,  1.32s/it]\n",
            "Validation Epoch 11/25: 100%|██████████| 8/8 [00:04<00:00,  1.87it/s]\n"
          ]
        },
        {
          "output_type": "stream",
          "name": "stdout",
          "text": [
            "Epoch 10/24, Loss: 0.0000, Acc: 1.0000, Val Loss: 0.0000, Val Acc: 1.0000\n"
          ]
        },
        {
          "output_type": "stream",
          "name": "stderr",
          "text": [
            "Training Epoch 12/25: 100%|██████████| 29/29 [00:37<00:00,  1.30s/it]\n",
            "Validation Epoch 12/25: 100%|██████████| 8/8 [00:04<00:00,  1.87it/s]\n"
          ]
        },
        {
          "output_type": "stream",
          "name": "stdout",
          "text": [
            "Epoch 11/24, Loss: 0.0000, Acc: 1.0000, Val Loss: 0.0000, Val Acc: 1.0000\n"
          ]
        },
        {
          "output_type": "stream",
          "name": "stderr",
          "text": [
            "Training Epoch 13/25: 100%|██████████| 29/29 [00:37<00:00,  1.30s/it]\n",
            "Validation Epoch 13/25: 100%|██████████| 8/8 [00:04<00:00,  1.85it/s]\n"
          ]
        },
        {
          "output_type": "stream",
          "name": "stdout",
          "text": [
            "Epoch 12/24, Loss: 0.0000, Acc: 1.0000, Val Loss: 0.0000, Val Acc: 1.0000\n"
          ]
        },
        {
          "output_type": "stream",
          "name": "stderr",
          "text": [
            "Training Epoch 14/25: 100%|██████████| 29/29 [00:37<00:00,  1.31s/it]\n",
            "Validation Epoch 14/25: 100%|██████████| 8/8 [00:04<00:00,  1.87it/s]\n"
          ]
        },
        {
          "output_type": "stream",
          "name": "stdout",
          "text": [
            "Epoch 13/24, Loss: 0.0000, Acc: 1.0000, Val Loss: 0.0000, Val Acc: 1.0000\n"
          ]
        },
        {
          "output_type": "stream",
          "name": "stderr",
          "text": [
            "Training Epoch 15/25: 100%|██████████| 29/29 [00:37<00:00,  1.30s/it]\n",
            "Validation Epoch 15/25: 100%|██████████| 8/8 [00:04<00:00,  1.87it/s]\n"
          ]
        },
        {
          "output_type": "stream",
          "name": "stdout",
          "text": [
            "Epoch 14/24, Loss: 0.0000, Acc: 1.0000, Val Loss: 0.0000, Val Acc: 1.0000\n"
          ]
        },
        {
          "output_type": "stream",
          "name": "stderr",
          "text": [
            "Training Epoch 16/25: 100%|██████████| 29/29 [00:37<00:00,  1.30s/it]\n",
            "Validation Epoch 16/25: 100%|██████████| 8/8 [00:04<00:00,  1.80it/s]\n"
          ]
        },
        {
          "output_type": "stream",
          "name": "stdout",
          "text": [
            "Epoch 15/24, Loss: 0.0000, Acc: 1.0000, Val Loss: 0.0000, Val Acc: 1.0000\n"
          ]
        },
        {
          "output_type": "stream",
          "name": "stderr",
          "text": [
            "Training Epoch 17/25: 100%|██████████| 29/29 [00:37<00:00,  1.31s/it]\n",
            "Validation Epoch 17/25: 100%|██████████| 8/8 [00:04<00:00,  1.90it/s]\n"
          ]
        },
        {
          "output_type": "stream",
          "name": "stdout",
          "text": [
            "Epoch 16/24, Loss: 0.0000, Acc: 1.0000, Val Loss: 0.0000, Val Acc: 1.0000\n"
          ]
        },
        {
          "output_type": "stream",
          "name": "stderr",
          "text": [
            "Training Epoch 18/25: 100%|██████████| 29/29 [00:37<00:00,  1.30s/it]\n",
            "Validation Epoch 18/25: 100%|██████████| 8/8 [00:04<00:00,  1.82it/s]\n"
          ]
        },
        {
          "output_type": "stream",
          "name": "stdout",
          "text": [
            "Epoch 17/24, Loss: 0.0000, Acc: 1.0000, Val Loss: 0.0000, Val Acc: 1.0000\n"
          ]
        },
        {
          "output_type": "stream",
          "name": "stderr",
          "text": [
            "Training Epoch 19/25: 100%|██████████| 29/29 [00:37<00:00,  1.30s/it]\n",
            "Validation Epoch 19/25: 100%|██████████| 8/8 [00:04<00:00,  1.87it/s]\n"
          ]
        },
        {
          "output_type": "stream",
          "name": "stdout",
          "text": [
            "Epoch 18/24, Loss: 0.0000, Acc: 1.0000, Val Loss: 0.0000, Val Acc: 1.0000\n"
          ]
        },
        {
          "output_type": "stream",
          "name": "stderr",
          "text": [
            "Training Epoch 20/25: 100%|██████████| 29/29 [00:37<00:00,  1.30s/it]\n",
            "Validation Epoch 20/25: 100%|██████████| 8/8 [00:04<00:00,  1.87it/s]\n"
          ]
        },
        {
          "output_type": "stream",
          "name": "stdout",
          "text": [
            "Epoch 19/24, Loss: 0.0000, Acc: 1.0000, Val Loss: 0.0000, Val Acc: 1.0000\n"
          ]
        },
        {
          "output_type": "stream",
          "name": "stderr",
          "text": [
            "Training Epoch 21/25: 100%|██████████| 29/29 [00:37<00:00,  1.30s/it]\n",
            "Validation Epoch 21/25: 100%|██████████| 8/8 [00:04<00:00,  1.85it/s]\n"
          ]
        },
        {
          "output_type": "stream",
          "name": "stdout",
          "text": [
            "Epoch 20/24, Loss: 0.0000, Acc: 1.0000, Val Loss: 0.0000, Val Acc: 1.0000\n"
          ]
        },
        {
          "output_type": "stream",
          "name": "stderr",
          "text": [
            "Training Epoch 22/25: 100%|██████████| 29/29 [00:37<00:00,  1.30s/it]\n",
            "Validation Epoch 22/25: 100%|██████████| 8/8 [00:04<00:00,  1.68it/s]\n"
          ]
        },
        {
          "output_type": "stream",
          "name": "stdout",
          "text": [
            "Epoch 21/24, Loss: 0.0000, Acc: 1.0000, Val Loss: 0.0000, Val Acc: 1.0000\n"
          ]
        },
        {
          "output_type": "stream",
          "name": "stderr",
          "text": [
            "Training Epoch 23/25: 100%|██████████| 29/29 [00:37<00:00,  1.30s/it]\n",
            "Validation Epoch 23/25: 100%|██████████| 8/8 [00:04<00:00,  1.85it/s]\n"
          ]
        },
        {
          "output_type": "stream",
          "name": "stdout",
          "text": [
            "Epoch 22/24, Loss: 0.0000, Acc: 1.0000, Val Loss: 0.0000, Val Acc: 1.0000\n"
          ]
        },
        {
          "output_type": "stream",
          "name": "stderr",
          "text": [
            "Training Epoch 24/25: 100%|██████████| 29/29 [00:37<00:00,  1.30s/it]\n",
            "Validation Epoch 24/25: 100%|██████████| 8/8 [00:04<00:00,  1.85it/s]\n"
          ]
        },
        {
          "output_type": "stream",
          "name": "stdout",
          "text": [
            "Epoch 23/24, Loss: 0.0000, Acc: 1.0000, Val Loss: 0.0000, Val Acc: 1.0000\n"
          ]
        },
        {
          "output_type": "stream",
          "name": "stderr",
          "text": [
            "Training Epoch 25/25: 100%|██████████| 29/29 [00:37<00:00,  1.30s/it]\n",
            "Validation Epoch 25/25: 100%|██████████| 8/8 [00:04<00:00,  1.84it/s]\n"
          ]
        },
        {
          "output_type": "stream",
          "name": "stdout",
          "text": [
            "Epoch 24/24, Loss: 0.0000, Acc: 1.0000, Val Loss: 0.0000, Val Acc: 1.0000\n"
          ]
        },
        {
          "output_type": "stream",
          "name": "stderr",
          "text": [
            "Evaluating: 100%|██████████| 18/18 [00:05<00:00,  3.14it/s]\n"
          ]
        },
        {
          "output_type": "stream",
          "name": "stdout",
          "text": [
            "Accuracy: 1.0000, Precision: 1.0000, Recall: 1.0000, F1 Score: 1.0000\n",
            "Training resnet152 with lr=0.001 and batch_size=16\n"
          ]
        },
        {
          "output_type": "stream",
          "name": "stderr",
          "text": [
            "Training Epoch 1/25: 100%|██████████| 113/113 [00:51<00:00,  2.19it/s]\n",
            "Validation Epoch 1/25: 100%|██████████| 29/29 [00:05<00:00,  5.21it/s]\n"
          ]
        },
        {
          "output_type": "stream",
          "name": "stdout",
          "text": [
            "Epoch 0/24, Loss: 0.1974, Acc: 0.9290, Val Loss: 2.9530, Val Acc: 0.6593\n"
          ]
        },
        {
          "output_type": "stream",
          "name": "stderr",
          "text": [
            "Training Epoch 2/25: 100%|██████████| 113/113 [00:51<00:00,  2.20it/s]\n",
            "Validation Epoch 2/25: 100%|██████████| 29/29 [00:05<00:00,  5.28it/s]\n"
          ]
        },
        {
          "output_type": "stream",
          "name": "stdout",
          "text": [
            "Epoch 1/24, Loss: 0.1357, Acc: 0.9490, Val Loss: 0.1092, Val Acc: 0.9538\n"
          ]
        },
        {
          "output_type": "stream",
          "name": "stderr",
          "text": [
            "Training Epoch 3/25: 100%|██████████| 113/113 [00:51<00:00,  2.20it/s]\n",
            "Validation Epoch 3/25: 100%|██████████| 29/29 [00:05<00:00,  5.34it/s]\n"
          ]
        },
        {
          "output_type": "stream",
          "name": "stdout",
          "text": [
            "Epoch 2/24, Loss: 0.1475, Acc: 0.9390, Val Loss: 0.2823, Val Acc: 0.9429\n"
          ]
        },
        {
          "output_type": "stream",
          "name": "stderr",
          "text": [
            "Training Epoch 4/25: 100%|██████████| 113/113 [00:51<00:00,  2.20it/s]\n",
            "Validation Epoch 4/25: 100%|██████████| 29/29 [00:05<00:00,  5.45it/s]\n"
          ]
        },
        {
          "output_type": "stream",
          "name": "stdout",
          "text": [
            "Epoch 3/24, Loss: 0.1241, Acc: 0.9573, Val Loss: 0.0871, Val Acc: 0.9758\n"
          ]
        },
        {
          "output_type": "stream",
          "name": "stderr",
          "text": [
            "Training Epoch 5/25: 100%|██████████| 113/113 [00:51<00:00,  2.20it/s]\n",
            "Validation Epoch 5/25: 100%|██████████| 29/29 [00:05<00:00,  5.46it/s]\n"
          ]
        },
        {
          "output_type": "stream",
          "name": "stdout",
          "text": [
            "Epoch 4/24, Loss: 0.0407, Acc: 0.9861, Val Loss: 0.0422, Val Acc: 0.9824\n"
          ]
        },
        {
          "output_type": "stream",
          "name": "stderr",
          "text": [
            "Training Epoch 6/25: 100%|██████████| 113/113 [00:51<00:00,  2.20it/s]\n",
            "Validation Epoch 6/25: 100%|██████████| 29/29 [00:05<00:00,  5.38it/s]\n"
          ]
        },
        {
          "output_type": "stream",
          "name": "stdout",
          "text": [
            "Epoch 5/24, Loss: 0.0715, Acc: 0.9717, Val Loss: 0.0578, Val Acc: 0.9780\n"
          ]
        },
        {
          "output_type": "stream",
          "name": "stderr",
          "text": [
            "Training Epoch 7/25: 100%|██████████| 113/113 [00:51<00:00,  2.18it/s]\n",
            "Validation Epoch 7/25: 100%|██████████| 29/29 [00:05<00:00,  5.44it/s]\n"
          ]
        },
        {
          "output_type": "stream",
          "name": "stdout",
          "text": [
            "Epoch 6/24, Loss: 0.0244, Acc: 0.9945, Val Loss: 0.0074, Val Acc: 0.9978\n"
          ]
        },
        {
          "output_type": "stream",
          "name": "stderr",
          "text": [
            "Training Epoch 8/25: 100%|██████████| 113/113 [00:51<00:00,  2.19it/s]\n",
            "Validation Epoch 8/25: 100%|██████████| 29/29 [00:05<00:00,  5.39it/s]\n"
          ]
        },
        {
          "output_type": "stream",
          "name": "stdout",
          "text": [
            "Epoch 7/24, Loss: 0.0117, Acc: 0.9967, Val Loss: 0.0035, Val Acc: 1.0000\n"
          ]
        },
        {
          "output_type": "stream",
          "name": "stderr",
          "text": [
            "Training Epoch 9/25: 100%|██████████| 113/113 [00:51<00:00,  2.19it/s]\n",
            "Validation Epoch 9/25: 100%|██████████| 29/29 [00:05<00:00,  5.42it/s]\n"
          ]
        },
        {
          "output_type": "stream",
          "name": "stdout",
          "text": [
            "Epoch 8/24, Loss: 0.0013, Acc: 1.0000, Val Loss: 0.0021, Val Acc: 1.0000\n"
          ]
        },
        {
          "output_type": "stream",
          "name": "stderr",
          "text": [
            "Training Epoch 10/25: 100%|██████████| 113/113 [00:51<00:00,  2.19it/s]\n",
            "Validation Epoch 10/25: 100%|██████████| 29/29 [00:05<00:00,  5.35it/s]\n"
          ]
        },
        {
          "output_type": "stream",
          "name": "stdout",
          "text": [
            "Epoch 9/24, Loss: 0.0005, Acc: 1.0000, Val Loss: 0.0022, Val Acc: 1.0000\n"
          ]
        },
        {
          "output_type": "stream",
          "name": "stderr",
          "text": [
            "Training Epoch 11/25: 100%|██████████| 113/113 [00:51<00:00,  2.20it/s]\n",
            "Validation Epoch 11/25: 100%|██████████| 29/29 [00:05<00:00,  5.17it/s]\n"
          ]
        },
        {
          "output_type": "stream",
          "name": "stdout",
          "text": [
            "Epoch 10/24, Loss: 0.0802, Acc: 0.9678, Val Loss: 0.0942, Val Acc: 0.9648\n"
          ]
        },
        {
          "output_type": "stream",
          "name": "stderr",
          "text": [
            "Training Epoch 12/25: 100%|██████████| 113/113 [00:51<00:00,  2.20it/s]\n",
            "Validation Epoch 12/25: 100%|██████████| 29/29 [00:05<00:00,  5.33it/s]\n"
          ]
        },
        {
          "output_type": "stream",
          "name": "stdout",
          "text": [
            "Epoch 11/24, Loss: 0.0936, Acc: 0.9662, Val Loss: 0.6286, Val Acc: 0.8242\n"
          ]
        },
        {
          "output_type": "stream",
          "name": "stderr",
          "text": [
            "Training Epoch 13/25: 100%|██████████| 113/113 [00:51<00:00,  2.21it/s]\n",
            "Validation Epoch 13/25: 100%|██████████| 29/29 [00:05<00:00,  5.29it/s]\n"
          ]
        },
        {
          "output_type": "stream",
          "name": "stdout",
          "text": [
            "Epoch 12/24, Loss: 0.0676, Acc: 0.9750, Val Loss: 1.2650, Val Acc: 0.7846\n"
          ]
        },
        {
          "output_type": "stream",
          "name": "stderr",
          "text": [
            "Training Epoch 14/25: 100%|██████████| 113/113 [00:51<00:00,  2.21it/s]\n",
            "Validation Epoch 14/25: 100%|██████████| 29/29 [00:05<00:00,  5.11it/s]\n"
          ]
        },
        {
          "output_type": "stream",
          "name": "stdout",
          "text": [
            "Epoch 13/24, Loss: 0.1007, Acc: 0.9639, Val Loss: 0.0218, Val Acc: 0.9890\n"
          ]
        },
        {
          "output_type": "stream",
          "name": "stderr",
          "text": [
            "Training Epoch 15/25: 100%|██████████| 113/113 [00:50<00:00,  2.22it/s]\n",
            "Validation Epoch 15/25: 100%|██████████| 29/29 [00:05<00:00,  5.11it/s]\n"
          ]
        },
        {
          "output_type": "stream",
          "name": "stdout",
          "text": [
            "Epoch 14/24, Loss: 0.0484, Acc: 0.9784, Val Loss: 0.0226, Val Acc: 0.9934\n"
          ]
        },
        {
          "output_type": "stream",
          "name": "stderr",
          "text": [
            "Training Epoch 16/25: 100%|██████████| 113/113 [00:51<00:00,  2.21it/s]\n",
            "Validation Epoch 16/25: 100%|██████████| 29/29 [00:05<00:00,  5.12it/s]\n"
          ]
        },
        {
          "output_type": "stream",
          "name": "stdout",
          "text": [
            "Epoch 15/24, Loss: 0.0200, Acc: 0.9945, Val Loss: 0.0150, Val Acc: 0.9956\n"
          ]
        },
        {
          "output_type": "stream",
          "name": "stderr",
          "text": [
            "Training Epoch 17/25: 100%|██████████| 113/113 [00:51<00:00,  2.21it/s]\n",
            "Validation Epoch 17/25: 100%|██████████| 29/29 [00:05<00:00,  5.13it/s]\n"
          ]
        },
        {
          "output_type": "stream",
          "name": "stdout",
          "text": [
            "Epoch 16/24, Loss: 0.0236, Acc: 0.9950, Val Loss: 0.0088, Val Acc: 0.9978\n"
          ]
        },
        {
          "output_type": "stream",
          "name": "stderr",
          "text": [
            "Training Epoch 18/25: 100%|██████████| 113/113 [00:51<00:00,  2.21it/s]\n",
            "Validation Epoch 18/25: 100%|██████████| 29/29 [00:05<00:00,  5.25it/s]\n"
          ]
        },
        {
          "output_type": "stream",
          "name": "stdout",
          "text": [
            "Epoch 17/24, Loss: 0.0170, Acc: 0.9956, Val Loss: 0.0045, Val Acc: 0.9978\n"
          ]
        },
        {
          "output_type": "stream",
          "name": "stderr",
          "text": [
            "Training Epoch 19/25: 100%|██████████| 113/113 [00:51<00:00,  2.20it/s]\n",
            "Validation Epoch 19/25: 100%|██████████| 29/29 [00:05<00:00,  5.34it/s]\n"
          ]
        },
        {
          "output_type": "stream",
          "name": "stdout",
          "text": [
            "Epoch 18/24, Loss: 0.0040, Acc: 0.9983, Val Loss: 0.0044, Val Acc: 0.9978\n"
          ]
        },
        {
          "output_type": "stream",
          "name": "stderr",
          "text": [
            "Training Epoch 20/25: 100%|██████████| 113/113 [00:51<00:00,  2.20it/s]\n",
            "Validation Epoch 20/25: 100%|██████████| 29/29 [00:05<00:00,  5.36it/s]\n"
          ]
        },
        {
          "output_type": "stream",
          "name": "stdout",
          "text": [
            "Epoch 19/24, Loss: 0.0019, Acc: 1.0000, Val Loss: 0.0029, Val Acc: 0.9978\n"
          ]
        },
        {
          "output_type": "stream",
          "name": "stderr",
          "text": [
            "Training Epoch 21/25: 100%|██████████| 113/113 [00:51<00:00,  2.20it/s]\n",
            "Validation Epoch 21/25: 100%|██████████| 29/29 [00:05<00:00,  5.42it/s]\n"
          ]
        },
        {
          "output_type": "stream",
          "name": "stdout",
          "text": [
            "Epoch 20/24, Loss: 0.0002, Acc: 1.0000, Val Loss: 0.0021, Val Acc: 0.9978\n"
          ]
        },
        {
          "output_type": "stream",
          "name": "stderr",
          "text": [
            "Training Epoch 22/25: 100%|██████████| 113/113 [00:51<00:00,  2.20it/s]\n",
            "Validation Epoch 22/25: 100%|██████████| 29/29 [00:05<00:00,  5.46it/s]\n"
          ]
        },
        {
          "output_type": "stream",
          "name": "stdout",
          "text": [
            "Epoch 21/24, Loss: 0.0001, Acc: 1.0000, Val Loss: 0.0025, Val Acc: 0.9978\n"
          ]
        },
        {
          "output_type": "stream",
          "name": "stderr",
          "text": [
            "Training Epoch 23/25: 100%|██████████| 113/113 [00:51<00:00,  2.21it/s]\n",
            "Validation Epoch 23/25: 100%|██████████| 29/29 [00:05<00:00,  5.46it/s]\n"
          ]
        },
        {
          "output_type": "stream",
          "name": "stdout",
          "text": [
            "Epoch 22/24, Loss: 0.0001, Acc: 1.0000, Val Loss: 0.0013, Val Acc: 1.0000\n"
          ]
        },
        {
          "output_type": "stream",
          "name": "stderr",
          "text": [
            "Training Epoch 24/25: 100%|██████████| 113/113 [00:51<00:00,  2.21it/s]\n",
            "Validation Epoch 24/25: 100%|██████████| 29/29 [00:05<00:00,  5.47it/s]\n"
          ]
        },
        {
          "output_type": "stream",
          "name": "stdout",
          "text": [
            "Epoch 23/24, Loss: 0.0001, Acc: 1.0000, Val Loss: 0.0012, Val Acc: 1.0000\n"
          ]
        },
        {
          "output_type": "stream",
          "name": "stderr",
          "text": [
            "Training Epoch 25/25: 100%|██████████| 113/113 [00:51<00:00,  2.20it/s]\n",
            "Validation Epoch 25/25: 100%|██████████| 29/29 [00:05<00:00,  5.43it/s]\n"
          ]
        },
        {
          "output_type": "stream",
          "name": "stdout",
          "text": [
            "Epoch 24/24, Loss: 0.0002, Acc: 1.0000, Val Loss: 0.0005, Val Acc: 1.0000\n"
          ]
        },
        {
          "output_type": "stream",
          "name": "stderr",
          "text": [
            "Evaluating: 100%|██████████| 18/18 [00:06<00:00,  2.64it/s]\n"
          ]
        },
        {
          "output_type": "stream",
          "name": "stdout",
          "text": [
            "Accuracy: 0.9982, Precision: 0.9982, Recall: 0.9982, F1 Score: 0.9982\n",
            "Training resnet152 with lr=0.001 and batch_size=32\n"
          ]
        },
        {
          "output_type": "stream",
          "name": "stderr",
          "text": [
            "Training Epoch 1/25: 100%|██████████| 57/57 [00:48<00:00,  1.16it/s]\n",
            "Validation Epoch 1/25: 100%|██████████| 15/15 [00:05<00:00,  2.71it/s]\n"
          ]
        },
        {
          "output_type": "stream",
          "name": "stdout",
          "text": [
            "Epoch 0/24, Loss: 0.0496, Acc: 0.9856, Val Loss: 1.1658, Val Acc: 0.6989\n"
          ]
        },
        {
          "output_type": "stream",
          "name": "stderr",
          "text": [
            "Training Epoch 2/25: 100%|██████████| 57/57 [00:48<00:00,  1.17it/s]\n",
            "Validation Epoch 2/25: 100%|██████████| 15/15 [00:05<00:00,  2.73it/s]\n"
          ]
        },
        {
          "output_type": "stream",
          "name": "stdout",
          "text": [
            "Epoch 1/24, Loss: 0.0454, Acc: 0.9834, Val Loss: 0.4774, Val Acc: 0.9275\n"
          ]
        },
        {
          "output_type": "stream",
          "name": "stderr",
          "text": [
            "Training Epoch 3/25: 100%|██████████| 57/57 [00:48<00:00,  1.16it/s]\n",
            "Validation Epoch 3/25: 100%|██████████| 15/15 [00:05<00:00,  2.78it/s]\n"
          ]
        },
        {
          "output_type": "stream",
          "name": "stdout",
          "text": [
            "Epoch 2/24, Loss: 0.0104, Acc: 0.9956, Val Loss: 0.0214, Val Acc: 0.9934\n"
          ]
        },
        {
          "output_type": "stream",
          "name": "stderr",
          "text": [
            "Training Epoch 4/25: 100%|██████████| 57/57 [00:48<00:00,  1.17it/s]\n",
            "Validation Epoch 4/25: 100%|██████████| 15/15 [00:05<00:00,  2.88it/s]\n"
          ]
        },
        {
          "output_type": "stream",
          "name": "stdout",
          "text": [
            "Epoch 3/24, Loss: 0.0061, Acc: 0.9983, Val Loss: 0.0052, Val Acc: 0.9978\n"
          ]
        },
        {
          "output_type": "stream",
          "name": "stderr",
          "text": [
            "Training Epoch 5/25: 100%|██████████| 57/57 [00:49<00:00,  1.16it/s]\n",
            "Validation Epoch 5/25: 100%|██████████| 15/15 [00:05<00:00,  2.88it/s]\n"
          ]
        },
        {
          "output_type": "stream",
          "name": "stdout",
          "text": [
            "Epoch 4/24, Loss: 0.0009, Acc: 1.0000, Val Loss: 0.0035, Val Acc: 0.9978\n"
          ]
        },
        {
          "output_type": "stream",
          "name": "stderr",
          "text": [
            "Training Epoch 6/25: 100%|██████████| 57/57 [00:48<00:00,  1.17it/s]\n",
            "Validation Epoch 6/25: 100%|██████████| 15/15 [00:05<00:00,  2.91it/s]\n"
          ]
        },
        {
          "output_type": "stream",
          "name": "stdout",
          "text": [
            "Epoch 5/24, Loss: 0.0017, Acc: 0.9994, Val Loss: 0.0050, Val Acc: 0.9978\n"
          ]
        },
        {
          "output_type": "stream",
          "name": "stderr",
          "text": [
            "Training Epoch 7/25: 100%|██████████| 57/57 [00:49<00:00,  1.16it/s]\n",
            "Validation Epoch 7/25: 100%|██████████| 15/15 [00:05<00:00,  2.85it/s]\n"
          ]
        },
        {
          "output_type": "stream",
          "name": "stdout",
          "text": [
            "Epoch 6/24, Loss: 0.0008, Acc: 0.9994, Val Loss: 0.0023, Val Acc: 0.9978\n"
          ]
        },
        {
          "output_type": "stream",
          "name": "stderr",
          "text": [
            "Training Epoch 8/25: 100%|██████████| 57/57 [00:48<00:00,  1.16it/s]\n",
            "Validation Epoch 8/25: 100%|██████████| 15/15 [00:05<00:00,  2.78it/s]\n"
          ]
        },
        {
          "output_type": "stream",
          "name": "stdout",
          "text": [
            "Epoch 7/24, Loss: 0.0002, Acc: 1.0000, Val Loss: 0.0063, Val Acc: 0.9978\n"
          ]
        },
        {
          "output_type": "stream",
          "name": "stderr",
          "text": [
            "Training Epoch 9/25: 100%|██████████| 57/57 [00:48<00:00,  1.17it/s]\n",
            "Validation Epoch 9/25: 100%|██████████| 15/15 [00:05<00:00,  2.75it/s]\n"
          ]
        },
        {
          "output_type": "stream",
          "name": "stdout",
          "text": [
            "Epoch 8/24, Loss: 0.0001, Acc: 1.0000, Val Loss: 0.0072, Val Acc: 0.9978\n"
          ]
        },
        {
          "output_type": "stream",
          "name": "stderr",
          "text": [
            "Training Epoch 10/25: 100%|██████████| 57/57 [00:49<00:00,  1.16it/s]\n",
            "Validation Epoch 10/25: 100%|██████████| 15/15 [00:05<00:00,  2.72it/s]\n"
          ]
        },
        {
          "output_type": "stream",
          "name": "stdout",
          "text": [
            "Epoch 9/24, Loss: 0.0000, Acc: 1.0000, Val Loss: 0.0069, Val Acc: 0.9978\n"
          ]
        },
        {
          "output_type": "stream",
          "name": "stderr",
          "text": [
            "Training Epoch 11/25: 100%|██████████| 57/57 [00:48<00:00,  1.17it/s]\n",
            "Validation Epoch 11/25: 100%|██████████| 15/15 [00:05<00:00,  2.79it/s]\n"
          ]
        },
        {
          "output_type": "stream",
          "name": "stdout",
          "text": [
            "Epoch 10/24, Loss: 0.0000, Acc: 1.0000, Val Loss: 0.0070, Val Acc: 0.9978\n"
          ]
        },
        {
          "output_type": "stream",
          "name": "stderr",
          "text": [
            "Training Epoch 12/25: 100%|██████████| 57/57 [00:48<00:00,  1.17it/s]\n",
            "Validation Epoch 12/25: 100%|██████████| 15/15 [00:05<00:00,  2.82it/s]\n"
          ]
        },
        {
          "output_type": "stream",
          "name": "stdout",
          "text": [
            "Epoch 11/24, Loss: 0.0000, Acc: 1.0000, Val Loss: 0.0072, Val Acc: 0.9978\n"
          ]
        },
        {
          "output_type": "stream",
          "name": "stderr",
          "text": [
            "Training Epoch 13/25: 100%|██████████| 57/57 [00:49<00:00,  1.16it/s]\n",
            "Validation Epoch 13/25: 100%|██████████| 15/15 [00:05<00:00,  2.88it/s]\n"
          ]
        },
        {
          "output_type": "stream",
          "name": "stdout",
          "text": [
            "Epoch 12/24, Loss: 0.0000, Acc: 1.0000, Val Loss: 0.0066, Val Acc: 0.9978\n"
          ]
        },
        {
          "output_type": "stream",
          "name": "stderr",
          "text": [
            "Training Epoch 14/25: 100%|██████████| 57/57 [00:49<00:00,  1.15it/s]\n",
            "Validation Epoch 14/25: 100%|██████████| 15/15 [00:05<00:00,  2.84it/s]\n"
          ]
        },
        {
          "output_type": "stream",
          "name": "stdout",
          "text": [
            "Epoch 13/24, Loss: 0.0000, Acc: 1.0000, Val Loss: 0.0074, Val Acc: 0.9978\n"
          ]
        },
        {
          "output_type": "stream",
          "name": "stderr",
          "text": [
            "Training Epoch 15/25: 100%|██████████| 57/57 [00:49<00:00,  1.16it/s]\n",
            "Validation Epoch 15/25: 100%|██████████| 15/15 [00:05<00:00,  2.85it/s]\n"
          ]
        },
        {
          "output_type": "stream",
          "name": "stdout",
          "text": [
            "Epoch 14/24, Loss: 0.0000, Acc: 1.0000, Val Loss: 0.0081, Val Acc: 0.9978\n"
          ]
        },
        {
          "output_type": "stream",
          "name": "stderr",
          "text": [
            "Training Epoch 16/25: 100%|██████████| 57/57 [00:48<00:00,  1.16it/s]\n",
            "Validation Epoch 16/25: 100%|██████████| 15/15 [00:05<00:00,  2.76it/s]\n"
          ]
        },
        {
          "output_type": "stream",
          "name": "stdout",
          "text": [
            "Epoch 15/24, Loss: 0.0000, Acc: 1.0000, Val Loss: 0.0077, Val Acc: 0.9978\n"
          ]
        },
        {
          "output_type": "stream",
          "name": "stderr",
          "text": [
            "Training Epoch 17/25: 100%|██████████| 57/57 [00:48<00:00,  1.17it/s]\n",
            "Validation Epoch 17/25: 100%|██████████| 15/15 [00:05<00:00,  2.70it/s]\n"
          ]
        },
        {
          "output_type": "stream",
          "name": "stdout",
          "text": [
            "Epoch 16/24, Loss: 0.0000, Acc: 1.0000, Val Loss: 0.0089, Val Acc: 0.9978\n"
          ]
        },
        {
          "output_type": "stream",
          "name": "stderr",
          "text": [
            "Training Epoch 18/25: 100%|██████████| 57/57 [00:48<00:00,  1.17it/s]\n",
            "Validation Epoch 18/25: 100%|██████████| 15/15 [00:05<00:00,  2.67it/s]\n"
          ]
        },
        {
          "output_type": "stream",
          "name": "stdout",
          "text": [
            "Epoch 17/24, Loss: 0.0000, Acc: 1.0000, Val Loss: 0.0077, Val Acc: 0.9978\n"
          ]
        },
        {
          "output_type": "stream",
          "name": "stderr",
          "text": [
            "Training Epoch 19/25: 100%|██████████| 57/57 [00:48<00:00,  1.16it/s]\n",
            "Validation Epoch 19/25: 100%|██████████| 15/15 [00:05<00:00,  2.75it/s]\n"
          ]
        },
        {
          "output_type": "stream",
          "name": "stdout",
          "text": [
            "Epoch 18/24, Loss: 0.0000, Acc: 1.0000, Val Loss: 0.0085, Val Acc: 0.9978\n"
          ]
        },
        {
          "output_type": "stream",
          "name": "stderr",
          "text": [
            "Training Epoch 20/25: 100%|██████████| 57/57 [00:48<00:00,  1.16it/s]\n",
            "Validation Epoch 20/25: 100%|██████████| 15/15 [00:05<00:00,  2.84it/s]\n"
          ]
        },
        {
          "output_type": "stream",
          "name": "stdout",
          "text": [
            "Epoch 19/24, Loss: 0.0000, Acc: 1.0000, Val Loss: 0.0082, Val Acc: 0.9978\n"
          ]
        },
        {
          "output_type": "stream",
          "name": "stderr",
          "text": [
            "Training Epoch 21/25: 100%|██████████| 57/57 [00:48<00:00,  1.16it/s]\n",
            "Validation Epoch 21/25: 100%|██████████| 15/15 [00:05<00:00,  2.92it/s]\n"
          ]
        },
        {
          "output_type": "stream",
          "name": "stdout",
          "text": [
            "Epoch 20/24, Loss: 0.0000, Acc: 1.0000, Val Loss: 0.0081, Val Acc: 0.9978\n"
          ]
        },
        {
          "output_type": "stream",
          "name": "stderr",
          "text": [
            "Training Epoch 22/25: 100%|██████████| 57/57 [00:48<00:00,  1.16it/s]\n",
            "Validation Epoch 22/25: 100%|██████████| 15/15 [00:05<00:00,  2.88it/s]\n"
          ]
        },
        {
          "output_type": "stream",
          "name": "stdout",
          "text": [
            "Epoch 21/24, Loss: 0.0000, Acc: 1.0000, Val Loss: 0.0075, Val Acc: 0.9978\n"
          ]
        },
        {
          "output_type": "stream",
          "name": "stderr",
          "text": [
            "Training Epoch 23/25: 100%|██████████| 57/57 [00:48<00:00,  1.16it/s]\n",
            "Validation Epoch 23/25: 100%|██████████| 15/15 [00:05<00:00,  2.90it/s]\n"
          ]
        },
        {
          "output_type": "stream",
          "name": "stdout",
          "text": [
            "Epoch 22/24, Loss: 0.0000, Acc: 1.0000, Val Loss: 0.0081, Val Acc: 0.9978\n"
          ]
        },
        {
          "output_type": "stream",
          "name": "stderr",
          "text": [
            "Training Epoch 24/25: 100%|██████████| 57/57 [00:49<00:00,  1.16it/s]\n",
            "Validation Epoch 24/25: 100%|██████████| 15/15 [00:05<00:00,  2.85it/s]\n"
          ]
        },
        {
          "output_type": "stream",
          "name": "stdout",
          "text": [
            "Epoch 23/24, Loss: 0.0000, Acc: 1.0000, Val Loss: 0.0085, Val Acc: 0.9978\n"
          ]
        },
        {
          "output_type": "stream",
          "name": "stderr",
          "text": [
            "Training Epoch 25/25: 100%|██████████| 57/57 [00:48<00:00,  1.16it/s]\n",
            "Validation Epoch 25/25: 100%|██████████| 15/15 [00:05<00:00,  2.75it/s]\n"
          ]
        },
        {
          "output_type": "stream",
          "name": "stdout",
          "text": [
            "Epoch 24/24, Loss: 0.0000, Acc: 1.0000, Val Loss: 0.0078, Val Acc: 0.9978\n"
          ]
        },
        {
          "output_type": "stream",
          "name": "stderr",
          "text": [
            "Evaluating: 100%|██████████| 18/18 [00:06<00:00,  2.77it/s]\n"
          ]
        },
        {
          "output_type": "stream",
          "name": "stdout",
          "text": [
            "Accuracy: 1.0000, Precision: 1.0000, Recall: 1.0000, F1 Score: 1.0000\n",
            "Training resnet152 with lr=0.001 and batch_size=64\n"
          ]
        },
        {
          "output_type": "stream",
          "name": "stderr",
          "text": [
            "Training Epoch 1/25: 100%|██████████| 29/29 [00:49<00:00,  1.72s/it]\n",
            "Validation Epoch 1/25: 100%|██████████| 8/8 [00:05<00:00,  1.56it/s]\n"
          ]
        },
        {
          "output_type": "stream",
          "name": "stdout",
          "text": [
            "Epoch 0/24, Loss: 0.0081, Acc: 0.9989, Val Loss: 0.0473, Val Acc: 0.9890\n"
          ]
        },
        {
          "output_type": "stream",
          "name": "stderr",
          "text": [
            "Training Epoch 2/25: 100%|██████████| 29/29 [00:49<00:00,  1.71s/it]\n",
            "Validation Epoch 2/25: 100%|██████████| 8/8 [00:05<00:00,  1.53it/s]\n"
          ]
        },
        {
          "output_type": "stream",
          "name": "stdout",
          "text": [
            "Epoch 1/24, Loss: 0.0283, Acc: 0.9939, Val Loss: 0.8334, Val Acc: 0.8462\n"
          ]
        },
        {
          "output_type": "stream",
          "name": "stderr",
          "text": [
            "Training Epoch 3/25: 100%|██████████| 29/29 [00:49<00:00,  1.71s/it]\n",
            "Validation Epoch 3/25: 100%|██████████| 8/8 [00:05<00:00,  1.54it/s]\n"
          ]
        },
        {
          "output_type": "stream",
          "name": "stdout",
          "text": [
            "Epoch 2/24, Loss: 0.0062, Acc: 0.9983, Val Loss: 0.0144, Val Acc: 0.9978\n"
          ]
        },
        {
          "output_type": "stream",
          "name": "stderr",
          "text": [
            "Training Epoch 4/25: 100%|██████████| 29/29 [00:49<00:00,  1.71s/it]\n",
            "Validation Epoch 4/25: 100%|██████████| 8/8 [00:05<00:00,  1.55it/s]\n"
          ]
        },
        {
          "output_type": "stream",
          "name": "stdout",
          "text": [
            "Epoch 3/24, Loss: 0.0027, Acc: 0.9983, Val Loss: 0.0115, Val Acc: 0.9978\n"
          ]
        },
        {
          "output_type": "stream",
          "name": "stderr",
          "text": [
            "Training Epoch 5/25: 100%|██████████| 29/29 [00:49<00:00,  1.71s/it]\n",
            "Validation Epoch 5/25: 100%|██████████| 8/8 [00:05<00:00,  1.49it/s]\n"
          ]
        },
        {
          "output_type": "stream",
          "name": "stdout",
          "text": [
            "Epoch 4/24, Loss: 0.0009, Acc: 1.0000, Val Loss: 0.0129, Val Acc: 0.9934\n"
          ]
        },
        {
          "output_type": "stream",
          "name": "stderr",
          "text": [
            "Training Epoch 6/25: 100%|██████████| 29/29 [00:49<00:00,  1.70s/it]\n",
            "Validation Epoch 6/25: 100%|██████████| 8/8 [00:05<00:00,  1.43it/s]\n"
          ]
        },
        {
          "output_type": "stream",
          "name": "stdout",
          "text": [
            "Epoch 5/24, Loss: 0.0002, Acc: 1.0000, Val Loss: 0.0139, Val Acc: 0.9956\n"
          ]
        },
        {
          "output_type": "stream",
          "name": "stderr",
          "text": [
            "Training Epoch 7/25: 100%|██████████| 29/29 [00:49<00:00,  1.69s/it]\n",
            "Validation Epoch 7/25: 100%|██████████| 8/8 [00:05<00:00,  1.44it/s]\n"
          ]
        },
        {
          "output_type": "stream",
          "name": "stdout",
          "text": [
            "Epoch 6/24, Loss: 0.0000, Acc: 1.0000, Val Loss: 0.0131, Val Acc: 0.9956\n"
          ]
        },
        {
          "output_type": "stream",
          "name": "stderr",
          "text": [
            "Training Epoch 8/25: 100%|██████████| 29/29 [00:49<00:00,  1.70s/it]\n",
            "Validation Epoch 8/25: 100%|██████████| 8/8 [00:05<00:00,  1.49it/s]\n"
          ]
        },
        {
          "output_type": "stream",
          "name": "stdout",
          "text": [
            "Epoch 7/24, Loss: 0.0000, Acc: 1.0000, Val Loss: 0.0119, Val Acc: 0.9956\n"
          ]
        },
        {
          "output_type": "stream",
          "name": "stderr",
          "text": [
            "Training Epoch 9/25: 100%|██████████| 29/29 [00:49<00:00,  1.71s/it]\n",
            "Validation Epoch 9/25: 100%|██████████| 8/8 [00:05<00:00,  1.54it/s]\n"
          ]
        },
        {
          "output_type": "stream",
          "name": "stdout",
          "text": [
            "Epoch 8/24, Loss: 0.0000, Acc: 1.0000, Val Loss: 0.0114, Val Acc: 0.9956\n"
          ]
        },
        {
          "output_type": "stream",
          "name": "stderr",
          "text": [
            "Training Epoch 10/25: 100%|██████████| 29/29 [00:49<00:00,  1.71s/it]\n",
            "Validation Epoch 10/25: 100%|██████████| 8/8 [00:05<00:00,  1.53it/s]\n"
          ]
        },
        {
          "output_type": "stream",
          "name": "stdout",
          "text": [
            "Epoch 9/24, Loss: 0.0000, Acc: 1.0000, Val Loss: 0.0105, Val Acc: 0.9956\n"
          ]
        },
        {
          "output_type": "stream",
          "name": "stderr",
          "text": [
            "Training Epoch 11/25: 100%|██████████| 29/29 [00:49<00:00,  1.71s/it]\n",
            "Validation Epoch 11/25: 100%|██████████| 8/8 [00:05<00:00,  1.54it/s]\n"
          ]
        },
        {
          "output_type": "stream",
          "name": "stdout",
          "text": [
            "Epoch 10/24, Loss: 0.0000, Acc: 1.0000, Val Loss: 0.0108, Val Acc: 0.9956\n"
          ]
        },
        {
          "output_type": "stream",
          "name": "stderr",
          "text": [
            "Training Epoch 12/25: 100%|██████████| 29/29 [00:49<00:00,  1.71s/it]\n",
            "Validation Epoch 12/25: 100%|██████████| 8/8 [00:05<00:00,  1.52it/s]\n"
          ]
        },
        {
          "output_type": "stream",
          "name": "stdout",
          "text": [
            "Epoch 11/24, Loss: 0.0001, Acc: 1.0000, Val Loss: 0.0104, Val Acc: 0.9956\n"
          ]
        },
        {
          "output_type": "stream",
          "name": "stderr",
          "text": [
            "Training Epoch 13/25: 100%|██████████| 29/29 [00:49<00:00,  1.70s/it]\n",
            "Validation Epoch 13/25: 100%|██████████| 8/8 [00:05<00:00,  1.47it/s]\n"
          ]
        },
        {
          "output_type": "stream",
          "name": "stdout",
          "text": [
            "Epoch 12/24, Loss: 0.0010, Acc: 0.9994, Val Loss: 0.0111, Val Acc: 0.9978\n"
          ]
        },
        {
          "output_type": "stream",
          "name": "stderr",
          "text": [
            "Training Epoch 14/25: 100%|██████████| 29/29 [00:49<00:00,  1.71s/it]\n",
            "Validation Epoch 14/25: 100%|██████████| 8/8 [00:05<00:00,  1.44it/s]\n"
          ]
        },
        {
          "output_type": "stream",
          "name": "stdout",
          "text": [
            "Epoch 13/24, Loss: 0.0005, Acc: 1.0000, Val Loss: 0.0090, Val Acc: 0.9978\n"
          ]
        },
        {
          "output_type": "stream",
          "name": "stderr",
          "text": [
            "Training Epoch 15/25: 100%|██████████| 29/29 [00:49<00:00,  1.70s/it]\n",
            "Validation Epoch 15/25: 100%|██████████| 8/8 [00:05<00:00,  1.46it/s]\n"
          ]
        },
        {
          "output_type": "stream",
          "name": "stdout",
          "text": [
            "Epoch 14/24, Loss: 0.0085, Acc: 0.9983, Val Loss: 0.0196, Val Acc: 0.9934\n"
          ]
        },
        {
          "output_type": "stream",
          "name": "stderr",
          "text": [
            "Training Epoch 16/25: 100%|██████████| 29/29 [00:49<00:00,  1.70s/it]\n",
            "Validation Epoch 16/25: 100%|██████████| 8/8 [00:05<00:00,  1.48it/s]\n"
          ]
        },
        {
          "output_type": "stream",
          "name": "stdout",
          "text": [
            "Epoch 15/24, Loss: 0.0013, Acc: 0.9994, Val Loss: 0.0196, Val Acc: 0.9934\n"
          ]
        },
        {
          "output_type": "stream",
          "name": "stderr",
          "text": [
            "Training Epoch 17/25: 100%|██████████| 29/29 [00:49<00:00,  1.71s/it]\n",
            "Validation Epoch 17/25: 100%|██████████| 8/8 [00:05<00:00,  1.51it/s]\n"
          ]
        },
        {
          "output_type": "stream",
          "name": "stdout",
          "text": [
            "Epoch 16/24, Loss: 0.0001, Acc: 1.0000, Val Loss: 0.0169, Val Acc: 0.9956\n"
          ]
        },
        {
          "output_type": "stream",
          "name": "stderr",
          "text": [
            "Training Epoch 18/25: 100%|██████████| 29/29 [00:49<00:00,  1.71s/it]\n",
            "Validation Epoch 18/25: 100%|██████████| 8/8 [00:05<00:00,  1.55it/s]\n"
          ]
        },
        {
          "output_type": "stream",
          "name": "stdout",
          "text": [
            "Epoch 17/24, Loss: 0.0000, Acc: 1.0000, Val Loss: 0.0171, Val Acc: 0.9934\n"
          ]
        },
        {
          "output_type": "stream",
          "name": "stderr",
          "text": [
            "Training Epoch 19/25: 100%|██████████| 29/29 [00:49<00:00,  1.72s/it]\n",
            "Validation Epoch 19/25: 100%|██████████| 8/8 [00:05<00:00,  1.54it/s]\n"
          ]
        },
        {
          "output_type": "stream",
          "name": "stdout",
          "text": [
            "Epoch 18/24, Loss: 0.0000, Acc: 1.0000, Val Loss: 0.0167, Val Acc: 0.9934\n"
          ]
        },
        {
          "output_type": "stream",
          "name": "stderr",
          "text": [
            "Training Epoch 20/25: 100%|██████████| 29/29 [00:49<00:00,  1.70s/it]\n",
            "Validation Epoch 20/25: 100%|██████████| 8/8 [00:05<00:00,  1.52it/s]\n"
          ]
        },
        {
          "output_type": "stream",
          "name": "stdout",
          "text": [
            "Epoch 19/24, Loss: 0.0000, Acc: 1.0000, Val Loss: 0.0169, Val Acc: 0.9934\n"
          ]
        },
        {
          "output_type": "stream",
          "name": "stderr",
          "text": [
            "Training Epoch 21/25: 100%|██████████| 29/29 [00:49<00:00,  1.71s/it]\n",
            "Validation Epoch 21/25: 100%|██████████| 8/8 [00:05<00:00,  1.47it/s]\n"
          ]
        },
        {
          "output_type": "stream",
          "name": "stdout",
          "text": [
            "Epoch 20/24, Loss: 0.0000, Acc: 1.0000, Val Loss: 0.0164, Val Acc: 0.9934\n"
          ]
        },
        {
          "output_type": "stream",
          "name": "stderr",
          "text": [
            "Training Epoch 22/25: 100%|██████████| 29/29 [00:49<00:00,  1.70s/it]\n",
            "Validation Epoch 22/25: 100%|██████████| 8/8 [00:05<00:00,  1.44it/s]\n"
          ]
        },
        {
          "output_type": "stream",
          "name": "stdout",
          "text": [
            "Epoch 21/24, Loss: 0.0000, Acc: 1.0000, Val Loss: 0.0169, Val Acc: 0.9934\n"
          ]
        },
        {
          "output_type": "stream",
          "name": "stderr",
          "text": [
            "Training Epoch 23/25: 100%|██████████| 29/29 [00:49<00:00,  1.70s/it]\n",
            "Validation Epoch 23/25: 100%|██████████| 8/8 [00:05<00:00,  1.44it/s]\n"
          ]
        },
        {
          "output_type": "stream",
          "name": "stdout",
          "text": [
            "Epoch 22/24, Loss: 0.0000, Acc: 1.0000, Val Loss: 0.0171, Val Acc: 0.9934\n"
          ]
        },
        {
          "output_type": "stream",
          "name": "stderr",
          "text": [
            "Training Epoch 24/25: 100%|██████████| 29/29 [00:49<00:00,  1.70s/it]\n",
            "Validation Epoch 24/25: 100%|██████████| 8/8 [00:05<00:00,  1.50it/s]\n"
          ]
        },
        {
          "output_type": "stream",
          "name": "stdout",
          "text": [
            "Epoch 23/24, Loss: 0.0000, Acc: 1.0000, Val Loss: 0.0172, Val Acc: 0.9934\n"
          ]
        },
        {
          "output_type": "stream",
          "name": "stderr",
          "text": [
            "Training Epoch 25/25: 100%|██████████| 29/29 [00:49<00:00,  1.71s/it]\n",
            "Validation Epoch 25/25: 100%|██████████| 8/8 [00:05<00:00,  1.55it/s]\n"
          ]
        },
        {
          "output_type": "stream",
          "name": "stdout",
          "text": [
            "Epoch 24/24, Loss: 0.0000, Acc: 1.0000, Val Loss: 0.0180, Val Acc: 0.9934\n"
          ]
        },
        {
          "output_type": "stream",
          "name": "stderr",
          "text": [
            "Evaluating: 100%|██████████| 18/18 [00:06<00:00,  2.66it/s]\n"
          ]
        },
        {
          "output_type": "stream",
          "name": "stdout",
          "text": [
            "Accuracy: 1.0000, Precision: 1.0000, Recall: 1.0000, F1 Score: 1.0000\n",
            "Training resnet152 with lr=0.0001 and batch_size=16\n"
          ]
        },
        {
          "output_type": "stream",
          "name": "stderr",
          "text": [
            "Training Epoch 1/25: 100%|██████████| 113/113 [00:51<00:00,  2.21it/s]\n",
            "Validation Epoch 1/25: 100%|██████████| 29/29 [00:05<00:00,  5.43it/s]\n"
          ]
        },
        {
          "output_type": "stream",
          "name": "stdout",
          "text": [
            "Epoch 0/24, Loss: 0.0795, Acc: 0.9961, Val Loss: 0.0129, Val Acc: 0.9978\n"
          ]
        },
        {
          "output_type": "stream",
          "name": "stderr",
          "text": [
            "Training Epoch 2/25: 100%|██████████| 113/113 [00:50<00:00,  2.22it/s]\n",
            "Validation Epoch 2/25: 100%|██████████| 29/29 [00:05<00:00,  5.49it/s]\n"
          ]
        },
        {
          "output_type": "stream",
          "name": "stdout",
          "text": [
            "Epoch 1/24, Loss: 0.0118, Acc: 0.9983, Val Loss: 0.0144, Val Acc: 0.9978\n"
          ]
        },
        {
          "output_type": "stream",
          "name": "stderr",
          "text": [
            "Training Epoch 3/25: 100%|██████████| 113/113 [00:51<00:00,  2.21it/s]\n",
            "Validation Epoch 3/25: 100%|██████████| 29/29 [00:05<00:00,  5.33it/s]\n"
          ]
        },
        {
          "output_type": "stream",
          "name": "stdout",
          "text": [
            "Epoch 2/24, Loss: 0.0190, Acc: 0.9978, Val Loss: 0.0155, Val Acc: 0.9978\n"
          ]
        },
        {
          "output_type": "stream",
          "name": "stderr",
          "text": [
            "Training Epoch 4/25: 100%|██████████| 113/113 [00:50<00:00,  2.22it/s]\n",
            "Validation Epoch 4/25: 100%|██████████| 29/29 [00:05<00:00,  5.43it/s]\n"
          ]
        },
        {
          "output_type": "stream",
          "name": "stdout",
          "text": [
            "Epoch 3/24, Loss: 0.0006, Acc: 1.0000, Val Loss: 0.0178, Val Acc: 0.9978\n"
          ]
        },
        {
          "output_type": "stream",
          "name": "stderr",
          "text": [
            "Training Epoch 5/25: 100%|██████████| 113/113 [00:50<00:00,  2.22it/s]\n",
            "Validation Epoch 5/25: 100%|██████████| 29/29 [00:05<00:00,  5.47it/s]\n"
          ]
        },
        {
          "output_type": "stream",
          "name": "stdout",
          "text": [
            "Epoch 4/24, Loss: 0.0001, Acc: 1.0000, Val Loss: 0.0193, Val Acc: 0.9978\n"
          ]
        },
        {
          "output_type": "stream",
          "name": "stderr",
          "text": [
            "Training Epoch 6/25: 100%|██████████| 113/113 [00:50<00:00,  2.22it/s]\n",
            "Validation Epoch 6/25: 100%|██████████| 29/29 [00:05<00:00,  5.54it/s]\n"
          ]
        },
        {
          "output_type": "stream",
          "name": "stdout",
          "text": [
            "Epoch 5/24, Loss: 0.0079, Acc: 0.9989, Val Loss: 0.0107, Val Acc: 0.9978\n"
          ]
        },
        {
          "output_type": "stream",
          "name": "stderr",
          "text": [
            "Training Epoch 7/25: 100%|██████████| 113/113 [00:50<00:00,  2.22it/s]\n",
            "Validation Epoch 7/25: 100%|██████████| 29/29 [00:05<00:00,  5.49it/s]\n"
          ]
        },
        {
          "output_type": "stream",
          "name": "stdout",
          "text": [
            "Epoch 6/24, Loss: 0.0001, Acc: 1.0000, Val Loss: 0.0133, Val Acc: 0.9978\n"
          ]
        },
        {
          "output_type": "stream",
          "name": "stderr",
          "text": [
            "Training Epoch 8/25: 100%|██████████| 113/113 [00:51<00:00,  2.20it/s]\n",
            "Validation Epoch 8/25: 100%|██████████| 29/29 [00:05<00:00,  5.47it/s]\n"
          ]
        },
        {
          "output_type": "stream",
          "name": "stdout",
          "text": [
            "Epoch 7/24, Loss: 0.0000, Acc: 1.0000, Val Loss: 0.0123, Val Acc: 0.9978\n"
          ]
        },
        {
          "output_type": "stream",
          "name": "stderr",
          "text": [
            "Training Epoch 9/25: 100%|██████████| 113/113 [00:51<00:00,  2.21it/s]\n",
            "Validation Epoch 9/25: 100%|██████████| 29/29 [00:05<00:00,  5.52it/s]\n"
          ]
        },
        {
          "output_type": "stream",
          "name": "stdout",
          "text": [
            "Epoch 8/24, Loss: 0.0052, Acc: 0.9983, Val Loss: 0.0103, Val Acc: 0.9956\n"
          ]
        },
        {
          "output_type": "stream",
          "name": "stderr",
          "text": [
            "Training Epoch 10/25: 100%|██████████| 113/113 [00:51<00:00,  2.22it/s]\n",
            "Validation Epoch 10/25: 100%|██████████| 29/29 [00:05<00:00,  5.46it/s]\n"
          ]
        },
        {
          "output_type": "stream",
          "name": "stdout",
          "text": [
            "Epoch 9/24, Loss: 0.0005, Acc: 1.0000, Val Loss: 0.0082, Val Acc: 0.9934\n"
          ]
        },
        {
          "output_type": "stream",
          "name": "stderr",
          "text": [
            "Training Epoch 11/25: 100%|██████████| 113/113 [00:51<00:00,  2.21it/s]\n",
            "Validation Epoch 11/25: 100%|██████████| 29/29 [00:05<00:00,  5.45it/s]\n"
          ]
        },
        {
          "output_type": "stream",
          "name": "stdout",
          "text": [
            "Epoch 10/24, Loss: 0.0000, Acc: 1.0000, Val Loss: 0.0083, Val Acc: 0.9978\n"
          ]
        },
        {
          "output_type": "stream",
          "name": "stderr",
          "text": [
            "Training Epoch 12/25: 100%|██████████| 113/113 [00:51<00:00,  2.21it/s]\n",
            "Validation Epoch 12/25: 100%|██████████| 29/29 [00:05<00:00,  5.46it/s]\n"
          ]
        },
        {
          "output_type": "stream",
          "name": "stdout",
          "text": [
            "Epoch 11/24, Loss: 0.0000, Acc: 1.0000, Val Loss: 0.0107, Val Acc: 0.9978\n"
          ]
        },
        {
          "output_type": "stream",
          "name": "stderr",
          "text": [
            "Training Epoch 13/25: 100%|██████████| 113/113 [00:51<00:00,  2.21it/s]\n",
            "Validation Epoch 13/25: 100%|██████████| 29/29 [00:05<00:00,  5.54it/s]\n"
          ]
        },
        {
          "output_type": "stream",
          "name": "stdout",
          "text": [
            "Epoch 12/24, Loss: 0.0000, Acc: 1.0000, Val Loss: 0.0096, Val Acc: 0.9956\n"
          ]
        },
        {
          "output_type": "stream",
          "name": "stderr",
          "text": [
            "Training Epoch 14/25: 100%|██████████| 113/113 [00:50<00:00,  2.22it/s]\n",
            "Validation Epoch 14/25: 100%|██████████| 29/29 [00:05<00:00,  5.43it/s]\n"
          ]
        },
        {
          "output_type": "stream",
          "name": "stdout",
          "text": [
            "Epoch 13/24, Loss: 0.0000, Acc: 1.0000, Val Loss: 0.0095, Val Acc: 0.9978\n"
          ]
        },
        {
          "output_type": "stream",
          "name": "stderr",
          "text": [
            "Training Epoch 15/25: 100%|██████████| 113/113 [00:51<00:00,  2.21it/s]\n",
            "Validation Epoch 15/25: 100%|██████████| 29/29 [00:05<00:00,  5.45it/s]\n"
          ]
        },
        {
          "output_type": "stream",
          "name": "stdout",
          "text": [
            "Epoch 14/24, Loss: 0.0000, Acc: 1.0000, Val Loss: 0.0093, Val Acc: 0.9978\n"
          ]
        },
        {
          "output_type": "stream",
          "name": "stderr",
          "text": [
            "Training Epoch 16/25: 100%|██████████| 113/113 [00:51<00:00,  2.21it/s]\n",
            "Validation Epoch 16/25: 100%|██████████| 29/29 [00:05<00:00,  5.52it/s]\n"
          ]
        },
        {
          "output_type": "stream",
          "name": "stdout",
          "text": [
            "Epoch 15/24, Loss: 0.0000, Acc: 1.0000, Val Loss: 0.0119, Val Acc: 0.9956\n"
          ]
        },
        {
          "output_type": "stream",
          "name": "stderr",
          "text": [
            "Training Epoch 17/25: 100%|██████████| 113/113 [00:51<00:00,  2.21it/s]\n",
            "Validation Epoch 17/25: 100%|██████████| 29/29 [00:05<00:00,  5.38it/s]\n"
          ]
        },
        {
          "output_type": "stream",
          "name": "stdout",
          "text": [
            "Epoch 16/24, Loss: 0.0000, Acc: 1.0000, Val Loss: 0.0107, Val Acc: 0.9956\n"
          ]
        },
        {
          "output_type": "stream",
          "name": "stderr",
          "text": [
            "Training Epoch 18/25: 100%|██████████| 113/113 [00:51<00:00,  2.21it/s]\n",
            "Validation Epoch 18/25: 100%|██████████| 29/29 [00:05<00:00,  5.46it/s]\n"
          ]
        },
        {
          "output_type": "stream",
          "name": "stdout",
          "text": [
            "Epoch 17/24, Loss: 0.0000, Acc: 1.0000, Val Loss: 0.0089, Val Acc: 0.9978\n"
          ]
        },
        {
          "output_type": "stream",
          "name": "stderr",
          "text": [
            "Training Epoch 19/25: 100%|██████████| 113/113 [00:51<00:00,  2.21it/s]\n",
            "Validation Epoch 19/25: 100%|██████████| 29/29 [00:05<00:00,  5.48it/s]\n"
          ]
        },
        {
          "output_type": "stream",
          "name": "stdout",
          "text": [
            "Epoch 18/24, Loss: 0.0000, Acc: 1.0000, Val Loss: 0.0101, Val Acc: 0.9934\n"
          ]
        },
        {
          "output_type": "stream",
          "name": "stderr",
          "text": [
            "Training Epoch 20/25: 100%|██████████| 113/113 [00:51<00:00,  2.21it/s]\n",
            "Validation Epoch 20/25: 100%|██████████| 29/29 [00:05<00:00,  5.41it/s]\n"
          ]
        },
        {
          "output_type": "stream",
          "name": "stdout",
          "text": [
            "Epoch 19/24, Loss: 0.0000, Acc: 1.0000, Val Loss: 0.0096, Val Acc: 0.9956\n"
          ]
        },
        {
          "output_type": "stream",
          "name": "stderr",
          "text": [
            "Training Epoch 21/25: 100%|██████████| 113/113 [00:50<00:00,  2.22it/s]\n",
            "Validation Epoch 21/25: 100%|██████████| 29/29 [00:05<00:00,  5.42it/s]\n"
          ]
        },
        {
          "output_type": "stream",
          "name": "stdout",
          "text": [
            "Epoch 20/24, Loss: 0.0000, Acc: 1.0000, Val Loss: 0.0098, Val Acc: 0.9956\n"
          ]
        },
        {
          "output_type": "stream",
          "name": "stderr",
          "text": [
            "Training Epoch 22/25: 100%|██████████| 113/113 [00:50<00:00,  2.22it/s]\n",
            "Validation Epoch 22/25: 100%|██████████| 29/29 [00:05<00:00,  5.32it/s]\n"
          ]
        },
        {
          "output_type": "stream",
          "name": "stdout",
          "text": [
            "Epoch 21/24, Loss: 0.0000, Acc: 1.0000, Val Loss: 0.0102, Val Acc: 0.9956\n"
          ]
        },
        {
          "output_type": "stream",
          "name": "stderr",
          "text": [
            "Training Epoch 23/25: 100%|██████████| 113/113 [00:51<00:00,  2.20it/s]\n",
            "Validation Epoch 23/25: 100%|██████████| 29/29 [00:05<00:00,  5.34it/s]\n"
          ]
        },
        {
          "output_type": "stream",
          "name": "stdout",
          "text": [
            "Epoch 22/24, Loss: 0.0000, Acc: 1.0000, Val Loss: 0.0085, Val Acc: 0.9978\n"
          ]
        },
        {
          "output_type": "stream",
          "name": "stderr",
          "text": [
            "Training Epoch 24/25: 100%|██████████| 113/113 [00:51<00:00,  2.21it/s]\n",
            "Validation Epoch 24/25: 100%|██████████| 29/29 [00:05<00:00,  5.35it/s]\n"
          ]
        },
        {
          "output_type": "stream",
          "name": "stdout",
          "text": [
            "Epoch 23/24, Loss: 0.0002, Acc: 1.0000, Val Loss: 0.0109, Val Acc: 0.9956\n"
          ]
        },
        {
          "output_type": "stream",
          "name": "stderr",
          "text": [
            "Training Epoch 25/25: 100%|██████████| 113/113 [00:50<00:00,  2.22it/s]\n",
            "Validation Epoch 25/25: 100%|██████████| 29/29 [00:05<00:00,  5.26it/s]\n"
          ]
        },
        {
          "output_type": "stream",
          "name": "stdout",
          "text": [
            "Epoch 24/24, Loss: 0.0000, Acc: 1.0000, Val Loss: 0.0099, Val Acc: 0.9978\n"
          ]
        },
        {
          "output_type": "stream",
          "name": "stderr",
          "text": [
            "Evaluating: 100%|██████████| 18/18 [00:06<00:00,  2.72it/s]\n"
          ]
        },
        {
          "output_type": "stream",
          "name": "stdout",
          "text": [
            "Accuracy: 1.0000, Precision: 1.0000, Recall: 1.0000, F1 Score: 1.0000\n",
            "Training resnet152 with lr=0.0001 and batch_size=32\n"
          ]
        },
        {
          "output_type": "stream",
          "name": "stderr",
          "text": [
            "Training Epoch 1/25: 100%|██████████| 57/57 [00:48<00:00,  1.17it/s]\n",
            "Validation Epoch 1/25: 100%|██████████| 15/15 [00:05<00:00,  2.84it/s]\n"
          ]
        },
        {
          "output_type": "stream",
          "name": "stdout",
          "text": [
            "Epoch 0/24, Loss: 0.0004, Acc: 1.0000, Val Loss: 0.0094, Val Acc: 0.9978\n"
          ]
        },
        {
          "output_type": "stream",
          "name": "stderr",
          "text": [
            "Training Epoch 2/25: 100%|██████████| 57/57 [00:48<00:00,  1.16it/s]\n",
            "Validation Epoch 2/25: 100%|██████████| 15/15 [00:05<00:00,  2.80it/s]\n"
          ]
        },
        {
          "output_type": "stream",
          "name": "stdout",
          "text": [
            "Epoch 1/24, Loss: 0.0000, Acc: 1.0000, Val Loss: 0.0094, Val Acc: 0.9956\n"
          ]
        },
        {
          "output_type": "stream",
          "name": "stderr",
          "text": [
            "Training Epoch 3/25: 100%|██████████| 57/57 [00:48<00:00,  1.17it/s]\n",
            "Validation Epoch 3/25: 100%|██████████| 15/15 [00:05<00:00,  2.77it/s]\n"
          ]
        },
        {
          "output_type": "stream",
          "name": "stdout",
          "text": [
            "Epoch 2/24, Loss: 0.0000, Acc: 1.0000, Val Loss: 0.0099, Val Acc: 0.9956\n"
          ]
        },
        {
          "output_type": "stream",
          "name": "stderr",
          "text": [
            "Training Epoch 4/25: 100%|██████████| 57/57 [00:48<00:00,  1.17it/s]\n",
            "Validation Epoch 4/25: 100%|██████████| 15/15 [00:05<00:00,  2.70it/s]\n"
          ]
        },
        {
          "output_type": "stream",
          "name": "stdout",
          "text": [
            "Epoch 3/24, Loss: 0.0000, Acc: 1.0000, Val Loss: 0.0089, Val Acc: 0.9978\n"
          ]
        },
        {
          "output_type": "stream",
          "name": "stderr",
          "text": [
            "Training Epoch 5/25: 100%|██████████| 57/57 [00:48<00:00,  1.17it/s]\n",
            "Validation Epoch 5/25: 100%|██████████| 15/15 [00:05<00:00,  2.68it/s]\n"
          ]
        },
        {
          "output_type": "stream",
          "name": "stdout",
          "text": [
            "Epoch 4/24, Loss: 0.0000, Acc: 1.0000, Val Loss: 0.0093, Val Acc: 0.9978\n"
          ]
        },
        {
          "output_type": "stream",
          "name": "stderr",
          "text": [
            "Training Epoch 6/25: 100%|██████████| 57/57 [00:48<00:00,  1.17it/s]\n",
            "Validation Epoch 6/25: 100%|██████████| 15/15 [00:05<00:00,  2.73it/s]\n"
          ]
        },
        {
          "output_type": "stream",
          "name": "stdout",
          "text": [
            "Epoch 5/24, Loss: 0.0000, Acc: 1.0000, Val Loss: 0.0090, Val Acc: 0.9956\n"
          ]
        },
        {
          "output_type": "stream",
          "name": "stderr",
          "text": [
            "Training Epoch 7/25: 100%|██████████| 57/57 [00:48<00:00,  1.17it/s]\n",
            "Validation Epoch 7/25: 100%|██████████| 15/15 [00:05<00:00,  2.84it/s]\n"
          ]
        },
        {
          "output_type": "stream",
          "name": "stdout",
          "text": [
            "Epoch 6/24, Loss: 0.0000, Acc: 1.0000, Val Loss: 0.0101, Val Acc: 0.9978\n"
          ]
        },
        {
          "output_type": "stream",
          "name": "stderr",
          "text": [
            "Training Epoch 8/25: 100%|██████████| 57/57 [00:48<00:00,  1.17it/s]\n",
            "Validation Epoch 8/25: 100%|██████████| 15/15 [00:05<00:00,  2.89it/s]\n"
          ]
        },
        {
          "output_type": "stream",
          "name": "stdout",
          "text": [
            "Epoch 7/24, Loss: 0.0000, Acc: 1.0000, Val Loss: 0.0079, Val Acc: 0.9956\n"
          ]
        },
        {
          "output_type": "stream",
          "name": "stderr",
          "text": [
            "Training Epoch 9/25: 100%|██████████| 57/57 [00:48<00:00,  1.17it/s]\n",
            "Validation Epoch 9/25: 100%|██████████| 15/15 [00:05<00:00,  2.90it/s]\n"
          ]
        },
        {
          "output_type": "stream",
          "name": "stdout",
          "text": [
            "Epoch 8/24, Loss: 0.0000, Acc: 1.0000, Val Loss: 0.0086, Val Acc: 0.9978\n"
          ]
        },
        {
          "output_type": "stream",
          "name": "stderr",
          "text": [
            "Training Epoch 10/25: 100%|██████████| 57/57 [00:48<00:00,  1.17it/s]\n",
            "Validation Epoch 10/25: 100%|██████████| 15/15 [00:05<00:00,  2.86it/s]\n"
          ]
        },
        {
          "output_type": "stream",
          "name": "stdout",
          "text": [
            "Epoch 9/24, Loss: 0.0000, Acc: 1.0000, Val Loss: 0.0091, Val Acc: 0.9956\n"
          ]
        },
        {
          "output_type": "stream",
          "name": "stderr",
          "text": [
            "Training Epoch 11/25: 100%|██████████| 57/57 [00:48<00:00,  1.17it/s]\n",
            "Validation Epoch 11/25: 100%|██████████| 15/15 [00:05<00:00,  2.89it/s]\n"
          ]
        },
        {
          "output_type": "stream",
          "name": "stdout",
          "text": [
            "Epoch 10/24, Loss: 0.0000, Acc: 1.0000, Val Loss: 0.0089, Val Acc: 0.9956\n"
          ]
        },
        {
          "output_type": "stream",
          "name": "stderr",
          "text": [
            "Training Epoch 12/25: 100%|██████████| 57/57 [00:49<00:00,  1.16it/s]\n",
            "Validation Epoch 12/25: 100%|██████████| 15/15 [00:05<00:00,  2.73it/s]\n"
          ]
        },
        {
          "output_type": "stream",
          "name": "stdout",
          "text": [
            "Epoch 11/24, Loss: 0.0000, Acc: 1.0000, Val Loss: 0.0085, Val Acc: 0.9978\n"
          ]
        },
        {
          "output_type": "stream",
          "name": "stderr",
          "text": [
            "Training Epoch 13/25: 100%|██████████| 57/57 [00:48<00:00,  1.17it/s]\n",
            "Validation Epoch 13/25: 100%|██████████| 15/15 [00:05<00:00,  2.69it/s]\n"
          ]
        },
        {
          "output_type": "stream",
          "name": "stdout",
          "text": [
            "Epoch 12/24, Loss: 0.0000, Acc: 1.0000, Val Loss: 0.0073, Val Acc: 0.9978\n"
          ]
        },
        {
          "output_type": "stream",
          "name": "stderr",
          "text": [
            "Training Epoch 14/25: 100%|██████████| 57/57 [00:48<00:00,  1.17it/s]\n",
            "Validation Epoch 14/25: 100%|██████████| 15/15 [00:05<00:00,  2.73it/s]\n"
          ]
        },
        {
          "output_type": "stream",
          "name": "stdout",
          "text": [
            "Epoch 13/24, Loss: 0.0000, Acc: 1.0000, Val Loss: 0.0068, Val Acc: 0.9978\n"
          ]
        },
        {
          "output_type": "stream",
          "name": "stderr",
          "text": [
            "Training Epoch 15/25: 100%|██████████| 57/57 [00:48<00:00,  1.17it/s]\n",
            "Validation Epoch 15/25: 100%|██████████| 15/15 [00:05<00:00,  2.73it/s]\n"
          ]
        },
        {
          "output_type": "stream",
          "name": "stdout",
          "text": [
            "Epoch 14/24, Loss: 0.0000, Acc: 1.0000, Val Loss: 0.0073, Val Acc: 0.9978\n"
          ]
        },
        {
          "output_type": "stream",
          "name": "stderr",
          "text": [
            "Training Epoch 16/25: 100%|██████████| 57/57 [00:48<00:00,  1.16it/s]\n",
            "Validation Epoch 16/25: 100%|██████████| 15/15 [00:05<00:00,  2.83it/s]\n"
          ]
        },
        {
          "output_type": "stream",
          "name": "stdout",
          "text": [
            "Epoch 15/24, Loss: 0.0000, Acc: 1.0000, Val Loss: 0.0065, Val Acc: 0.9978\n"
          ]
        },
        {
          "output_type": "stream",
          "name": "stderr",
          "text": [
            "Training Epoch 17/25: 100%|██████████| 57/57 [00:49<00:00,  1.16it/s]\n",
            "Validation Epoch 17/25: 100%|██████████| 15/15 [00:05<00:00,  2.89it/s]\n"
          ]
        },
        {
          "output_type": "stream",
          "name": "stdout",
          "text": [
            "Epoch 16/24, Loss: 0.0000, Acc: 1.0000, Val Loss: 0.0062, Val Acc: 0.9978\n"
          ]
        },
        {
          "output_type": "stream",
          "name": "stderr",
          "text": [
            "Training Epoch 18/25: 100%|██████████| 57/57 [00:48<00:00,  1.17it/s]\n",
            "Validation Epoch 18/25: 100%|██████████| 15/15 [00:05<00:00,  2.88it/s]\n"
          ]
        },
        {
          "output_type": "stream",
          "name": "stdout",
          "text": [
            "Epoch 17/24, Loss: 0.0000, Acc: 1.0000, Val Loss: 0.0067, Val Acc: 0.9978\n"
          ]
        },
        {
          "output_type": "stream",
          "name": "stderr",
          "text": [
            "Training Epoch 19/25: 100%|██████████| 57/57 [00:48<00:00,  1.17it/s]\n",
            "Validation Epoch 19/25: 100%|██████████| 15/15 [00:05<00:00,  2.81it/s]\n"
          ]
        },
        {
          "output_type": "stream",
          "name": "stdout",
          "text": [
            "Epoch 18/24, Loss: 0.0000, Acc: 1.0000, Val Loss: 0.0064, Val Acc: 0.9978\n"
          ]
        },
        {
          "output_type": "stream",
          "name": "stderr",
          "text": [
            "Training Epoch 20/25: 100%|██████████| 57/57 [00:48<00:00,  1.17it/s]\n",
            "Validation Epoch 20/25: 100%|██████████| 15/15 [00:05<00:00,  2.73it/s]\n"
          ]
        },
        {
          "output_type": "stream",
          "name": "stdout",
          "text": [
            "Epoch 19/24, Loss: 0.0000, Acc: 1.0000, Val Loss: 0.0066, Val Acc: 0.9978\n"
          ]
        },
        {
          "output_type": "stream",
          "name": "stderr",
          "text": [
            "Training Epoch 21/25: 100%|██████████| 57/57 [00:48<00:00,  1.17it/s]\n",
            "Validation Epoch 21/25: 100%|██████████| 15/15 [00:05<00:00,  2.71it/s]\n"
          ]
        },
        {
          "output_type": "stream",
          "name": "stdout",
          "text": [
            "Epoch 20/24, Loss: 0.0000, Acc: 1.0000, Val Loss: 0.0075, Val Acc: 0.9978\n"
          ]
        },
        {
          "output_type": "stream",
          "name": "stderr",
          "text": [
            "Training Epoch 22/25: 100%|██████████| 57/57 [00:48<00:00,  1.16it/s]\n",
            "Validation Epoch 22/25: 100%|██████████| 15/15 [00:05<00:00,  2.77it/s]\n"
          ]
        },
        {
          "output_type": "stream",
          "name": "stdout",
          "text": [
            "Epoch 21/24, Loss: 0.0000, Acc: 1.0000, Val Loss: 0.0080, Val Acc: 0.9978\n"
          ]
        },
        {
          "output_type": "stream",
          "name": "stderr",
          "text": [
            "Training Epoch 23/25: 100%|██████████| 57/57 [00:48<00:00,  1.17it/s]\n",
            "Validation Epoch 23/25: 100%|██████████| 15/15 [00:05<00:00,  2.80it/s]\n"
          ]
        },
        {
          "output_type": "stream",
          "name": "stdout",
          "text": [
            "Epoch 22/24, Loss: 0.0000, Acc: 1.0000, Val Loss: 0.0066, Val Acc: 0.9978\n"
          ]
        },
        {
          "output_type": "stream",
          "name": "stderr",
          "text": [
            "Training Epoch 24/25: 100%|██████████| 57/57 [00:48<00:00,  1.17it/s]\n",
            "Validation Epoch 24/25: 100%|██████████| 15/15 [00:05<00:00,  2.88it/s]\n"
          ]
        },
        {
          "output_type": "stream",
          "name": "stdout",
          "text": [
            "Epoch 23/24, Loss: 0.0000, Acc: 1.0000, Val Loss: 0.0056, Val Acc: 0.9978\n"
          ]
        },
        {
          "output_type": "stream",
          "name": "stderr",
          "text": [
            "Training Epoch 25/25: 100%|██████████| 57/57 [00:49<00:00,  1.16it/s]\n",
            "Validation Epoch 25/25: 100%|██████████| 15/15 [00:05<00:00,  2.87it/s]\n"
          ]
        },
        {
          "output_type": "stream",
          "name": "stdout",
          "text": [
            "Epoch 24/24, Loss: 0.0000, Acc: 1.0000, Val Loss: 0.0061, Val Acc: 0.9978\n"
          ]
        },
        {
          "output_type": "stream",
          "name": "stderr",
          "text": [
            "Evaluating: 100%|██████████| 18/18 [00:06<00:00,  2.66it/s]\n"
          ]
        },
        {
          "output_type": "stream",
          "name": "stdout",
          "text": [
            "Accuracy: 1.0000, Precision: 1.0000, Recall: 1.0000, F1 Score: 1.0000\n",
            "Training resnet152 with lr=0.0001 and batch_size=64\n"
          ]
        },
        {
          "output_type": "stream",
          "name": "stderr",
          "text": [
            "Training Epoch 1/25: 100%|██████████| 29/29 [00:49<00:00,  1.71s/it]\n",
            "Validation Epoch 1/25: 100%|██████████| 8/8 [00:05<00:00,  1.46it/s]\n"
          ]
        },
        {
          "output_type": "stream",
          "name": "stdout",
          "text": [
            "Epoch 0/24, Loss: 0.0000, Acc: 1.0000, Val Loss: 0.0076, Val Acc: 0.9978\n"
          ]
        },
        {
          "output_type": "stream",
          "name": "stderr",
          "text": [
            "Training Epoch 2/25: 100%|██████████| 29/29 [00:49<00:00,  1.70s/it]\n",
            "Validation Epoch 2/25: 100%|██████████| 8/8 [00:05<00:00,  1.51it/s]\n"
          ]
        },
        {
          "output_type": "stream",
          "name": "stdout",
          "text": [
            "Epoch 1/24, Loss: 0.0000, Acc: 1.0000, Val Loss: 0.0065, Val Acc: 0.9978\n"
          ]
        },
        {
          "output_type": "stream",
          "name": "stderr",
          "text": [
            "Training Epoch 3/25: 100%|██████████| 29/29 [00:49<00:00,  1.70s/it]\n",
            "Validation Epoch 3/25: 100%|██████████| 8/8 [00:05<00:00,  1.55it/s]\n"
          ]
        },
        {
          "output_type": "stream",
          "name": "stdout",
          "text": [
            "Epoch 2/24, Loss: 0.0000, Acc: 1.0000, Val Loss: 0.0038, Val Acc: 0.9978\n"
          ]
        },
        {
          "output_type": "stream",
          "name": "stderr",
          "text": [
            "Training Epoch 4/25: 100%|██████████| 29/29 [00:49<00:00,  1.71s/it]\n",
            "Validation Epoch 4/25: 100%|██████████| 8/8 [00:05<00:00,  1.55it/s]\n"
          ]
        },
        {
          "output_type": "stream",
          "name": "stdout",
          "text": [
            "Epoch 3/24, Loss: 0.0000, Acc: 1.0000, Val Loss: 0.0022, Val Acc: 0.9978\n"
          ]
        },
        {
          "output_type": "stream",
          "name": "stderr",
          "text": [
            "Training Epoch 5/25: 100%|██████████| 29/29 [00:49<00:00,  1.72s/it]\n",
            "Validation Epoch 5/25: 100%|██████████| 8/8 [00:05<00:00,  1.53it/s]\n"
          ]
        },
        {
          "output_type": "stream",
          "name": "stdout",
          "text": [
            "Epoch 4/24, Loss: 0.0000, Acc: 1.0000, Val Loss: 0.0035, Val Acc: 0.9978\n"
          ]
        },
        {
          "output_type": "stream",
          "name": "stderr",
          "text": [
            "Training Epoch 6/25: 100%|██████████| 29/29 [00:49<00:00,  1.71s/it]\n",
            "Validation Epoch 6/25: 100%|██████████| 8/8 [00:05<00:00,  1.53it/s]\n"
          ]
        },
        {
          "output_type": "stream",
          "name": "stdout",
          "text": [
            "Epoch 5/24, Loss: 0.0000, Acc: 1.0000, Val Loss: 0.0026, Val Acc: 0.9978\n"
          ]
        },
        {
          "output_type": "stream",
          "name": "stderr",
          "text": [
            "Training Epoch 7/25: 100%|██████████| 29/29 [00:49<00:00,  1.71s/it]\n",
            "Validation Epoch 7/25: 100%|██████████| 8/8 [00:05<00:00,  1.42it/s]\n"
          ]
        },
        {
          "output_type": "stream",
          "name": "stdout",
          "text": [
            "Epoch 6/24, Loss: 0.0000, Acc: 1.0000, Val Loss: 0.0029, Val Acc: 0.9978\n"
          ]
        },
        {
          "output_type": "stream",
          "name": "stderr",
          "text": [
            "Training Epoch 8/25: 100%|██████████| 29/29 [00:49<00:00,  1.70s/it]\n",
            "Validation Epoch 8/25: 100%|██████████| 8/8 [00:05<00:00,  1.43it/s]\n"
          ]
        },
        {
          "output_type": "stream",
          "name": "stdout",
          "text": [
            "Epoch 7/24, Loss: 0.0000, Acc: 1.0000, Val Loss: 0.0024, Val Acc: 0.9978\n"
          ]
        },
        {
          "output_type": "stream",
          "name": "stderr",
          "text": [
            "Training Epoch 9/25: 100%|██████████| 29/29 [00:49<00:00,  1.70s/it]\n",
            "Validation Epoch 9/25: 100%|██████████| 8/8 [00:05<00:00,  1.45it/s]\n"
          ]
        },
        {
          "output_type": "stream",
          "name": "stdout",
          "text": [
            "Epoch 8/24, Loss: 0.0000, Acc: 1.0000, Val Loss: 0.0030, Val Acc: 0.9978\n"
          ]
        },
        {
          "output_type": "stream",
          "name": "stderr",
          "text": [
            "Training Epoch 10/25: 100%|██████████| 29/29 [00:49<00:00,  1.70s/it]\n",
            "Validation Epoch 10/25: 100%|██████████| 8/8 [00:05<00:00,  1.56it/s]\n"
          ]
        },
        {
          "output_type": "stream",
          "name": "stdout",
          "text": [
            "Epoch 9/24, Loss: 0.0000, Acc: 1.0000, Val Loss: 0.0046, Val Acc: 0.9978\n"
          ]
        },
        {
          "output_type": "stream",
          "name": "stderr",
          "text": [
            "Training Epoch 11/25: 100%|██████████| 29/29 [00:49<00:00,  1.71s/it]\n",
            "Validation Epoch 11/25: 100%|██████████| 8/8 [00:05<00:00,  1.55it/s]\n"
          ]
        },
        {
          "output_type": "stream",
          "name": "stdout",
          "text": [
            "Epoch 10/24, Loss: 0.0000, Acc: 1.0000, Val Loss: 0.0033, Val Acc: 0.9978\n"
          ]
        },
        {
          "output_type": "stream",
          "name": "stderr",
          "text": [
            "Training Epoch 12/25: 100%|██████████| 29/29 [00:49<00:00,  1.71s/it]\n",
            "Validation Epoch 12/25: 100%|██████████| 8/8 [00:05<00:00,  1.53it/s]\n"
          ]
        },
        {
          "output_type": "stream",
          "name": "stdout",
          "text": [
            "Epoch 11/24, Loss: 0.0000, Acc: 1.0000, Val Loss: 0.0031, Val Acc: 0.9978\n"
          ]
        },
        {
          "output_type": "stream",
          "name": "stderr",
          "text": [
            "Training Epoch 13/25: 100%|██████████| 29/29 [00:49<00:00,  1.70s/it]\n",
            "Validation Epoch 13/25: 100%|██████████| 8/8 [00:05<00:00,  1.48it/s]\n"
          ]
        },
        {
          "output_type": "stream",
          "name": "stdout",
          "text": [
            "Epoch 12/24, Loss: 0.0000, Acc: 1.0000, Val Loss: 0.0032, Val Acc: 0.9978\n"
          ]
        },
        {
          "output_type": "stream",
          "name": "stderr",
          "text": [
            "Training Epoch 14/25: 100%|██████████| 29/29 [00:49<00:00,  1.70s/it]\n",
            "Validation Epoch 14/25: 100%|██████████| 8/8 [00:05<00:00,  1.42it/s]\n"
          ]
        },
        {
          "output_type": "stream",
          "name": "stdout",
          "text": [
            "Epoch 13/24, Loss: 0.0000, Acc: 1.0000, Val Loss: 0.0037, Val Acc: 0.9978\n"
          ]
        },
        {
          "output_type": "stream",
          "name": "stderr",
          "text": [
            "Training Epoch 15/25: 100%|██████████| 29/29 [00:49<00:00,  1.70s/it]\n",
            "Validation Epoch 15/25: 100%|██████████| 8/8 [00:05<00:00,  1.43it/s]\n"
          ]
        },
        {
          "output_type": "stream",
          "name": "stdout",
          "text": [
            "Epoch 14/24, Loss: 0.0000, Acc: 1.0000, Val Loss: 0.0025, Val Acc: 0.9978\n"
          ]
        },
        {
          "output_type": "stream",
          "name": "stderr",
          "text": [
            "Training Epoch 16/25: 100%|██████████| 29/29 [00:49<00:00,  1.70s/it]\n",
            "Validation Epoch 16/25: 100%|██████████| 8/8 [00:05<00:00,  1.43it/s]\n"
          ]
        },
        {
          "output_type": "stream",
          "name": "stdout",
          "text": [
            "Epoch 15/24, Loss: 0.0000, Acc: 1.0000, Val Loss: 0.0036, Val Acc: 0.9978\n"
          ]
        },
        {
          "output_type": "stream",
          "name": "stderr",
          "text": [
            "Training Epoch 17/25: 100%|██████████| 29/29 [00:49<00:00,  1.70s/it]\n",
            "Validation Epoch 17/25: 100%|██████████| 8/8 [00:05<00:00,  1.54it/s]\n"
          ]
        },
        {
          "output_type": "stream",
          "name": "stdout",
          "text": [
            "Epoch 16/24, Loss: 0.0000, Acc: 1.0000, Val Loss: 0.0025, Val Acc: 0.9978\n"
          ]
        },
        {
          "output_type": "stream",
          "name": "stderr",
          "text": [
            "Training Epoch 18/25: 100%|██████████| 29/29 [00:49<00:00,  1.71s/it]\n",
            "Validation Epoch 18/25: 100%|██████████| 8/8 [00:05<00:00,  1.53it/s]\n"
          ]
        },
        {
          "output_type": "stream",
          "name": "stdout",
          "text": [
            "Epoch 17/24, Loss: 0.0000, Acc: 1.0000, Val Loss: 0.0028, Val Acc: 0.9978\n"
          ]
        },
        {
          "output_type": "stream",
          "name": "stderr",
          "text": [
            "Training Epoch 19/25: 100%|██████████| 29/29 [00:49<00:00,  1.71s/it]\n",
            "Validation Epoch 19/25: 100%|██████████| 8/8 [00:05<00:00,  1.52it/s]\n"
          ]
        },
        {
          "output_type": "stream",
          "name": "stdout",
          "text": [
            "Epoch 18/24, Loss: 0.0000, Acc: 1.0000, Val Loss: 0.0030, Val Acc: 0.9978\n"
          ]
        },
        {
          "output_type": "stream",
          "name": "stderr",
          "text": [
            "Training Epoch 20/25: 100%|██████████| 29/29 [00:49<00:00,  1.70s/it]\n",
            "Validation Epoch 20/25: 100%|██████████| 8/8 [00:05<00:00,  1.48it/s]\n"
          ]
        },
        {
          "output_type": "stream",
          "name": "stdout",
          "text": [
            "Epoch 19/24, Loss: 0.0000, Acc: 1.0000, Val Loss: 0.0025, Val Acc: 0.9978\n"
          ]
        },
        {
          "output_type": "stream",
          "name": "stderr",
          "text": [
            "Training Epoch 21/25: 100%|██████████| 29/29 [00:49<00:00,  1.71s/it]\n",
            "Validation Epoch 21/25: 100%|██████████| 8/8 [00:05<00:00,  1.36it/s]\n"
          ]
        },
        {
          "output_type": "stream",
          "name": "stdout",
          "text": [
            "Epoch 20/24, Loss: 0.0000, Acc: 1.0000, Val Loss: 0.0020, Val Acc: 0.9978\n"
          ]
        },
        {
          "output_type": "stream",
          "name": "stderr",
          "text": [
            "Training Epoch 22/25: 100%|██████████| 29/29 [00:49<00:00,  1.69s/it]\n",
            "Validation Epoch 22/25: 100%|██████████| 8/8 [00:05<00:00,  1.45it/s]\n"
          ]
        },
        {
          "output_type": "stream",
          "name": "stdout",
          "text": [
            "Epoch 21/24, Loss: 0.0000, Acc: 1.0000, Val Loss: 0.0035, Val Acc: 0.9978\n"
          ]
        },
        {
          "output_type": "stream",
          "name": "stderr",
          "text": [
            "Training Epoch 23/25: 100%|██████████| 29/29 [00:49<00:00,  1.70s/it]\n",
            "Validation Epoch 23/25: 100%|██████████| 8/8 [00:05<00:00,  1.50it/s]\n"
          ]
        },
        {
          "output_type": "stream",
          "name": "stdout",
          "text": [
            "Epoch 22/24, Loss: 0.0000, Acc: 1.0000, Val Loss: 0.0033, Val Acc: 0.9978\n"
          ]
        },
        {
          "output_type": "stream",
          "name": "stderr",
          "text": [
            "Training Epoch 24/25: 100%|██████████| 29/29 [00:49<00:00,  1.70s/it]\n",
            "Validation Epoch 24/25: 100%|██████████| 8/8 [00:05<00:00,  1.53it/s]\n"
          ]
        },
        {
          "output_type": "stream",
          "name": "stdout",
          "text": [
            "Epoch 23/24, Loss: 0.0000, Acc: 1.0000, Val Loss: 0.0023, Val Acc: 0.9978\n"
          ]
        },
        {
          "output_type": "stream",
          "name": "stderr",
          "text": [
            "Training Epoch 25/25: 100%|██████████| 29/29 [00:49<00:00,  1.71s/it]\n",
            "Validation Epoch 25/25: 100%|██████████| 8/8 [00:05<00:00,  1.54it/s]\n"
          ]
        },
        {
          "output_type": "stream",
          "name": "stdout",
          "text": [
            "Epoch 24/24, Loss: 0.0000, Acc: 1.0000, Val Loss: 0.0024, Val Acc: 0.9978\n"
          ]
        },
        {
          "output_type": "stream",
          "name": "stderr",
          "text": [
            "Evaluating: 100%|██████████| 18/18 [00:06<00:00,  2.64it/s]\n"
          ]
        },
        {
          "output_type": "stream",
          "name": "stdout",
          "text": [
            "Accuracy: 1.0000, Precision: 1.0000, Recall: 1.0000, F1 Score: 1.0000\n"
          ]
        }
      ],
      "source": [
        "# Training function\n",
        "def train_model(model, train_loader, val_loader, criterion, optimizer, num_epochs=25):\n",
        "    best_model_wts = None\n",
        "    best_acc = 0.0\n",
        "    for epoch in range(num_epochs):\n",
        "        model.train()\n",
        "        running_loss = 0.0\n",
        "        running_corrects = 0\n",
        "\n",
        "        for inputs, labels in tqdm(train_loader, desc=f'Training Epoch {epoch+1}/{num_epochs}'):\n",
        "            inputs, labels = inputs.to(device), labels.to(device)\n",
        "            optimizer.zero_grad()\n",
        "            outputs = model(inputs)\n",
        "            _, preds = torch.max(outputs, 1)\n",
        "            loss = criterion(outputs, labels)\n",
        "            loss.backward()\n",
        "            optimizer.step()\n",
        "            running_loss += loss.item() * inputs.size(0)\n",
        "            running_corrects += torch.sum(preds == labels.data)\n",
        "\n",
        "        epoch_loss = running_loss / len(train_loader.dataset)\n",
        "        epoch_acc = running_corrects.double() / len(train_loader.dataset)\n",
        "\n",
        "        writer.add_scalar('Loss/train', epoch_loss, epoch)\n",
        "        writer.add_scalar('Accuracy/train', epoch_acc, epoch)\n",
        "\n",
        "        model.eval()\n",
        "        val_loss = 0.0\n",
        "        val_corrects = 0\n",
        "\n",
        "        with torch.no_grad():\n",
        "            for inputs, labels in tqdm(val_loader, desc=f'Validation Epoch {epoch+1}/{num_epochs}'):\n",
        "                inputs, labels = inputs.to(device), labels.to(device)\n",
        "                outputs = model(inputs)\n",
        "                _, preds = torch.max(outputs, 1)\n",
        "                loss = criterion(outputs, labels)\n",
        "                val_loss += loss.item() * inputs.size(0)\n",
        "                val_corrects += torch.sum(preds == labels.data)\n",
        "\n",
        "        val_loss = val_loss / len(val_loader.dataset)\n",
        "        val_acc = val_corrects.double() / len(val_loader.dataset)\n",
        "\n",
        "        writer.add_scalar('Loss/val', val_loss, epoch)\n",
        "        writer.add_scalar('Accuracy/val', val_acc, epoch)\n",
        "\n",
        "        if val_acc > best_acc:\n",
        "            best_acc = val_acc\n",
        "            best_model_wts = model.state_dict()\n",
        "\n",
        "        print(f'Epoch {epoch}/{num_epochs-1}, Loss: {epoch_loss:.4f}, Acc: {epoch_acc:.4f}, Val Loss: {val_loss:.4f}, Val Acc: {val_acc:.4f}')\n",
        "\n",
        "    if best_model_wts:\n",
        "        model.load_state_dict(best_model_wts)\n",
        "\n",
        "    return model\n",
        "\n",
        "# Evaluation function\n",
        "def evaluate_model(model, test_loader):\n",
        "    model.eval()\n",
        "    y_true = []\n",
        "    y_pred = []\n",
        "    with torch.no_grad():\n",
        "        for inputs, labels in tqdm(test_loader, desc='Evaluating'):\n",
        "            inputs, labels = inputs.to(device), labels.to(device)\n",
        "            outputs = model(inputs)\n",
        "            _, preds = torch.max(outputs, 1)\n",
        "            y_true.extend(labels.cpu().numpy())\n",
        "            y_pred.extend(preds.cpu().numpy())\n",
        "\n",
        "    accuracy = accuracy_score(y_true, y_pred)\n",
        "    precision = precision_score(y_true, y_pred, average='weighted')\n",
        "    recall = recall_score(y_true, y_pred, average='weighted')\n",
        "    f1 = f1_score(y_true, y_pred, average='weighted')\n",
        "\n",
        "    print(f'Accuracy: {accuracy:.4f}, Precision: {precision:.4f}, Recall: {recall:.4f}, F1 Score: {f1:.4f}')\n",
        "\n",
        "    return accuracy, precision, recall, f1\n",
        "\n",
        "# Main function to run the training and evaluation\n",
        "def main():\n",
        "    for version, model in resnet_versions.items():\n",
        "        criterion = nn.CrossEntropyLoss()\n",
        "\n",
        "        for lr in param_grid['lr']:\n",
        "            for batch_size in param_grid['batch_size']:\n",
        "                train_loader = DataLoader(train_dataset, batch_size=batch_size, shuffle=True)\n",
        "                val_loader = DataLoader(val_dataset, batch_size=batch_size, shuffle=False)\n",
        "\n",
        "                optimizer = optim.Adam(model.parameters(), lr=lr)\n",
        "\n",
        "                print(f'Training {version} with lr={lr} and batch_size={batch_size}')\n",
        "                model = train_model(model, train_loader, val_loader, criterion, optimizer)\n",
        "\n",
        "                accuracy, precision, recall, f1 = evaluate_model(model, test_loader)\n",
        "\n",
        "                # Log metrics to TensorBoard\n",
        "                writer.add_hparams({'lr': lr, 'batch_size': batch_size, 'model': version},\n",
        "                                   {'hparam/accuracy': accuracy, 'hparam/precision': precision,\n",
        "                                    'hparam/recall': recall, 'hparam/f1': f1})\n",
        "\n",
        "                # Save the model\n",
        "                model_save_path = f'/content/drive/MyDrive/Machine_Learning/modelsA1A2/{version}_lr{lr}_batch{batch_size}.pth'\n",
        "                os.makedirs(os.path.dirname(model_save_path), exist_ok=True)\n",
        "                torch.save(model.state_dict(), model_save_path)\n",
        "\n",
        "                # Save statistics\n",
        "                stats_save_path = f'/content/drive/MyDrive/Machine_Learning/statsA1A2/{version}_lr{lr}_batch{batch_size}_stats.npy'\n",
        "                os.makedirs(os.path.dirname(stats_save_path), exist_ok=True)\n",
        "                np.save(stats_save_path, {'accuracy': accuracy, 'precision': precision, 'recall': recall, 'f1': f1})\n",
        "\n",
        "    writer.close()\n",
        "\n",
        "# Run the main function\n",
        "if __name__ == '__main__':\n",
        "    main()"
      ]
    }
  ],
  "metadata": {
    "accelerator": "GPU",
    "colab": {
      "gpuType": "T4",
      "provenance": [],
      "authorship_tag": "ABX9TyOlxSSdb+p+1S04NXnIGwSL",
      "include_colab_link": true
    },
    "kernelspec": {
      "display_name": "Python 3",
      "name": "python3"
    },
    "language_info": {
      "name": "python"
    }
  },
  "nbformat": 4,
  "nbformat_minor": 0
}