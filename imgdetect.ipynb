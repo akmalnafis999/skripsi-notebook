{
  "nbformat": 4,
  "nbformat_minor": 0,
  "metadata": {
    "colab": {
      "provenance": [],
      "gpuType": "T4"
    },
    "kernelspec": {
      "name": "python3",
      "display_name": "Python 3"
    },
    "language_info": {
      "name": "python"
    },
    "accelerator": "GPU"
  },
  "cells": [
    {
      "cell_type": "code",
      "execution_count": 1,
      "metadata": {
        "colab": {
          "base_uri": "https://localhost:8080/"
        },
        "id": "msibTo-_ACXs",
        "outputId": "79aca02e-d0db-4496-f024-def0da3f1986"
      },
      "outputs": [
        {
          "output_type": "stream",
          "name": "stdout",
          "text": [
            "\u001b[2K     \u001b[90m━━━━━━━━━━━━━━━━━━━━━━━━━━━━━━━━━━━━━━━━\u001b[0m \u001b[32m782.8/782.8 kB\u001b[0m \u001b[31m7.2 MB/s\u001b[0m eta \u001b[36m0:00:00\u001b[0m\n",
            "\u001b[2K     \u001b[90m━━━━━━━━━━━━━━━━━━━━━━━━━━━━━━━━━━━━━━━━\u001b[0m \u001b[32m21.3/21.3 MB\u001b[0m \u001b[31m60.6 MB/s\u001b[0m eta \u001b[36m0:00:00\u001b[0m\n",
            "Reading package lists... Done\n",
            "Building dependency tree... Done\n",
            "Reading state information... Done\n",
            "locales is already the newest version (2.35-0ubuntu3.8).\n",
            "0 upgraded, 0 newly installed, 0 to remove and 45 not upgraded.\n",
            "Generating locales (this might take a while)...\n",
            "  en_US.UTF-8... done\n",
            "Generation complete.\n"
          ]
        }
      ],
      "source": [
        "!pip install ultralytics --quiet\n",
        "!apt-get install -y locales\n",
        "!locale-gen en_US.UTF-8\n",
        "!update-locale LANG=en_US.UTF-8"
      ]
    },
    {
      "cell_type": "code",
      "source": [
        "import os\n",
        "import psutil\n",
        "import torch\n",
        "\n",
        "from ultralytics import YOLO"
      ],
      "metadata": {
        "id": "yI7jtYvfAJuT"
      },
      "execution_count": 2,
      "outputs": []
    },
    {
      "cell_type": "code",
      "source": [
        "os.environ['LC_ALL'] = 'en_US.UTF-8'\n",
        "os.environ['LANG'] = 'en_US.UTF-8'\n",
        "\n",
        "device  = torch.device('cuda:0')\n",
        "dir     = '/content/drive/MyDrive/imgdetect/datasets'\n",
        "model   = YOLO(\"yolov8n.yaml\")"
      ],
      "metadata": {
        "id": "JXXN_Mo-AL4U"
      },
      "execution_count": 3,
      "outputs": []
    },
    {
      "cell_type": "code",
      "source": [
        "# Train & val with A1 Datasets\n",
        "results_A1 = model.train(data=os.path.join(dir, \"A1/train-config-a1.yaml\"), epochs=30)"
      ],
      "metadata": {
        "id": "CSEctd1-ARio"
      },
      "execution_count": null,
      "outputs": []
    },
    {
      "cell_type": "code",
      "source": [
        "A1model = YOLO('/content/drive/MyDrive/imgdetect/runs-A1/detect/train/weights/best.pt')\n",
        "A1togpu = A1model.to(device)\n",
        "\n",
        "# Testing with A1 Datasets\n",
        "A1_testing_results = A1togpu.val(data=os.path.join(dir, \"A1/testing-config-a1.yaml\"))\n",
        "\n",
        "def a1_print_system_report():\n",
        "    # CPU usage\n",
        "    cpu_usage = psutil.cpu_percent()\n",
        "    print(f\"CPU Usage: {cpu_usage}%\")\n",
        "\n",
        "    # Memory usage\n",
        "    memory = psutil.virtual_memory()\n",
        "    memory_usage = memory.percent\n",
        "    memory_bytes_used = memory.used\n",
        "    memory_bytes_total = memory.total\n",
        "    memory_mb_used = memory_bytes_used / (1024 ** 2)  # Convert bytes to MB\n",
        "    memory_mb_total = memory_bytes_total / (1024 ** 2)  # Convert bytes to MB\n",
        "    print(f\"Memory Usage: {memory_usage}% ({memory_mb_used:.2f} MB used out of {memory_mb_total:.2f} MB)\")\n",
        "\n",
        "    # GPU usage\n",
        "    device = torch.cuda.current_device()\n",
        "    gpu_memory_total = torch.cuda.get_device_properties(device).total_memory / 1024**2  # in MB\n",
        "    gpu_memory_used = torch.cuda.memory_allocated(device) / 1024**2  # in MB\n",
        "    gpu_percent = (gpu_memory_used / gpu_memory_total) * 100\n",
        "    print(f\"GPU Usage: {gpu_percent:.2f}% ({gpu_memory_used:.2f} MB used out of {gpu_memory_total:.2f} MB)\")\n",
        "\n",
        "# Example usage\n",
        "a1_print_system_report()\n",
        "\n",
        "# Testing with A2 Datasets\n",
        "A2_testing_results = A1togpu.val(data=os.path.join(dir, \"A2/testing-config-a2.yaml\"))\n",
        "\n",
        "def a2_print_system_report():\n",
        "    # CPU usage\n",
        "    cpu_usage = psutil.cpu_percent()\n",
        "    print(f\"CPU Usage: {cpu_usage}%\")\n",
        "\n",
        "    # Memory usage\n",
        "    memory = psutil.virtual_memory()\n",
        "    memory_usage = memory.percent\n",
        "    memory_bytes_used = memory.used\n",
        "    memory_bytes_total = memory.total\n",
        "    memory_mb_used = memory_bytes_used / (1024 ** 2)  # Convert bytes to MB\n",
        "    memory_mb_total = memory_bytes_total / (1024 ** 2)  # Convert bytes to MB\n",
        "    print(f\"Memory Usage: {memory_usage}% ({memory_mb_used:.2f} MB used out of {memory_mb_total:.2f} MB)\")\n",
        "\n",
        "    # GPU usage\n",
        "    device = torch.cuda.current_device()\n",
        "    gpu_memory_total = torch.cuda.get_device_properties(device).total_memory / 1024**2  # in MB\n",
        "    gpu_memory_used = torch.cuda.memory_allocated(device) / 1024**2  # in MB\n",
        "    gpu_percent = (gpu_memory_used / gpu_memory_total) * 100\n",
        "    print(f\"GPU Usage: {gpu_percent:.2f}% ({gpu_memory_used:.2f} MB used out of {gpu_memory_total:.2f} MB)\")\n",
        "\n",
        "# Example usage\n",
        "a2_print_system_report()"
      ],
      "metadata": {
        "colab": {
          "base_uri": "https://localhost:8080/"
        },
        "id": "b2eJqvIbCU2n",
        "outputId": "ce723284-c831-4c2b-dcec-b138b7d8ce6b"
      },
      "execution_count": null,
      "outputs": [
        {
          "output_type": "stream",
          "name": "stdout",
          "text": [
            "YOLOv8n summary (fused): 168 layers, 3006233 parameters, 0 gradients, 8.1 GFLOPs\n",
            "Downloading https://ultralytics.com/assets/Arial.ttf to '/root/.config/Ultralytics/Arial.ttf'...\n"
          ]
        },
        {
          "output_type": "stream",
          "name": "stderr",
          "text": [
            "100%|██████████| 755k/755k [00:00<00:00, 27.0MB/s]\n",
            "\u001b[34m\u001b[1mval: \u001b[0mScanning /content/drive/MyDrive/imgdetect/datasets/A1/labels/test.cache... 39 images, 0 backgrounds, 0 corrupt: 100%|██████████| 39/39 [00:00<?, ?it/s]\n",
            "                 Class     Images  Instances      Box(P          R      mAP50  mAP50-95): 100%|██████████| 3/3 [00:10<00:00,  3.48s/it]\n"
          ]
        },
        {
          "output_type": "stream",
          "name": "stdout",
          "text": [
            "                   all         39         39      0.704      0.742      0.793      0.524\n",
            "                supine         13         13      0.839      0.846      0.913      0.576\n",
            "                  left         13         13      0.497      0.846      0.768      0.549\n",
            "                 right         13         13      0.776      0.534      0.698      0.446\n",
            "Speed: 9.8ms preprocess, 20.6ms inference, 0.0ms loss, 28.3ms postprocess per image\n",
            "Results saved to \u001b[1mruns/detect/val2\u001b[0m\n",
            "CPU Usage: 22.8%\n",
            "Memory Usage: 19.4% (2113.32 MB used out of 12978.97 MB)\n",
            "GPU Usage: 0.37% (55.38 MB used out of 15102.06 MB)\n"
          ]
        },
        {
          "output_type": "stream",
          "name": "stderr",
          "text": [
            "\u001b[34m\u001b[1mval: \u001b[0mScanning /content/drive/MyDrive/imgdetect/datasets/A2/labels/test.cache... 45 images, 0 backgrounds, 0 corrupt: 100%|██████████| 45/45 [00:00<?, ?it/s]\n",
            "                 Class     Images  Instances      Box(P          R      mAP50  mAP50-95): 100%|██████████| 3/3 [00:12<00:00,  4.32s/it]\n"
          ]
        },
        {
          "output_type": "stream",
          "name": "stdout",
          "text": [
            "                   all         45         45      0.256      0.356      0.332      0.101\n",
            "                supine         15         15      0.336      0.667       0.42      0.113\n",
            "                  left         15         15      0.345      0.333      0.421      0.151\n",
            "                 right         15         15     0.0866     0.0667      0.155     0.0403\n",
            "Speed: 2.7ms preprocess, 4.4ms inference, 0.0ms loss, 2.3ms postprocess per image\n",
            "Results saved to \u001b[1mruns/detect/val3\u001b[0m\n",
            "CPU Usage: 37.1%\n",
            "Memory Usage: 22.2% (2414.51 MB used out of 12978.97 MB)\n",
            "GPU Usage: 0.37% (55.69 MB used out of 15102.06 MB)\n"
          ]
        }
      ]
    },
    {
      "cell_type": "code",
      "source": [
        "# Train & val with A2+A1 Datasets\n",
        "results_A2A1 = model.train(data=os.path.join(dir, \"A2+A1/train-config-a2a1.yaml\"), epochs=30)"
      ],
      "metadata": {
        "id": "B_qC4hKVBBPB"
      },
      "execution_count": null,
      "outputs": []
    },
    {
      "cell_type": "code",
      "source": [
        "A1A2model = YOLO('/content/drive/MyDrive/imgdetect/runs-A2-A1/detect/train2/weights/best.pt')\n",
        "A1A2togpu = A1A2model.to(device)\n",
        "\n",
        "# Testing with A1 Datasets\n",
        "testing_results_A1 = A1A2togpu.val(data=os.path.join(dir, \"A1/testing-config-a1.yaml\"))\n",
        "\n",
        "def print_system_report_a1():\n",
        "    # CPU usage\n",
        "    cpu_usage = psutil.cpu_percent()\n",
        "    print(f\"CPU Usage: {cpu_usage}%\")\n",
        "\n",
        "    # Memory usage\n",
        "    memory = psutil.virtual_memory()\n",
        "    memory_usage = memory.percent\n",
        "    memory_bytes_used = memory.used\n",
        "    memory_bytes_total = memory.total\n",
        "    memory_mb_used = memory_bytes_used / (1024 ** 2)  # Convert bytes to MB\n",
        "    memory_mb_total = memory_bytes_total / (1024 ** 2)  # Convert bytes to MB\n",
        "    print(f\"Memory Usage: {memory_usage}% ({memory_mb_used:.2f} MB used out of {memory_mb_total:.2f} MB)\")\n",
        "\n",
        "    # GPU usage\n",
        "    device = torch.cuda.current_device()\n",
        "    gpu_memory_total = torch.cuda.get_device_properties(device).total_memory / 1024**2  # in MB\n",
        "    gpu_memory_used = torch.cuda.memory_allocated(device) / 1024**2  # in MB\n",
        "    gpu_percent = (gpu_memory_used / gpu_memory_total) * 100\n",
        "    print(f\"GPU Usage: {gpu_percent:.2f}% ({gpu_memory_used:.2f} MB used out of {gpu_memory_total:.2f} MB)\")\n",
        "\n",
        "# Example usage\n",
        "print_system_report_a1()\n",
        "\n",
        "# Testing with A2 Datasets\n",
        "testing_results_A2 = A1A2togpu.val(data=os.path.join(dir, \"A2/testing-config-a2.yaml\"))\n",
        "\n",
        "def print_system_report_a2():\n",
        "    # CPU usage\n",
        "    cpu_usage = psutil.cpu_percent()\n",
        "    print(f\"CPU Usage: {cpu_usage}%\")\n",
        "\n",
        "    # Memory usage\n",
        "    memory = psutil.virtual_memory()\n",
        "    memory_usage = memory.percent\n",
        "    memory_bytes_used = memory.used\n",
        "    memory_bytes_total = memory.total\n",
        "    memory_mb_used = memory_bytes_used / (1024 ** 2)  # Convert bytes to MB\n",
        "    memory_mb_total = memory_bytes_total / (1024 ** 2)  # Convert bytes to MB\n",
        "    print(f\"Memory Usage: {memory_usage}% ({memory_mb_used:.2f} MB used out of {memory_mb_total:.2f} MB)\")\n",
        "\n",
        "    # GPU usage\n",
        "    device = torch.cuda.current_device()\n",
        "    gpu_memory_total = torch.cuda.get_device_properties(device).total_memory / 1024**2  # in MB\n",
        "    gpu_memory_used = torch.cuda.memory_allocated(device) / 1024**2  # in MB\n",
        "    gpu_percent = (gpu_memory_used / gpu_memory_total) * 100\n",
        "    print(f\"GPU Usage: {gpu_percent:.2f}% ({gpu_memory_used:.2f} MB used out of {gpu_memory_total:.2f} MB)\")\n",
        "\n",
        "# Example usage\n",
        "print_system_report_a2()\n",
        "\n",
        "# Testing with A2+A1 Datasets\n",
        "testing_results_A2_A1 = A1A2togpu.val(data=os.path.join(dir, \"A2+A1/testing-config-a2a1.yaml\"))\n",
        "\n",
        "def print_system_report_a2a1():\n",
        "    # CPU usage\n",
        "    cpu_usage = psutil.cpu_percent()\n",
        "    print(f\"CPU Usage: {cpu_usage}%\")\n",
        "\n",
        "    # Memory usage\n",
        "    memory = psutil.virtual_memory()\n",
        "    memory_usage = memory.percent\n",
        "    memory_bytes_used = memory.used\n",
        "    memory_bytes_total = memory.total\n",
        "    memory_mb_used = memory_bytes_used / (1024 ** 2)  # Convert bytes to MB\n",
        "    memory_mb_total = memory_bytes_total / (1024 ** 2)  # Convert bytes to MB\n",
        "    print(f\"Memory Usage: {memory_usage}% ({memory_mb_used:.2f} MB used out of {memory_mb_total:.2f} MB)\")\n",
        "\n",
        "    # GPU usage\n",
        "    device = torch.cuda.current_device()\n",
        "    gpu_memory_total = torch.cuda.get_device_properties(device).total_memory / 1024**2  # in MB\n",
        "    gpu_memory_used = torch.cuda.memory_allocated(device) / 1024**2  # in MB\n",
        "    gpu_percent = (gpu_memory_used / gpu_memory_total) * 100\n",
        "    print(f\"GPU Usage: {gpu_percent:.2f}% ({gpu_memory_used:.2f} MB used out of {gpu_memory_total:.2f} MB)\")\n",
        "\n",
        "# Example usage\n",
        "print_system_report_a2a1()"
      ],
      "metadata": {
        "colab": {
          "base_uri": "https://localhost:8080/"
        },
        "id": "tB2T6G7YCfoM",
        "outputId": "0ad82c76-5191-4f73-b48c-2b31b7ed3b31"
      },
      "execution_count": null,
      "outputs": [
        {
          "output_type": "stream",
          "name": "stdout",
          "text": [
            "YOLOv8n summary (fused): 168 layers, 3006233 parameters, 0 gradients, 8.1 GFLOPs\n"
          ]
        },
        {
          "output_type": "stream",
          "name": "stderr",
          "text": [
            "\u001b[34m\u001b[1mval: \u001b[0mScanning /content/drive/MyDrive/imgdetect/datasets/A1/labels/test.cache... 39 images, 0 backgrounds, 0 corrupt: 100%|██████████| 39/39 [00:00<?, ?it/s]\n",
            "                 Class     Images  Instances      Box(P          R      mAP50  mAP50-95): 100%|██████████| 3/3 [00:01<00:00,  1.56it/s]\n"
          ]
        },
        {
          "output_type": "stream",
          "name": "stdout",
          "text": [
            "                   all         39         39      0.588      0.718      0.716      0.545\n",
            "                supine         13         13      0.896      0.846      0.964      0.764\n",
            "                  left         13         13      0.522      0.769      0.633      0.484\n",
            "                 right         13         13      0.345      0.538       0.55      0.387\n",
            "Speed: 6.9ms preprocess, 4.0ms inference, 0.0ms loss, 4.8ms postprocess per image\n",
            "Results saved to \u001b[1mruns/detect/val7\u001b[0m\n",
            "CPU Usage: 30.4%\n",
            "Memory Usage: 32.4% (3539.53 MB used out of 12978.97 MB)\n",
            "GPU Usage: 0.60% (90.46 MB used out of 15102.06 MB)\n"
          ]
        },
        {
          "output_type": "stream",
          "name": "stderr",
          "text": [
            "\u001b[34m\u001b[1mval: \u001b[0mScanning /content/drive/MyDrive/imgdetect/datasets/A2/labels/test.cache... 45 images, 0 backgrounds, 0 corrupt: 100%|██████████| 45/45 [00:00<?, ?it/s]\n",
            "                 Class     Images  Instances      Box(P          R      mAP50  mAP50-95): 100%|██████████| 3/3 [00:02<00:00,  1.21it/s]\n"
          ]
        },
        {
          "output_type": "stream",
          "name": "stdout",
          "text": [
            "                   all         45         45      0.535      0.889      0.683      0.464\n",
            "                supine         15         15      0.694      0.867        0.9      0.538\n",
            "                  left         15         15      0.489      0.933      0.511      0.407\n",
            "                 right         15         15      0.423      0.867      0.638      0.446\n",
            "Speed: 10.3ms preprocess, 7.0ms inference, 0.0ms loss, 4.5ms postprocess per image\n",
            "Results saved to \u001b[1mruns/detect/val8\u001b[0m\n",
            "CPU Usage: 85.3%\n",
            "Memory Usage: 35.5% (3877.71 MB used out of 12978.97 MB)\n",
            "GPU Usage: 0.60% (90.55 MB used out of 15102.06 MB)\n"
          ]
        },
        {
          "output_type": "stream",
          "name": "stderr",
          "text": [
            "\u001b[34m\u001b[1mval: \u001b[0mScanning /content/drive/MyDrive/imgdetect/datasets/A2+A1/labels/test.cache... 84 images, 0 backgrounds, 0 corrupt: 100%|██████████| 84/84 [00:00<?, ?it/s]\n",
            "                 Class     Images  Instances      Box(P          R      mAP50  mAP50-95): 100%|██████████| 6/6 [00:14<00:00,  2.47s/it]\n"
          ]
        },
        {
          "output_type": "stream",
          "name": "stdout",
          "text": [
            "                   all         84         84      0.569      0.789      0.685      0.487\n",
            "                supine         28         28      0.855      0.842      0.921      0.627\n",
            "                  left         28         28      0.467      0.812      0.545      0.423\n",
            "                 right         28         28      0.384      0.713       0.59       0.41\n",
            "Speed: 3.8ms preprocess, 4.1ms inference, 0.0ms loss, 1.5ms postprocess per image\n",
            "Results saved to \u001b[1mruns/detect/val9\u001b[0m\n",
            "CPU Usage: 44.0%\n",
            "Memory Usage: 38.5% (4197.79 MB used out of 12978.97 MB)\n",
            "GPU Usage: 0.60% (90.73 MB used out of 15102.06 MB)\n"
          ]
        }
      ]
    },
    {
      "cell_type": "code",
      "source": [
        "# Train & val with A2+A1 Aug Datasets\n",
        "results_aug_A2A1 = model.train(data=os.path.join(dir, \"A2+A1/train-config-a2a1.yaml\"), epochs=30, flipud=0.5, fliplr=0.5, degrees=90)"
      ],
      "metadata": {
        "colab": {
          "base_uri": "https://localhost:8080/"
        },
        "id": "r4t81SFrMJBc",
        "outputId": "087af2d8-89b6-42a4-c9e2-b962681a1376"
      },
      "execution_count": null,
      "outputs": [
        {
          "output_type": "stream",
          "name": "stdout",
          "text": [
            "Ultralytics YOLOv8.2.35 🚀 Python-3.10.12 torch-2.3.0+cu121 CUDA:0 (Tesla T4, 15102MiB)\n",
            "\u001b[34m\u001b[1mengine/trainer: \u001b[0mtask=detect, mode=train, model=yolov8n.yaml, data=/content/drive/MyDrive/imgdetect/datasets/A2+A1/train-config-a2a1.yaml, epochs=30, time=None, patience=100, batch=16, imgsz=640, save=True, save_period=-1, cache=False, device=None, workers=8, project=None, name=train, exist_ok=False, pretrained=True, optimizer=auto, verbose=True, seed=0, deterministic=True, single_cls=False, rect=False, cos_lr=False, close_mosaic=10, resume=False, amp=True, fraction=1.0, profile=False, freeze=None, multi_scale=False, overlap_mask=True, mask_ratio=4, dropout=0.0, val=True, split=val, save_json=False, save_hybrid=False, conf=None, iou=0.7, max_det=300, half=False, dnn=False, plots=True, source=None, vid_stride=1, stream_buffer=False, visualize=False, augment=False, agnostic_nms=False, classes=None, retina_masks=False, embed=None, show=False, save_frames=False, save_txt=False, save_conf=False, save_crop=False, show_labels=True, show_conf=True, show_boxes=True, line_width=None, format=torchscript, keras=False, optimize=False, int8=False, dynamic=False, simplify=False, opset=None, workspace=4, nms=False, lr0=0.01, lrf=0.01, momentum=0.937, weight_decay=0.0005, warmup_epochs=3.0, warmup_momentum=0.8, warmup_bias_lr=0.1, box=7.5, cls=0.5, dfl=1.5, pose=12.0, kobj=1.0, label_smoothing=0.0, nbs=64, hsv_h=0.015, hsv_s=0.7, hsv_v=0.4, degrees=90, translate=0.1, scale=0.5, shear=0.0, perspective=0.0, flipud=0.5, fliplr=0.5, bgr=0.0, mosaic=1.0, mixup=0.0, copy_paste=0.0, auto_augment=randaugment, erasing=0.4, crop_fraction=1.0, cfg=None, tracker=botsort.yaml, save_dir=runs/detect/train\n",
            "Overriding model.yaml nc=80 with nc=3\n",
            "\n",
            "                   from  n    params  module                                       arguments                     \n",
            "  0                  -1  1       464  ultralytics.nn.modules.conv.Conv             [3, 16, 3, 2]                 \n",
            "  1                  -1  1      4672  ultralytics.nn.modules.conv.Conv             [16, 32, 3, 2]                \n",
            "  2                  -1  1      7360  ultralytics.nn.modules.block.C2f             [32, 32, 1, True]             \n",
            "  3                  -1  1     18560  ultralytics.nn.modules.conv.Conv             [32, 64, 3, 2]                \n",
            "  4                  -1  2     49664  ultralytics.nn.modules.block.C2f             [64, 64, 2, True]             \n",
            "  5                  -1  1     73984  ultralytics.nn.modules.conv.Conv             [64, 128, 3, 2]               \n",
            "  6                  -1  2    197632  ultralytics.nn.modules.block.C2f             [128, 128, 2, True]           \n",
            "  7                  -1  1    295424  ultralytics.nn.modules.conv.Conv             [128, 256, 3, 2]              \n",
            "  8                  -1  1    460288  ultralytics.nn.modules.block.C2f             [256, 256, 1, True]           \n",
            "  9                  -1  1    164608  ultralytics.nn.modules.block.SPPF            [256, 256, 5]                 \n",
            " 10                  -1  1         0  torch.nn.modules.upsampling.Upsample         [None, 2, 'nearest']          \n",
            " 11             [-1, 6]  1         0  ultralytics.nn.modules.conv.Concat           [1]                           \n",
            " 12                  -1  1    148224  ultralytics.nn.modules.block.C2f             [384, 128, 1]                 \n",
            " 13                  -1  1         0  torch.nn.modules.upsampling.Upsample         [None, 2, 'nearest']          \n",
            " 14             [-1, 4]  1         0  ultralytics.nn.modules.conv.Concat           [1]                           \n",
            " 15                  -1  1     37248  ultralytics.nn.modules.block.C2f             [192, 64, 1]                  \n",
            " 16                  -1  1     36992  ultralytics.nn.modules.conv.Conv             [64, 64, 3, 2]                \n",
            " 17            [-1, 12]  1         0  ultralytics.nn.modules.conv.Concat           [1]                           \n",
            " 18                  -1  1    123648  ultralytics.nn.modules.block.C2f             [192, 128, 1]                 \n",
            " 19                  -1  1    147712  ultralytics.nn.modules.conv.Conv             [128, 128, 3, 2]              \n",
            " 20             [-1, 9]  1         0  ultralytics.nn.modules.conv.Concat           [1]                           \n",
            " 21                  -1  1    493056  ultralytics.nn.modules.block.C2f             [384, 256, 1]                 \n",
            " 22        [15, 18, 21]  1    751897  ultralytics.nn.modules.head.Detect           [3, [64, 128, 256]]           \n",
            "YOLOv8n summary: 225 layers, 3011433 parameters, 3011417 gradients, 8.2 GFLOPs\n",
            "\n",
            "\u001b[34m\u001b[1mTensorBoard: \u001b[0mStart with 'tensorboard --logdir runs/detect/train', view at http://localhost:6006/\n",
            "Freezing layer 'model.22.dfl.conv.weight'\n",
            "\u001b[34m\u001b[1mAMP: \u001b[0mrunning Automatic Mixed Precision (AMP) checks with YOLOv8n...\n",
            "Downloading https://github.com/ultralytics/assets/releases/download/v8.2.0/yolov8n.pt to 'yolov8n.pt'...\n"
          ]
        },
        {
          "output_type": "stream",
          "name": "stderr",
          "text": [
            "100%|██████████| 6.23M/6.23M [00:00<00:00, 100MB/s]\n",
            "/usr/local/lib/python3.10/dist-packages/torch/nn/modules/conv.py:456: UserWarning: Plan failed with a cudnnException: CUDNN_BACKEND_EXECUTION_PLAN_DESCRIPTOR: cudnnFinalize Descriptor Failed cudnn_status: CUDNN_STATUS_NOT_SUPPORTED (Triggered internally at ../aten/src/ATen/native/cudnn/Conv_v8.cpp:919.)\n",
            "  return F.conv2d(input, weight, bias, self.stride,\n"
          ]
        },
        {
          "output_type": "stream",
          "name": "stdout",
          "text": [
            "\u001b[34m\u001b[1mAMP: \u001b[0mchecks passed ✅\n"
          ]
        },
        {
          "output_type": "stream",
          "name": "stderr",
          "text": [
            "\u001b[34m\u001b[1mtrain: \u001b[0mScanning /content/drive/MyDrive/imgdetect/datasets/A2+A1/labels/train.cache... 342 images, 0 backgrounds, 0 corrupt: 100%|██████████| 342/342 [00:00<?, ?it/s]\n"
          ]
        },
        {
          "output_type": "stream",
          "name": "stdout",
          "text": [
            "\u001b[34m\u001b[1malbumentations: \u001b[0mBlur(p=0.01, blur_limit=(3, 7)), MedianBlur(p=0.01, blur_limit=(3, 7)), ToGray(p=0.01), CLAHE(p=0.01, clip_limit=(1, 4.0), tile_grid_size=(8, 8))\n"
          ]
        },
        {
          "output_type": "stream",
          "name": "stderr",
          "text": [
            "/usr/lib/python3.10/multiprocessing/popen_fork.py:66: RuntimeWarning: os.fork() was called. os.fork() is incompatible with multithreaded code, and JAX is multithreaded, so this will likely lead to a deadlock.\n",
            "  self.pid = os.fork()\n",
            "\u001b[34m\u001b[1mval: \u001b[0mScanning /content/drive/MyDrive/imgdetect/datasets/A2+A1/labels/val.cache... 90 images, 0 backgrounds, 0 corrupt: 100%|██████████| 90/90 [00:00<?, ?it/s]\n"
          ]
        },
        {
          "output_type": "stream",
          "name": "stdout",
          "text": [
            "Plotting labels to runs/detect/train/labels.jpg... \n",
            "\u001b[34m\u001b[1moptimizer:\u001b[0m 'optimizer=auto' found, ignoring 'lr0=0.01' and 'momentum=0.937' and determining best 'optimizer', 'lr0' and 'momentum' automatically... \n",
            "\u001b[34m\u001b[1moptimizer:\u001b[0m AdamW(lr=0.001429, momentum=0.9) with parameter groups 57 weight(decay=0.0), 64 weight(decay=0.0005), 63 bias(decay=0.0)\n",
            "\u001b[34m\u001b[1mTensorBoard: \u001b[0mmodel graph visualization added ✅\n",
            "Image sizes 640 train, 640 val\n",
            "Using 2 dataloader workers\n",
            "Logging results to \u001b[1mruns/detect/train\u001b[0m\n",
            "Starting training for 30 epochs...\n",
            "\n",
            "      Epoch    GPU_mem   box_loss   cls_loss   dfl_loss  Instances       Size\n"
          ]
        },
        {
          "output_type": "stream",
          "name": "stderr",
          "text": [
            "       1/30      2.45G      3.018      3.909      4.251         20        640: 100%|██████████| 22/22 [01:03<00:00,  2.90s/it]\n",
            "                 Class     Images  Instances      Box(P          R      mAP50  mAP50-95):  67%|██████▋   | 2/3 [00:01<00:00,  1.56it/s]/usr/local/lib/python3.10/dist-packages/torch/nn/modules/conv.py:456: UserWarning: Plan failed with a cudnnException: CUDNN_BACKEND_EXECUTION_PLAN_DESCRIPTOR: cudnnFinalize Descriptor Failed cudnn_status: CUDNN_STATUS_NOT_SUPPORTED (Triggered internally at ../aten/src/ATen/native/cudnn/Conv_v8.cpp:919.)\n",
            "  return F.conv2d(input, weight, bias, self.stride,\n",
            "                 Class     Images  Instances      Box(P          R      mAP50  mAP50-95): 100%|██████████| 3/3 [00:02<00:00,  1.37it/s]"
          ]
        },
        {
          "output_type": "stream",
          "name": "stdout",
          "text": [
            "                   all         90         90     0.0045        0.8     0.0229    0.00345\n"
          ]
        },
        {
          "output_type": "stream",
          "name": "stderr",
          "text": [
            "\n"
          ]
        },
        {
          "output_type": "stream",
          "name": "stdout",
          "text": [
            "\n",
            "      Epoch    GPU_mem   box_loss   cls_loss   dfl_loss  Instances       Size\n"
          ]
        },
        {
          "output_type": "stream",
          "name": "stderr",
          "text": [
            "       2/30      2.29G      2.954      3.775      4.131         18        640: 100%|██████████| 22/22 [00:09<00:00,  2.26it/s]\n",
            "                 Class     Images  Instances      Box(P          R      mAP50  mAP50-95): 100%|██████████| 3/3 [00:01<00:00,  2.36it/s]"
          ]
        },
        {
          "output_type": "stream",
          "name": "stdout",
          "text": [
            "                   all         90         90    0.00477      0.811     0.0128    0.00274\n"
          ]
        },
        {
          "output_type": "stream",
          "name": "stderr",
          "text": [
            "\n"
          ]
        },
        {
          "output_type": "stream",
          "name": "stdout",
          "text": [
            "\n",
            "      Epoch    GPU_mem   box_loss   cls_loss   dfl_loss  Instances       Size\n"
          ]
        },
        {
          "output_type": "stream",
          "name": "stderr",
          "text": [
            "       3/30      2.28G      2.972      3.657      3.927         11        640: 100%|██████████| 22/22 [00:06<00:00,  3.62it/s]\n",
            "                 Class     Images  Instances      Box(P          R      mAP50  mAP50-95): 100%|██████████| 3/3 [00:01<00:00,  2.64it/s]"
          ]
        },
        {
          "output_type": "stream",
          "name": "stdout",
          "text": [
            "                   all         90         90    0.00605        0.8      0.015    0.00234\n"
          ]
        },
        {
          "output_type": "stream",
          "name": "stderr",
          "text": [
            "\n"
          ]
        },
        {
          "output_type": "stream",
          "name": "stdout",
          "text": [
            "\n",
            "      Epoch    GPU_mem   box_loss   cls_loss   dfl_loss  Instances       Size\n"
          ]
        },
        {
          "output_type": "stream",
          "name": "stderr",
          "text": [
            "       4/30      2.29G      2.888      3.547      3.675         20        640: 100%|██████████| 22/22 [00:10<00:00,  2.12it/s]\n",
            "                 Class     Images  Instances      Box(P          R      mAP50  mAP50-95): 100%|██████████| 3/3 [00:01<00:00,  1.55it/s]"
          ]
        },
        {
          "output_type": "stream",
          "name": "stdout",
          "text": [
            "                   all         90         90     0.0233      0.178     0.0141    0.00246\n"
          ]
        },
        {
          "output_type": "stream",
          "name": "stderr",
          "text": [
            "\n"
          ]
        },
        {
          "output_type": "stream",
          "name": "stdout",
          "text": [
            "\n",
            "      Epoch    GPU_mem   box_loss   cls_loss   dfl_loss  Instances       Size\n"
          ]
        },
        {
          "output_type": "stream",
          "name": "stderr",
          "text": [
            "       5/30      2.29G       2.76      3.461      3.478         18        640: 100%|██████████| 22/22 [00:07<00:00,  2.90it/s]\n",
            "                 Class     Images  Instances      Box(P          R      mAP50  mAP50-95): 100%|██████████| 3/3 [00:01<00:00,  2.60it/s]"
          ]
        },
        {
          "output_type": "stream",
          "name": "stdout",
          "text": [
            "                   all         90         90     0.0567      0.133     0.0399    0.00569\n"
          ]
        },
        {
          "output_type": "stream",
          "name": "stderr",
          "text": [
            "\n"
          ]
        },
        {
          "output_type": "stream",
          "name": "stdout",
          "text": [
            "\n",
            "      Epoch    GPU_mem   box_loss   cls_loss   dfl_loss  Instances       Size\n"
          ]
        },
        {
          "output_type": "stream",
          "name": "stderr",
          "text": [
            "       6/30      2.29G      2.647      3.236      3.304         20        640: 100%|██████████| 22/22 [00:06<00:00,  3.20it/s]\n",
            "                 Class     Images  Instances      Box(P          R      mAP50  mAP50-95): 100%|██████████| 3/3 [00:01<00:00,  1.67it/s]"
          ]
        },
        {
          "output_type": "stream",
          "name": "stdout",
          "text": [
            "                   all         90         90     0.0236      0.489     0.0281    0.00444\n"
          ]
        },
        {
          "output_type": "stream",
          "name": "stderr",
          "text": [
            "\n"
          ]
        },
        {
          "output_type": "stream",
          "name": "stdout",
          "text": [
            "\n",
            "      Epoch    GPU_mem   box_loss   cls_loss   dfl_loss  Instances       Size\n"
          ]
        },
        {
          "output_type": "stream",
          "name": "stderr",
          "text": [
            "       7/30      2.29G      2.686      3.139       3.23         18        640: 100%|██████████| 22/22 [00:10<00:00,  2.20it/s]\n",
            "                 Class     Images  Instances      Box(P          R      mAP50  mAP50-95): 100%|██████████| 3/3 [00:02<00:00,  1.42it/s]"
          ]
        },
        {
          "output_type": "stream",
          "name": "stdout",
          "text": [
            "                   all         90         90     0.0246      0.178     0.0331     0.0062\n"
          ]
        },
        {
          "output_type": "stream",
          "name": "stderr",
          "text": [
            "\n"
          ]
        },
        {
          "output_type": "stream",
          "name": "stdout",
          "text": [
            "\n",
            "      Epoch    GPU_mem   box_loss   cls_loss   dfl_loss  Instances       Size\n"
          ]
        },
        {
          "output_type": "stream",
          "name": "stderr",
          "text": [
            "       8/30      2.29G      2.533       3.02      3.125         17        640: 100%|██████████| 22/22 [00:05<00:00,  3.69it/s]\n",
            "                 Class     Images  Instances      Box(P          R      mAP50  mAP50-95): 100%|██████████| 3/3 [00:01<00:00,  2.96it/s]"
          ]
        },
        {
          "output_type": "stream",
          "name": "stdout",
          "text": [
            "                   all         90         90      0.029     0.0778     0.0206    0.00351\n"
          ]
        },
        {
          "output_type": "stream",
          "name": "stderr",
          "text": [
            "\n"
          ]
        },
        {
          "output_type": "stream",
          "name": "stdout",
          "text": [
            "\n",
            "      Epoch    GPU_mem   box_loss   cls_loss   dfl_loss  Instances       Size\n"
          ]
        },
        {
          "output_type": "stream",
          "name": "stderr",
          "text": [
            "       9/30      2.29G      2.426      2.932      3.059         21        640: 100%|██████████| 22/22 [00:08<00:00,  2.51it/s]\n",
            "                 Class     Images  Instances      Box(P          R      mAP50  mAP50-95): 100%|██████████| 3/3 [00:02<00:00,  1.19it/s]"
          ]
        },
        {
          "output_type": "stream",
          "name": "stdout",
          "text": [
            "                   all         90         90     0.0465        0.2     0.0505    0.00698\n"
          ]
        },
        {
          "output_type": "stream",
          "name": "stderr",
          "text": [
            "\n"
          ]
        },
        {
          "output_type": "stream",
          "name": "stdout",
          "text": [
            "\n",
            "      Epoch    GPU_mem   box_loss   cls_loss   dfl_loss  Instances       Size\n"
          ]
        },
        {
          "output_type": "stream",
          "name": "stderr",
          "text": [
            "      10/30      2.29G      2.342      2.846      2.987         15        640: 100%|██████████| 22/22 [00:10<00:00,  2.08it/s]\n",
            "                 Class     Images  Instances      Box(P          R      mAP50  mAP50-95): 100%|██████████| 3/3 [00:01<00:00,  2.03it/s]"
          ]
        },
        {
          "output_type": "stream",
          "name": "stdout",
          "text": [
            "                   all         90         90      0.102      0.443     0.0896     0.0149\n"
          ]
        },
        {
          "output_type": "stream",
          "name": "stderr",
          "text": [
            "\n"
          ]
        },
        {
          "output_type": "stream",
          "name": "stdout",
          "text": [
            "\n",
            "      Epoch    GPU_mem   box_loss   cls_loss   dfl_loss  Instances       Size\n"
          ]
        },
        {
          "output_type": "stream",
          "name": "stderr",
          "text": [
            "      11/30      2.29G      2.292      2.778      2.934         22        640: 100%|██████████| 22/22 [00:10<00:00,  2.03it/s]\n",
            "                 Class     Images  Instances      Box(P          R      mAP50  mAP50-95): 100%|██████████| 3/3 [00:02<00:00,  1.41it/s]"
          ]
        },
        {
          "output_type": "stream",
          "name": "stdout",
          "text": [
            "                   all         90         90      0.043      0.256     0.0506    0.00742\n"
          ]
        },
        {
          "output_type": "stream",
          "name": "stderr",
          "text": [
            "\n"
          ]
        },
        {
          "output_type": "stream",
          "name": "stdout",
          "text": [
            "\n",
            "      Epoch    GPU_mem   box_loss   cls_loss   dfl_loss  Instances       Size\n"
          ]
        },
        {
          "output_type": "stream",
          "name": "stderr",
          "text": [
            "      12/30      2.29G      2.182       2.71      2.824         17        640: 100%|██████████| 22/22 [00:10<00:00,  2.04it/s]\n",
            "                 Class     Images  Instances      Box(P          R      mAP50  mAP50-95): 100%|██████████| 3/3 [00:02<00:00,  1.37it/s]"
          ]
        },
        {
          "output_type": "stream",
          "name": "stdout",
          "text": [
            "                   all         90         90      0.118      0.211      0.113     0.0192\n"
          ]
        },
        {
          "output_type": "stream",
          "name": "stderr",
          "text": [
            "\n"
          ]
        },
        {
          "output_type": "stream",
          "name": "stdout",
          "text": [
            "\n",
            "      Epoch    GPU_mem   box_loss   cls_loss   dfl_loss  Instances       Size\n"
          ]
        },
        {
          "output_type": "stream",
          "name": "stderr",
          "text": [
            "      13/30      2.29G      2.114      2.678       2.76         16        640: 100%|██████████| 22/22 [00:05<00:00,  3.71it/s]\n",
            "                 Class     Images  Instances      Box(P          R      mAP50  mAP50-95): 100%|██████████| 3/3 [00:01<00:00,  2.65it/s]"
          ]
        },
        {
          "output_type": "stream",
          "name": "stdout",
          "text": [
            "                   all         90         90    0.00594      0.967       0.18     0.0472\n"
          ]
        },
        {
          "output_type": "stream",
          "name": "stderr",
          "text": [
            "\n"
          ]
        },
        {
          "output_type": "stream",
          "name": "stdout",
          "text": [
            "\n",
            "      Epoch    GPU_mem   box_loss   cls_loss   dfl_loss  Instances       Size\n"
          ]
        },
        {
          "output_type": "stream",
          "name": "stderr",
          "text": [
            "      14/30      2.29G      2.055       2.64       2.72         18        640: 100%|██████████| 22/22 [00:08<00:00,  2.50it/s]\n",
            "                 Class     Images  Instances      Box(P          R      mAP50  mAP50-95): 100%|██████████| 3/3 [00:02<00:00,  1.26it/s]"
          ]
        },
        {
          "output_type": "stream",
          "name": "stdout",
          "text": [
            "                   all         90         90      0.204      0.411      0.188     0.0364\n"
          ]
        },
        {
          "output_type": "stream",
          "name": "stderr",
          "text": [
            "\n"
          ]
        },
        {
          "output_type": "stream",
          "name": "stdout",
          "text": [
            "\n",
            "      Epoch    GPU_mem   box_loss   cls_loss   dfl_loss  Instances       Size\n"
          ]
        },
        {
          "output_type": "stream",
          "name": "stderr",
          "text": [
            "      15/30      2.29G      2.083      2.576      2.677         20        640: 100%|██████████| 22/22 [00:09<00:00,  2.36it/s]\n",
            "                 Class     Images  Instances      Box(P          R      mAP50  mAP50-95): 100%|██████████| 3/3 [00:01<00:00,  2.41it/s]"
          ]
        },
        {
          "output_type": "stream",
          "name": "stdout",
          "text": [
            "                   all         90         90      0.167      0.368      0.185     0.0431\n"
          ]
        },
        {
          "output_type": "stream",
          "name": "stderr",
          "text": [
            "\n"
          ]
        },
        {
          "output_type": "stream",
          "name": "stdout",
          "text": [
            "\n",
            "      Epoch    GPU_mem   box_loss   cls_loss   dfl_loss  Instances       Size\n"
          ]
        },
        {
          "output_type": "stream",
          "name": "stderr",
          "text": [
            "      16/30      2.29G      2.001      2.505      2.612         21        640: 100%|██████████| 22/22 [00:05<00:00,  3.69it/s]\n",
            "                 Class     Images  Instances      Box(P          R      mAP50  mAP50-95): 100%|██████████| 3/3 [00:01<00:00,  2.93it/s]"
          ]
        },
        {
          "output_type": "stream",
          "name": "stdout",
          "text": [
            "                   all         90         90     0.0062      0.967      0.212     0.0441\n"
          ]
        },
        {
          "output_type": "stream",
          "name": "stderr",
          "text": [
            "\n"
          ]
        },
        {
          "output_type": "stream",
          "name": "stdout",
          "text": [
            "\n",
            "      Epoch    GPU_mem   box_loss   cls_loss   dfl_loss  Instances       Size\n"
          ]
        },
        {
          "output_type": "stream",
          "name": "stderr",
          "text": [
            "      17/30      2.29G      1.979      2.479      2.572         19        640: 100%|██████████| 22/22 [00:10<00:00,  2.17it/s]\n",
            "                 Class     Images  Instances      Box(P          R      mAP50  mAP50-95): 100%|██████████| 3/3 [00:02<00:00,  1.39it/s]"
          ]
        },
        {
          "output_type": "stream",
          "name": "stdout",
          "text": [
            "                   all         90         90     0.0061          1      0.141     0.0338\n"
          ]
        },
        {
          "output_type": "stream",
          "name": "stderr",
          "text": [
            "\n"
          ]
        },
        {
          "output_type": "stream",
          "name": "stdout",
          "text": [
            "\n",
            "      Epoch    GPU_mem   box_loss   cls_loss   dfl_loss  Instances       Size\n"
          ]
        },
        {
          "output_type": "stream",
          "name": "stderr",
          "text": [
            "      18/30      2.29G      1.923      2.423      2.556         15        640: 100%|██████████| 22/22 [00:07<00:00,  2.97it/s]\n",
            "                 Class     Images  Instances      Box(P          R      mAP50  mAP50-95): 100%|██████████| 3/3 [00:01<00:00,  2.63it/s]"
          ]
        },
        {
          "output_type": "stream",
          "name": "stdout",
          "text": [
            "                   all         90         90      0.131      0.444      0.134     0.0277\n"
          ]
        },
        {
          "output_type": "stream",
          "name": "stderr",
          "text": [
            "\n"
          ]
        },
        {
          "output_type": "stream",
          "name": "stdout",
          "text": [
            "\n",
            "      Epoch    GPU_mem   box_loss   cls_loss   dfl_loss  Instances       Size\n"
          ]
        },
        {
          "output_type": "stream",
          "name": "stderr",
          "text": [
            "      19/30      2.29G      1.897      2.356      2.513         21        640: 100%|██████████| 22/22 [00:06<00:00,  3.32it/s]\n",
            "                 Class     Images  Instances      Box(P          R      mAP50  mAP50-95): 100%|██████████| 3/3 [00:01<00:00,  1.90it/s]"
          ]
        },
        {
          "output_type": "stream",
          "name": "stdout",
          "text": [
            "                   all         90         90      0.191      0.567      0.233     0.0476\n"
          ]
        },
        {
          "output_type": "stream",
          "name": "stderr",
          "text": [
            "\n"
          ]
        },
        {
          "output_type": "stream",
          "name": "stdout",
          "text": [
            "\n",
            "      Epoch    GPU_mem   box_loss   cls_loss   dfl_loss  Instances       Size\n"
          ]
        },
        {
          "output_type": "stream",
          "name": "stderr",
          "text": [
            "      20/30      2.29G      1.856      2.352      2.474         18        640: 100%|██████████| 22/22 [00:10<00:00,  2.07it/s]\n",
            "                 Class     Images  Instances      Box(P          R      mAP50  mAP50-95): 100%|██████████| 3/3 [00:01<00:00,  1.53it/s]"
          ]
        },
        {
          "output_type": "stream",
          "name": "stdout",
          "text": [
            "                   all         90         90      0.236      0.607      0.257     0.0607\n"
          ]
        },
        {
          "output_type": "stream",
          "name": "stderr",
          "text": [
            "\n"
          ]
        },
        {
          "output_type": "stream",
          "name": "stdout",
          "text": [
            "Closing dataloader mosaic\n",
            "\u001b[34m\u001b[1malbumentations: \u001b[0mBlur(p=0.01, blur_limit=(3, 7)), MedianBlur(p=0.01, blur_limit=(3, 7)), ToGray(p=0.01), CLAHE(p=0.01, clip_limit=(1, 4.0), tile_grid_size=(8, 8))\n"
          ]
        },
        {
          "output_type": "stream",
          "name": "stderr",
          "text": [
            "/usr/lib/python3.10/multiprocessing/popen_fork.py:66: RuntimeWarning: os.fork() was called. os.fork() is incompatible with multithreaded code, and JAX is multithreaded, so this will likely lead to a deadlock.\n",
            "  self.pid = os.fork()\n"
          ]
        },
        {
          "output_type": "stream",
          "name": "stdout",
          "text": [
            "\n",
            "      Epoch    GPU_mem   box_loss   cls_loss   dfl_loss  Instances       Size\n"
          ]
        },
        {
          "output_type": "stream",
          "name": "stderr",
          "text": [
            "      21/30      2.42G      1.871       3.05      2.689          6        640: 100%|██████████| 22/22 [00:08<00:00,  2.68it/s]\n",
            "                 Class     Images  Instances      Box(P          R      mAP50  mAP50-95): 100%|██████████| 3/3 [00:01<00:00,  2.15it/s]"
          ]
        },
        {
          "output_type": "stream",
          "name": "stdout",
          "text": [
            "                   all         90         90       0.16        0.3      0.153     0.0275\n"
          ]
        },
        {
          "output_type": "stream",
          "name": "stderr",
          "text": [
            "\n"
          ]
        },
        {
          "output_type": "stream",
          "name": "stdout",
          "text": [
            "\n",
            "      Epoch    GPU_mem   box_loss   cls_loss   dfl_loss  Instances       Size\n"
          ]
        },
        {
          "output_type": "stream",
          "name": "stderr",
          "text": [
            "      22/30      2.28G      1.683      2.617       2.51          6        640: 100%|██████████| 22/22 [00:09<00:00,  2.29it/s]\n",
            "                 Class     Images  Instances      Box(P          R      mAP50  mAP50-95): 100%|██████████| 3/3 [00:02<00:00,  1.49it/s]"
          ]
        },
        {
          "output_type": "stream",
          "name": "stdout",
          "text": [
            "                   all         90         90      0.186      0.267      0.198     0.0483\n"
          ]
        },
        {
          "output_type": "stream",
          "name": "stderr",
          "text": [
            "\n"
          ]
        },
        {
          "output_type": "stream",
          "name": "stdout",
          "text": [
            "\n",
            "      Epoch    GPU_mem   box_loss   cls_loss   dfl_loss  Instances       Size\n"
          ]
        },
        {
          "output_type": "stream",
          "name": "stderr",
          "text": [
            "      23/30      2.28G      1.644      2.395      2.484          6        640: 100%|██████████| 22/22 [00:06<00:00,  3.27it/s]\n",
            "                 Class     Images  Instances      Box(P          R      mAP50  mAP50-95): 100%|██████████| 3/3 [00:01<00:00,  2.44it/s]"
          ]
        },
        {
          "output_type": "stream",
          "name": "stdout",
          "text": [
            "                   all         90         90      0.265      0.356      0.281     0.0825\n"
          ]
        },
        {
          "output_type": "stream",
          "name": "stderr",
          "text": [
            "\n"
          ]
        },
        {
          "output_type": "stream",
          "name": "stdout",
          "text": [
            "\n",
            "      Epoch    GPU_mem   box_loss   cls_loss   dfl_loss  Instances       Size\n"
          ]
        },
        {
          "output_type": "stream",
          "name": "stderr",
          "text": [
            "      24/30      2.28G      1.587      2.217      2.379          6        640: 100%|██████████| 22/22 [00:06<00:00,  3.35it/s]\n",
            "                 Class     Images  Instances      Box(P          R      mAP50  mAP50-95): 100%|██████████| 3/3 [00:01<00:00,  2.12it/s]"
          ]
        },
        {
          "output_type": "stream",
          "name": "stdout",
          "text": [
            "                   all         90         90     0.0137          1      0.262     0.0822\n"
          ]
        },
        {
          "output_type": "stream",
          "name": "stderr",
          "text": [
            "\n"
          ]
        },
        {
          "output_type": "stream",
          "name": "stdout",
          "text": [
            "\n",
            "      Epoch    GPU_mem   box_loss   cls_loss   dfl_loss  Instances       Size\n"
          ]
        },
        {
          "output_type": "stream",
          "name": "stderr",
          "text": [
            "      25/30      2.28G      1.553      2.157      2.344          6        640: 100%|██████████| 22/22 [00:09<00:00,  2.26it/s]\n",
            "                 Class     Images  Instances      Box(P          R      mAP50  mAP50-95): 100%|██████████| 3/3 [00:02<00:00,  1.39it/s]"
          ]
        },
        {
          "output_type": "stream",
          "name": "stdout",
          "text": [
            "                   all         90         90      0.346       0.75      0.462       0.18\n"
          ]
        },
        {
          "output_type": "stream",
          "name": "stderr",
          "text": [
            "\n"
          ]
        },
        {
          "output_type": "stream",
          "name": "stdout",
          "text": [
            "\n",
            "      Epoch    GPU_mem   box_loss   cls_loss   dfl_loss  Instances       Size\n"
          ]
        },
        {
          "output_type": "stream",
          "name": "stderr",
          "text": [
            "      26/30      2.28G      1.599      2.113      2.373          6        640: 100%|██████████| 22/22 [00:05<00:00,  3.69it/s]\n",
            "                 Class     Images  Instances      Box(P          R      mAP50  mAP50-95): 100%|██████████| 3/3 [00:01<00:00,  2.77it/s]"
          ]
        },
        {
          "output_type": "stream",
          "name": "stdout",
          "text": [
            "                   all         90         90      0.336      0.369      0.345      0.144\n"
          ]
        },
        {
          "output_type": "stream",
          "name": "stderr",
          "text": [
            "\n"
          ]
        },
        {
          "output_type": "stream",
          "name": "stdout",
          "text": [
            "\n",
            "      Epoch    GPU_mem   box_loss   cls_loss   dfl_loss  Instances       Size\n"
          ]
        },
        {
          "output_type": "stream",
          "name": "stderr",
          "text": [
            "      27/30      2.28G      1.539      2.095       2.31          6        640: 100%|██████████| 22/22 [00:07<00:00,  3.04it/s]\n",
            "                 Class     Images  Instances      Box(P          R      mAP50  mAP50-95): 100%|██████████| 3/3 [00:01<00:00,  1.56it/s]"
          ]
        },
        {
          "output_type": "stream",
          "name": "stdout",
          "text": [
            "                   all         90         90      0.372      0.256      0.409      0.182\n"
          ]
        },
        {
          "output_type": "stream",
          "name": "stderr",
          "text": [
            "\n"
          ]
        },
        {
          "output_type": "stream",
          "name": "stdout",
          "text": [
            "\n",
            "      Epoch    GPU_mem   box_loss   cls_loss   dfl_loss  Instances       Size\n"
          ]
        },
        {
          "output_type": "stream",
          "name": "stderr",
          "text": [
            "      28/30      2.28G      1.467      2.005      2.254          6        640: 100%|██████████| 22/22 [00:09<00:00,  2.31it/s]\n",
            "                 Class     Images  Instances      Box(P          R      mAP50  mAP50-95): 100%|██████████| 3/3 [00:01<00:00,  2.14it/s]"
          ]
        },
        {
          "output_type": "stream",
          "name": "stdout",
          "text": [
            "                   all         90         90      0.354      0.237      0.409      0.192\n"
          ]
        },
        {
          "output_type": "stream",
          "name": "stderr",
          "text": [
            "\n"
          ]
        },
        {
          "output_type": "stream",
          "name": "stdout",
          "text": [
            "\n",
            "      Epoch    GPU_mem   box_loss   cls_loss   dfl_loss  Instances       Size\n"
          ]
        },
        {
          "output_type": "stream",
          "name": "stderr",
          "text": [
            "      29/30      2.28G      1.458      2.005      2.259          6        640: 100%|██████████| 22/22 [00:05<00:00,  3.84it/s]\n",
            "                 Class     Images  Instances      Box(P          R      mAP50  mAP50-95): 100%|██████████| 3/3 [00:01<00:00,  2.97it/s]"
          ]
        },
        {
          "output_type": "stream",
          "name": "stdout",
          "text": [
            "                   all         90         90      0.404      0.524      0.442      0.203\n"
          ]
        },
        {
          "output_type": "stream",
          "name": "stderr",
          "text": [
            "\n"
          ]
        },
        {
          "output_type": "stream",
          "name": "stdout",
          "text": [
            "\n",
            "      Epoch    GPU_mem   box_loss   cls_loss   dfl_loss  Instances       Size\n"
          ]
        },
        {
          "output_type": "stream",
          "name": "stderr",
          "text": [
            "      30/30      2.28G      1.459      2.014      2.232          6        640: 100%|██████████| 22/22 [00:08<00:00,  2.52it/s]\n",
            "                 Class     Images  Instances      Box(P          R      mAP50  mAP50-95): 100%|██████████| 3/3 [00:01<00:00,  1.67it/s]"
          ]
        },
        {
          "output_type": "stream",
          "name": "stdout",
          "text": [
            "                   all         90         90      0.331      0.844      0.402      0.161\n"
          ]
        },
        {
          "output_type": "stream",
          "name": "stderr",
          "text": [
            "\n"
          ]
        },
        {
          "output_type": "stream",
          "name": "stdout",
          "text": [
            "\n",
            "30 epochs completed in 0.110 hours.\n",
            "Optimizer stripped from runs/detect/train/weights/last.pt, 6.2MB\n",
            "Optimizer stripped from runs/detect/train/weights/best.pt, 6.2MB\n",
            "\n",
            "Validating runs/detect/train/weights/best.pt...\n",
            "Ultralytics YOLOv8.2.35 🚀 Python-3.10.12 torch-2.3.0+cu121 CUDA:0 (Tesla T4, 15102MiB)\n",
            "YOLOv8n summary (fused): 168 layers, 3006233 parameters, 0 gradients, 8.1 GFLOPs\n"
          ]
        },
        {
          "output_type": "stream",
          "name": "stderr",
          "text": [
            "                 Class     Images  Instances      Box(P          R      mAP50  mAP50-95): 100%|██████████| 3/3 [00:02<00:00,  1.19it/s]\n"
          ]
        },
        {
          "output_type": "stream",
          "name": "stdout",
          "text": [
            "                   all         90         90      0.404      0.524      0.442      0.203\n",
            "                supine         30         30      0.682      0.716      0.632       0.36\n",
            "                  left         30         30      0.255      0.455      0.315      0.118\n",
            "                 right         30         30      0.276        0.4      0.378       0.13\n",
            "Speed: 0.2ms preprocess, 2.4ms inference, 0.0ms loss, 7.9ms postprocess per image\n",
            "Results saved to \u001b[1mruns/detect/train\u001b[0m\n"
          ]
        }
      ]
    },
    {
      "cell_type": "code",
      "source": [
        "AUGmodel = YOLO('/content/drive/MyDrive/imgdetect/runs-AUG-A2A1/detect/train/weights/best.pt')\n",
        "AUGtogpu = AUGmodel.to(device)\n",
        "\n",
        "# Testing with A1 Datasets\n",
        "testing_results_AUG = AUGtogpu.val(data=os.path.join(dir, \"A2+A1/testing-config-a2a1.yaml\"))\n",
        "\n",
        "def print_system_report_AUG():\n",
        "    # CPU usage\n",
        "    cpu_usage = psutil.cpu_percent()\n",
        "    print(f\"CPU Usage: {cpu_usage}%\")\n",
        "\n",
        "    # Memory usage\n",
        "    memory = psutil.virtual_memory()\n",
        "    memory_usage = memory.percent\n",
        "    memory_bytes_used = memory.used\n",
        "    memory_bytes_total = memory.total\n",
        "    memory_mb_used = memory_bytes_used / (1024 ** 2)  # Convert bytes to MB\n",
        "    memory_mb_total = memory_bytes_total / (1024 ** 2)  # Convert bytes to MB\n",
        "    print(f\"Memory Usage: {memory_usage}% ({memory_mb_used:.2f} MB used out of {memory_mb_total:.2f} MB)\")\n",
        "\n",
        "    # GPU usage\n",
        "    device = torch.cuda.current_device()\n",
        "    gpu_memory_total = torch.cuda.get_device_properties(device).total_memory / 1024**2  # in MB\n",
        "    gpu_memory_used = torch.cuda.memory_allocated(device) / 1024**2  # in MB\n",
        "    gpu_percent = (gpu_memory_used / gpu_memory_total) * 100\n",
        "    print(f\"GPU Usage: {gpu_percent:.2f}% ({gpu_memory_used:.2f} MB used out of {gpu_memory_total:.2f} MB)\")\n",
        "\n",
        "# Example usage\n",
        "print_system_report_AUG()"
      ],
      "metadata": {
        "colab": {
          "base_uri": "https://localhost:8080/"
        },
        "id": "VcgzwNroQM-r",
        "outputId": "6dd18a5d-a9ab-4fe4-dc41-8de6bd3a12e7"
      },
      "execution_count": 4,
      "outputs": [
        {
          "output_type": "stream",
          "name": "stdout",
          "text": [
            "YOLOv8n summary (fused): 168 layers, 3006233 parameters, 0 gradients, 8.1 GFLOPs\n",
            "Downloading https://ultralytics.com/assets/Arial.ttf to '/root/.config/Ultralytics/Arial.ttf'...\n"
          ]
        },
        {
          "output_type": "stream",
          "name": "stderr",
          "text": [
            "100%|██████████| 755k/755k [00:00<00:00, 23.5MB/s]\n",
            "\u001b[34m\u001b[1mval: \u001b[0mScanning /content/drive/MyDrive/imgdetect/datasets/A2+A1/labels/test.cache... 84 images, 0 backgrounds, 0 corrupt: 100%|██████████| 84/84 [00:00<?, ?it/s]\n",
            "                 Class     Images  Instances      Box(P          R      mAP50  mAP50-95): 100%|██████████| 6/6 [00:19<00:00,  3.26s/it]\n"
          ]
        },
        {
          "output_type": "stream",
          "name": "stdout",
          "text": [
            "                   all         84         84      0.361      0.452      0.421       0.18\n",
            "                supine         28         28      0.556      0.536      0.587      0.302\n",
            "                  left         28         28      0.227      0.393      0.284      0.101\n",
            "                 right         28         28      0.301      0.429      0.392      0.136\n",
            "Speed: 0.6ms preprocess, 8.3ms inference, 0.0ms loss, 16.3ms postprocess per image\n",
            "Results saved to \u001b[1mruns/detect/val\u001b[0m\n",
            "CPU Usage: 51.3%\n",
            "Memory Usage: 19.4% (2119.94 MB used out of 12978.97 MB)\n",
            "GPU Usage: 0.29% (43.88 MB used out of 15102.06 MB)\n"
          ]
        }
      ]
    },
    {
      "cell_type": "code",
      "source": [
        "!scp -r /content/runs/detect/train '/content/drive/MyDrive/imgdetect/runs-AUG-A2A1/detect/'"
      ],
      "metadata": {
        "id": "9KmMPknLP-RB"
      },
      "execution_count": null,
      "outputs": []
    }
  ]
}